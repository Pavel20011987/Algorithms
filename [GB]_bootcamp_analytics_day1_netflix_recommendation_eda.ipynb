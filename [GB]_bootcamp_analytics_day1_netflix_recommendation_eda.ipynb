{
  "cells": [
    {
      "cell_type": "markdown",
      "metadata": {
        "id": "view-in-github",
        "colab_type": "text"
      },
      "source": [
        "<a href=\"https://colab.research.google.com/github/Pavel20011987/Algorithms/blob/master/%5BGB%5D_bootcamp_analytics_day1_netflix_recommendation_eda.ipynb\" target=\"_parent\"><img src=\"https://colab.research.google.com/assets/colab-badge.svg\" alt=\"Open In Colab\"/></a>"
      ]
    },
    {
      "cell_type": "markdown",
      "source": [
        "## Визуальный анализ данных с помощью Python\n",
        "\n",
        "1. Проанализировать текущий набор данных\n",
        "2. Составить систему рекомендаций для пользователей"
      ],
      "metadata": {
        "id": "WwPOzPqqNGH1"
      }
    },
    {
      "cell_type": "markdown",
      "source": [
        "## Кто я?"
      ],
      "metadata": {
        "id": "t4XTH5nAhkS2"
      }
    },
    {
      "cell_type": "markdown",
      "source": [
        "Я Юлия Пономарева, инженер машинного обучения. Дарую зрение машинам и повышаю выручку компаний.\n",
        "\n",
        "\n",
        "<img src='https://img.huffingtonpost.com/asset/56e1d7211e00008700703bfb.png?cache=g9ZpCoYOAJ&ops=1778_1000' width=500>\n",
        "\n",
        "\n",
        "- Система распознавания товаров и ценников по фотографии\n",
        "- Предсказание выгодной локации для торговой точки\n",
        "- Система расчета рыночной цены объектов недвижимости\n",
        "- Анализ факторов на выручку\n",
        "\n"
      ],
      "metadata": {
        "id": "f2CcoeVWfnty"
      }
    },
    {
      "cell_type": "markdown",
      "source": [
        "## Где мы?\n",
        "\n",
        "Google colab - интерактивная среда разработки jupyter notebook.\n",
        "\n",
        "Если что про него [здесь](https://youtu.be/UenbX_7qYeI) "
      ],
      "metadata": {
        "id": "bJL8nAM8hiAQ"
      }
    },
    {
      "cell_type": "markdown",
      "source": [
        "## Netflix"
      ],
      "metadata": {
        "id": "CWsll_QBh_ke"
      }
    },
    {
      "cell_type": "markdown",
      "metadata": {
        "papermill": {
          "duration": 0.065279,
          "end_time": "2021-02-25T06:29:53.668546",
          "exception": false,
          "start_time": "2021-02-25T06:29:53.603267",
          "status": "completed"
        },
        "tags": [],
        "id": "2eSRyADjihyv"
      },
      "source": [
        "Netflix - это стриминговый сервис, который постоянно растет, развивается и набирает больше популярности. \n",
        "\n",
        "Проведем разведочный анализ данных (EDA) с множеством интересных и полезных визуализаций, а также построим рекомендательную систему."
      ]
    },
    {
      "cell_type": "markdown",
      "metadata": {
        "papermill": {
          "duration": 0.067302,
          "end_time": "2021-02-25T06:29:53.803231",
          "exception": false,
          "start_time": "2021-02-25T06:29:53.735929",
          "status": "completed"
        },
        "tags": [],
        "id": "qCJ2pzOAihyw"
      },
      "source": [
        "<img src='https://www.digiseller.ru/preview/1060574/p1_3307314_a2d40208.gif'>"
      ]
    },
    {
      "cell_type": "code",
      "execution_count": null,
      "metadata": {
        "_kg_hide-input": true,
        "papermill": {
          "duration": 1.130196,
          "end_time": "2021-02-25T06:29:55.138918",
          "exception": false,
          "start_time": "2021-02-25T06:29:54.008722",
          "status": "completed"
        },
        "tags": [],
        "id": "T4ER_KJkihy0"
      },
      "outputs": [],
      "source": [
        "import numpy as np \n",
        "import pandas as pd \n",
        "import matplotlib.pyplot as plt\n",
        "import seaborn as sns"
      ]
    },
    {
      "cell_type": "markdown",
      "metadata": {
        "papermill": {
          "duration": 0.066059,
          "end_time": "2021-02-25T06:29:55.272130",
          "exception": false,
          "start_time": "2021-02-25T06:29:55.206071",
          "status": "completed"
        },
        "tags": [],
        "id": "Z4rDDjQIihy1"
      },
      "source": [
        "# Загрузка данных"
      ]
    },
    {
      "cell_type": "markdown",
      "source": [
        "https://www.kaggle.com/datasets/shivamb/netflix-shows"
      ],
      "metadata": {
        "id": "lDAxDucai_R5"
      }
    },
    {
      "cell_type": "code",
      "source": [
        "!wget 'https://drive.google.com/uc?id=1cunfb3ij7N1aRIhmlx6dXhiQfpecphrc' -O netflix_titles.csv "
      ],
      "metadata": {
        "id": "ZWxFk9TEij2l",
        "outputId": "1591faec-4faa-4a56-9a61-c7634734471b",
        "colab": {
          "base_uri": "https://localhost:8080/"
        }
      },
      "execution_count": null,
      "outputs": [
        {
          "output_type": "stream",
          "name": "stdout",
          "text": [
            "--2022-06-27 11:30:59--  https://drive.google.com/uc?id=1cunfb3ij7N1aRIhmlx6dXhiQfpecphrc\n",
            "Resolving drive.google.com (drive.google.com)... 172.217.203.101, 172.217.203.139, 172.217.203.138, ...\n",
            "Connecting to drive.google.com (drive.google.com)|172.217.203.101|:443... connected.\n",
            "HTTP request sent, awaiting response... 303 See Other\n",
            "Location: https://doc-04-c0-docs.googleusercontent.com/docs/securesc/ha0ro937gcuc7l7deffksulhg5h7mbp1/m0qeh7tl0laujhrrb38q5v1ie8ateh92/1656329400000/14904333240138417226/*/1cunfb3ij7N1aRIhmlx6dXhiQfpecphrc [following]\n",
            "Warning: wildcards not supported in HTTP.\n",
            "--2022-06-27 11:31:00--  https://doc-04-c0-docs.googleusercontent.com/docs/securesc/ha0ro937gcuc7l7deffksulhg5h7mbp1/m0qeh7tl0laujhrrb38q5v1ie8ateh92/1656329400000/14904333240138417226/*/1cunfb3ij7N1aRIhmlx6dXhiQfpecphrc\n",
            "Resolving doc-04-c0-docs.googleusercontent.com (doc-04-c0-docs.googleusercontent.com)... 172.217.203.132, 2607:f8b0:400c:c07::84\n",
            "Connecting to doc-04-c0-docs.googleusercontent.com (doc-04-c0-docs.googleusercontent.com)|172.217.203.132|:443... connected.\n",
            "HTTP request sent, awaiting response... 200 OK\n",
            "Length: 3000491 (2.9M) [text/csv]\n",
            "Saving to: ‘netflix_titles.csv’\n",
            "\n",
            "netflix_titles.csv  100%[===================>]   2.86M  --.-KB/s    in 0.08s   \n",
            "\n",
            "2022-06-27 11:31:00 (38.0 MB/s) - ‘netflix_titles.csv’ saved [3000491/3000491]\n",
            "\n"
          ]
        }
      ]
    },
    {
      "cell_type": "code",
      "execution_count": null,
      "metadata": {
        "_cell_guid": "79c7e3d0-c299-4dcb-8224-4455121ee9b0",
        "_kg_hide-input": false,
        "_kg_hide-output": false,
        "_uuid": "d629ff2d2480ee46fbb7e2d37f6b5fab8052498a",
        "papermill": {
          "duration": 0.246427,
          "end_time": "2021-02-25T06:29:55.585364",
          "exception": false,
          "start_time": "2021-02-25T06:29:55.338937",
          "status": "completed"
        },
        "tags": [],
        "id": "ZPvxb8O2ihy2",
        "colab": {
          "base_uri": "https://localhost:8080/",
          "height": 798
        },
        "outputId": "56072c1d-7622-49d3-b04b-39fb3b0cdca4"
      },
      "outputs": [
        {
          "output_type": "execute_result",
          "data": {
            "text/plain": [
              "     show_id     type                                    title  \\\n",
              "0         s1  TV Show                                       3%   \n",
              "1         s2    Movie                                     7:19   \n",
              "2         s3    Movie                                    23:59   \n",
              "3         s4    Movie                                        9   \n",
              "4         s5    Movie                                       21   \n",
              "...      ...      ...                                      ...   \n",
              "7782   s7783    Movie                                     Zozo   \n",
              "7783   s7784    Movie                                   Zubaan   \n",
              "7784   s7785    Movie                        Zulu Man in Japan   \n",
              "7785   s7786  TV Show                    Zumbo's Just Desserts   \n",
              "7786   s7787    Movie  ZZ TOP: THAT LITTLE OL' BAND FROM TEXAS   \n",
              "\n",
              "               director                                               cast  \\\n",
              "0                   NaN  João Miguel, Bianca Comparato, Michel Gomes, R...   \n",
              "1     Jorge Michel Grau  Demián Bichir, Héctor Bonilla, Oscar Serrano, ...   \n",
              "2          Gilbert Chan  Tedd Chan, Stella Chung, Henley Hii, Lawrence ...   \n",
              "3           Shane Acker  Elijah Wood, John C. Reilly, Jennifer Connelly...   \n",
              "4        Robert Luketic  Jim Sturgess, Kevin Spacey, Kate Bosworth, Aar...   \n",
              "...                 ...                                                ...   \n",
              "7782        Josef Fares  Imad Creidi, Antoinette Turk, Elias Gergi, Car...   \n",
              "7783        Mozez Singh  Vicky Kaushal, Sarah-Jane Dias, Raaghav Chanan...   \n",
              "7784                NaN                                            Nasty C   \n",
              "7785                NaN                         Adriano Zumbo, Rachel Khoo   \n",
              "7786           Sam Dunn                                                NaN   \n",
              "\n",
              "                                                country          date_added  \\\n",
              "0                                                Brazil     August 14, 2020   \n",
              "1                                                Mexico   December 23, 2016   \n",
              "2                                             Singapore   December 20, 2018   \n",
              "3                                         United States   November 16, 2017   \n",
              "4                                         United States     January 1, 2020   \n",
              "...                                                 ...                 ...   \n",
              "7782  Sweden, Czech Republic, United Kingdom, Denmar...    October 19, 2020   \n",
              "7783                                              India       March 2, 2019   \n",
              "7784                                                NaN  September 25, 2020   \n",
              "7785                                          Australia    October 31, 2020   \n",
              "7786              United Kingdom, Canada, United States       March 1, 2020   \n",
              "\n",
              "      release_year rating   duration  \\\n",
              "0             2020  TV-MA  4 Seasons   \n",
              "1             2016  TV-MA     93 min   \n",
              "2             2011      R     78 min   \n",
              "3             2009  PG-13     80 min   \n",
              "4             2008  PG-13    123 min   \n",
              "...            ...    ...        ...   \n",
              "7782          2005  TV-MA     99 min   \n",
              "7783          2015  TV-14    111 min   \n",
              "7784          2019  TV-MA     44 min   \n",
              "7785          2019  TV-PG   1 Season   \n",
              "7786          2019  TV-MA     90 min   \n",
              "\n",
              "                                              listed_in  \\\n",
              "0     International TV Shows, TV Dramas, TV Sci-Fi &...   \n",
              "1                          Dramas, International Movies   \n",
              "2                   Horror Movies, International Movies   \n",
              "3     Action & Adventure, Independent Movies, Sci-Fi...   \n",
              "4                                                Dramas   \n",
              "...                                                 ...   \n",
              "7782                       Dramas, International Movies   \n",
              "7783     Dramas, International Movies, Music & Musicals   \n",
              "7784  Documentaries, International Movies, Music & M...   \n",
              "7785                 International TV Shows, Reality TV   \n",
              "7786                    Documentaries, Music & Musicals   \n",
              "\n",
              "                                            description  \n",
              "0     In a future where the elite inhabit an island ...  \n",
              "1     After a devastating earthquake hits Mexico Cit...  \n",
              "2     When an army recruit is found dead, his fellow...  \n",
              "3     In a postapocalyptic world, rag-doll robots hi...  \n",
              "4     A brilliant group of students become card-coun...  \n",
              "...                                                 ...  \n",
              "7782  When Lebanon's Civil War deprives Zozo of his ...  \n",
              "7783  A scrappy but poor boy worms his way into a ty...  \n",
              "7784  In this documentary, South African rapper Nast...  \n",
              "7785  Dessert wizard Adriano Zumbo looks for the nex...  \n",
              "7786  This documentary delves into the mystique behi...  \n",
              "\n",
              "[7787 rows x 12 columns]"
            ],
            "text/html": [
              "\n",
              "  <div id=\"df-256e8d5f-cdd6-4db7-a8fa-7716e4fb2333\">\n",
              "    <div class=\"colab-df-container\">\n",
              "      <div>\n",
              "<style scoped>\n",
              "    .dataframe tbody tr th:only-of-type {\n",
              "        vertical-align: middle;\n",
              "    }\n",
              "\n",
              "    .dataframe tbody tr th {\n",
              "        vertical-align: top;\n",
              "    }\n",
              "\n",
              "    .dataframe thead th {\n",
              "        text-align: right;\n",
              "    }\n",
              "</style>\n",
              "<table border=\"1\" class=\"dataframe\">\n",
              "  <thead>\n",
              "    <tr style=\"text-align: right;\">\n",
              "      <th></th>\n",
              "      <th>show_id</th>\n",
              "      <th>type</th>\n",
              "      <th>title</th>\n",
              "      <th>director</th>\n",
              "      <th>cast</th>\n",
              "      <th>country</th>\n",
              "      <th>date_added</th>\n",
              "      <th>release_year</th>\n",
              "      <th>rating</th>\n",
              "      <th>duration</th>\n",
              "      <th>listed_in</th>\n",
              "      <th>description</th>\n",
              "    </tr>\n",
              "  </thead>\n",
              "  <tbody>\n",
              "    <tr>\n",
              "      <th>0</th>\n",
              "      <td>s1</td>\n",
              "      <td>TV Show</td>\n",
              "      <td>3%</td>\n",
              "      <td>NaN</td>\n",
              "      <td>João Miguel, Bianca Comparato, Michel Gomes, R...</td>\n",
              "      <td>Brazil</td>\n",
              "      <td>August 14, 2020</td>\n",
              "      <td>2020</td>\n",
              "      <td>TV-MA</td>\n",
              "      <td>4 Seasons</td>\n",
              "      <td>International TV Shows, TV Dramas, TV Sci-Fi &amp;...</td>\n",
              "      <td>In a future where the elite inhabit an island ...</td>\n",
              "    </tr>\n",
              "    <tr>\n",
              "      <th>1</th>\n",
              "      <td>s2</td>\n",
              "      <td>Movie</td>\n",
              "      <td>7:19</td>\n",
              "      <td>Jorge Michel Grau</td>\n",
              "      <td>Demián Bichir, Héctor Bonilla, Oscar Serrano, ...</td>\n",
              "      <td>Mexico</td>\n",
              "      <td>December 23, 2016</td>\n",
              "      <td>2016</td>\n",
              "      <td>TV-MA</td>\n",
              "      <td>93 min</td>\n",
              "      <td>Dramas, International Movies</td>\n",
              "      <td>After a devastating earthquake hits Mexico Cit...</td>\n",
              "    </tr>\n",
              "    <tr>\n",
              "      <th>2</th>\n",
              "      <td>s3</td>\n",
              "      <td>Movie</td>\n",
              "      <td>23:59</td>\n",
              "      <td>Gilbert Chan</td>\n",
              "      <td>Tedd Chan, Stella Chung, Henley Hii, Lawrence ...</td>\n",
              "      <td>Singapore</td>\n",
              "      <td>December 20, 2018</td>\n",
              "      <td>2011</td>\n",
              "      <td>R</td>\n",
              "      <td>78 min</td>\n",
              "      <td>Horror Movies, International Movies</td>\n",
              "      <td>When an army recruit is found dead, his fellow...</td>\n",
              "    </tr>\n",
              "    <tr>\n",
              "      <th>3</th>\n",
              "      <td>s4</td>\n",
              "      <td>Movie</td>\n",
              "      <td>9</td>\n",
              "      <td>Shane Acker</td>\n",
              "      <td>Elijah Wood, John C. Reilly, Jennifer Connelly...</td>\n",
              "      <td>United States</td>\n",
              "      <td>November 16, 2017</td>\n",
              "      <td>2009</td>\n",
              "      <td>PG-13</td>\n",
              "      <td>80 min</td>\n",
              "      <td>Action &amp; Adventure, Independent Movies, Sci-Fi...</td>\n",
              "      <td>In a postapocalyptic world, rag-doll robots hi...</td>\n",
              "    </tr>\n",
              "    <tr>\n",
              "      <th>4</th>\n",
              "      <td>s5</td>\n",
              "      <td>Movie</td>\n",
              "      <td>21</td>\n",
              "      <td>Robert Luketic</td>\n",
              "      <td>Jim Sturgess, Kevin Spacey, Kate Bosworth, Aar...</td>\n",
              "      <td>United States</td>\n",
              "      <td>January 1, 2020</td>\n",
              "      <td>2008</td>\n",
              "      <td>PG-13</td>\n",
              "      <td>123 min</td>\n",
              "      <td>Dramas</td>\n",
              "      <td>A brilliant group of students become card-coun...</td>\n",
              "    </tr>\n",
              "    <tr>\n",
              "      <th>...</th>\n",
              "      <td>...</td>\n",
              "      <td>...</td>\n",
              "      <td>...</td>\n",
              "      <td>...</td>\n",
              "      <td>...</td>\n",
              "      <td>...</td>\n",
              "      <td>...</td>\n",
              "      <td>...</td>\n",
              "      <td>...</td>\n",
              "      <td>...</td>\n",
              "      <td>...</td>\n",
              "      <td>...</td>\n",
              "    </tr>\n",
              "    <tr>\n",
              "      <th>7782</th>\n",
              "      <td>s7783</td>\n",
              "      <td>Movie</td>\n",
              "      <td>Zozo</td>\n",
              "      <td>Josef Fares</td>\n",
              "      <td>Imad Creidi, Antoinette Turk, Elias Gergi, Car...</td>\n",
              "      <td>Sweden, Czech Republic, United Kingdom, Denmar...</td>\n",
              "      <td>October 19, 2020</td>\n",
              "      <td>2005</td>\n",
              "      <td>TV-MA</td>\n",
              "      <td>99 min</td>\n",
              "      <td>Dramas, International Movies</td>\n",
              "      <td>When Lebanon's Civil War deprives Zozo of his ...</td>\n",
              "    </tr>\n",
              "    <tr>\n",
              "      <th>7783</th>\n",
              "      <td>s7784</td>\n",
              "      <td>Movie</td>\n",
              "      <td>Zubaan</td>\n",
              "      <td>Mozez Singh</td>\n",
              "      <td>Vicky Kaushal, Sarah-Jane Dias, Raaghav Chanan...</td>\n",
              "      <td>India</td>\n",
              "      <td>March 2, 2019</td>\n",
              "      <td>2015</td>\n",
              "      <td>TV-14</td>\n",
              "      <td>111 min</td>\n",
              "      <td>Dramas, International Movies, Music &amp; Musicals</td>\n",
              "      <td>A scrappy but poor boy worms his way into a ty...</td>\n",
              "    </tr>\n",
              "    <tr>\n",
              "      <th>7784</th>\n",
              "      <td>s7785</td>\n",
              "      <td>Movie</td>\n",
              "      <td>Zulu Man in Japan</td>\n",
              "      <td>NaN</td>\n",
              "      <td>Nasty C</td>\n",
              "      <td>NaN</td>\n",
              "      <td>September 25, 2020</td>\n",
              "      <td>2019</td>\n",
              "      <td>TV-MA</td>\n",
              "      <td>44 min</td>\n",
              "      <td>Documentaries, International Movies, Music &amp; M...</td>\n",
              "      <td>In this documentary, South African rapper Nast...</td>\n",
              "    </tr>\n",
              "    <tr>\n",
              "      <th>7785</th>\n",
              "      <td>s7786</td>\n",
              "      <td>TV Show</td>\n",
              "      <td>Zumbo's Just Desserts</td>\n",
              "      <td>NaN</td>\n",
              "      <td>Adriano Zumbo, Rachel Khoo</td>\n",
              "      <td>Australia</td>\n",
              "      <td>October 31, 2020</td>\n",
              "      <td>2019</td>\n",
              "      <td>TV-PG</td>\n",
              "      <td>1 Season</td>\n",
              "      <td>International TV Shows, Reality TV</td>\n",
              "      <td>Dessert wizard Adriano Zumbo looks for the nex...</td>\n",
              "    </tr>\n",
              "    <tr>\n",
              "      <th>7786</th>\n",
              "      <td>s7787</td>\n",
              "      <td>Movie</td>\n",
              "      <td>ZZ TOP: THAT LITTLE OL' BAND FROM TEXAS</td>\n",
              "      <td>Sam Dunn</td>\n",
              "      <td>NaN</td>\n",
              "      <td>United Kingdom, Canada, United States</td>\n",
              "      <td>March 1, 2020</td>\n",
              "      <td>2019</td>\n",
              "      <td>TV-MA</td>\n",
              "      <td>90 min</td>\n",
              "      <td>Documentaries, Music &amp; Musicals</td>\n",
              "      <td>This documentary delves into the mystique behi...</td>\n",
              "    </tr>\n",
              "  </tbody>\n",
              "</table>\n",
              "<p>7787 rows × 12 columns</p>\n",
              "</div>\n",
              "      <button class=\"colab-df-convert\" onclick=\"convertToInteractive('df-256e8d5f-cdd6-4db7-a8fa-7716e4fb2333')\"\n",
              "              title=\"Convert this dataframe to an interactive table.\"\n",
              "              style=\"display:none;\">\n",
              "        \n",
              "  <svg xmlns=\"http://www.w3.org/2000/svg\" height=\"24px\"viewBox=\"0 0 24 24\"\n",
              "       width=\"24px\">\n",
              "    <path d=\"M0 0h24v24H0V0z\" fill=\"none\"/>\n",
              "    <path d=\"M18.56 5.44l.94 2.06.94-2.06 2.06-.94-2.06-.94-.94-2.06-.94 2.06-2.06.94zm-11 1L8.5 8.5l.94-2.06 2.06-.94-2.06-.94L8.5 2.5l-.94 2.06-2.06.94zm10 10l.94 2.06.94-2.06 2.06-.94-2.06-.94-.94-2.06-.94 2.06-2.06.94z\"/><path d=\"M17.41 7.96l-1.37-1.37c-.4-.4-.92-.59-1.43-.59-.52 0-1.04.2-1.43.59L10.3 9.45l-7.72 7.72c-.78.78-.78 2.05 0 2.83L4 21.41c.39.39.9.59 1.41.59.51 0 1.02-.2 1.41-.59l7.78-7.78 2.81-2.81c.8-.78.8-2.07 0-2.86zM5.41 20L4 18.59l7.72-7.72 1.47 1.35L5.41 20z\"/>\n",
              "  </svg>\n",
              "      </button>\n",
              "      \n",
              "  <style>\n",
              "    .colab-df-container {\n",
              "      display:flex;\n",
              "      flex-wrap:wrap;\n",
              "      gap: 12px;\n",
              "    }\n",
              "\n",
              "    .colab-df-convert {\n",
              "      background-color: #E8F0FE;\n",
              "      border: none;\n",
              "      border-radius: 50%;\n",
              "      cursor: pointer;\n",
              "      display: none;\n",
              "      fill: #1967D2;\n",
              "      height: 32px;\n",
              "      padding: 0 0 0 0;\n",
              "      width: 32px;\n",
              "    }\n",
              "\n",
              "    .colab-df-convert:hover {\n",
              "      background-color: #E2EBFA;\n",
              "      box-shadow: 0px 1px 2px rgba(60, 64, 67, 0.3), 0px 1px 3px 1px rgba(60, 64, 67, 0.15);\n",
              "      fill: #174EA6;\n",
              "    }\n",
              "\n",
              "    [theme=dark] .colab-df-convert {\n",
              "      background-color: #3B4455;\n",
              "      fill: #D2E3FC;\n",
              "    }\n",
              "\n",
              "    [theme=dark] .colab-df-convert:hover {\n",
              "      background-color: #434B5C;\n",
              "      box-shadow: 0px 1px 3px 1px rgba(0, 0, 0, 0.15);\n",
              "      filter: drop-shadow(0px 1px 2px rgba(0, 0, 0, 0.3));\n",
              "      fill: #FFFFFF;\n",
              "    }\n",
              "  </style>\n",
              "\n",
              "      <script>\n",
              "        const buttonEl =\n",
              "          document.querySelector('#df-256e8d5f-cdd6-4db7-a8fa-7716e4fb2333 button.colab-df-convert');\n",
              "        buttonEl.style.display =\n",
              "          google.colab.kernel.accessAllowed ? 'block' : 'none';\n",
              "\n",
              "        async function convertToInteractive(key) {\n",
              "          const element = document.querySelector('#df-256e8d5f-cdd6-4db7-a8fa-7716e4fb2333');\n",
              "          const dataTable =\n",
              "            await google.colab.kernel.invokeFunction('convertToInteractive',\n",
              "                                                     [key], {});\n",
              "          if (!dataTable) return;\n",
              "\n",
              "          const docLinkHtml = 'Like what you see? Visit the ' +\n",
              "            '<a target=\"_blank\" href=https://colab.research.google.com/notebooks/data_table.ipynb>data table notebook</a>'\n",
              "            + ' to learn more about interactive tables.';\n",
              "          element.innerHTML = '';\n",
              "          dataTable['output_type'] = 'display_data';\n",
              "          await google.colab.output.renderOutput(dataTable, element);\n",
              "          const docLink = document.createElement('div');\n",
              "          docLink.innerHTML = docLinkHtml;\n",
              "          element.appendChild(docLink);\n",
              "        }\n",
              "      </script>\n",
              "    </div>\n",
              "  </div>\n",
              "  "
            ]
          },
          "metadata": {},
          "execution_count": 4
        }
      ],
      "source": [
        "netflix_overall = pd.read_csv(\"netflix_titles.csv\")\n",
        "netflix_overall"
      ]
    },
    {
      "cell_type": "markdown",
      "metadata": {
        "papermill": {
          "duration": 0.066136,
          "end_time": "2021-02-25T06:29:55.718357",
          "exception": false,
          "start_time": "2021-02-25T06:29:55.652221",
          "status": "completed"
        },
        "tags": [],
        "id": "9_I9G3bfihy3"
      },
      "source": [
        "В данных есть 12 признаков для анализа."
      ]
    },
    {
      "cell_type": "code",
      "execution_count": null,
      "metadata": {
        "_kg_hide-input": true,
        "_kg_hide-output": true,
        "papermill": {
          "duration": 0.091772,
          "end_time": "2021-02-25T06:29:55.876733",
          "exception": false,
          "start_time": "2021-02-25T06:29:55.784961",
          "status": "completed"
        },
        "tags": [],
        "id": "PSj3cptGihy4",
        "colab": {
          "base_uri": "https://localhost:8080/"
        },
        "outputId": "4b829743-1570-4677-d750-1fd151720736"
      },
      "outputs": [
        {
          "output_type": "stream",
          "name": "stdout",
          "text": [
            "<class 'pandas.core.frame.DataFrame'>\n",
            "RangeIndex: 7787 entries, 0 to 7786\n",
            "Data columns (total 12 columns):\n",
            " #   Column        Non-Null Count  Dtype \n",
            "---  ------        --------------  ----- \n",
            " 0   show_id       7787 non-null   object\n",
            " 1   type          7787 non-null   object\n",
            " 2   title         7787 non-null   object\n",
            " 3   director      5398 non-null   object\n",
            " 4   cast          7069 non-null   object\n",
            " 5   country       7280 non-null   object\n",
            " 6   date_added    7777 non-null   object\n",
            " 7   release_year  7787 non-null   int64 \n",
            " 8   rating        7780 non-null   object\n",
            " 9   duration      7787 non-null   object\n",
            " 10  listed_in     7787 non-null   object\n",
            " 11  description   7787 non-null   object\n",
            "dtypes: int64(1), object(11)\n",
            "memory usage: 730.2+ KB\n"
          ]
        }
      ],
      "source": [
        "netflix_overall.info()"
      ]
    },
    {
      "cell_type": "code",
      "execution_count": null,
      "metadata": {
        "_kg_hide-input": true,
        "papermill": {
          "duration": 0.084895,
          "end_time": "2021-02-25T06:29:56.029279",
          "exception": false,
          "start_time": "2021-02-25T06:29:55.944384",
          "status": "completed"
        },
        "tags": [],
        "id": "Do1zYp35ihy6"
      },
      "outputs": [],
      "source": [
        "netflix_shows = netflix_overall[netflix_overall['type'] == 'TV Show'].copy()"
      ]
    },
    {
      "cell_type": "code",
      "execution_count": null,
      "metadata": {
        "_kg_hide-input": true,
        "papermill": {
          "duration": 0.085461,
          "end_time": "2021-02-25T06:29:56.181705",
          "exception": false,
          "start_time": "2021-02-25T06:29:56.096244",
          "status": "completed"
        },
        "tags": [],
        "id": "vuigbmfgihy7"
      },
      "outputs": [],
      "source": [
        "netflix_movies = netflix_overall[netflix_overall['type'] == 'Movie'].copy()"
      ]
    },
    {
      "cell_type": "code",
      "execution_count": null,
      "metadata": {
        "papermill": {
          "duration": 0.244335,
          "end_time": "2021-02-25T06:29:56.768521",
          "exception": false,
          "start_time": "2021-02-25T06:29:56.524186",
          "status": "completed"
        },
        "tags": [],
        "id": "Ee2OdjxAihy_",
        "colab": {
          "base_uri": "https://localhost:8080/",
          "height": 285
        },
        "outputId": "2e426860-daae-4b7f-ce20-1f0c8cdf2261"
      },
      "outputs": [
        {
          "output_type": "display_data",
          "data": {
            "text/plain": [
              "<Figure size 432x288 with 1 Axes>"
            ],
            "image/png": "[encoded data removed]"
          },
          "metadata": {}
        }
      ],
      "source": [
        "sns.set(style=\"darkgrid\")\n",
        "ax = sns.countplot(x=\"type\", data=netflix_overall, palette=\"Set2\")"
      ]
    },
    {
      "cell_type": "markdown",
      "metadata": {
        "papermill": {
          "duration": 0.06878,
          "end_time": "2021-02-25T06:29:56.905657",
          "exception": false,
          "start_time": "2021-02-25T06:29:56.836877",
          "status": "completed"
        },
        "tags": [],
        "id": "ivCCSeQjihzA"
      },
      "source": [
        "Получается, что фильмов гораздо больше, чем сериалов на Netflix."
      ]
    },
    {
      "cell_type": "markdown",
      "metadata": {
        "papermill": {
          "duration": 0.101767,
          "end_time": "2021-02-25T06:30:29.042482",
          "exception": false,
          "start_time": "2021-02-25T06:30:28.940715",
          "status": "completed"
        },
        "tags": [],
        "id": "x4Sv8R2Mihzd"
      },
      "source": [
        "# Популярное время длительности"
      ]
    },
    {
      "cell_type": "code",
      "source": [
        "topdirs = pd.value_counts(netflix_overall['duration'])\n",
        "topdirs"
      ],
      "metadata": {
        "id": "ZpbBLsKYZrbD",
        "colab": {
          "base_uri": "https://localhost:8080/"
        },
        "outputId": "6e002de9-c10f-46eb-cc95-65d71ed279be"
      },
      "execution_count": null,
      "outputs": [
        {
          "output_type": "execute_result",
          "data": {
            "text/plain": [
              "1 Season     1608\n",
              "2 Seasons     382\n",
              "3 Seasons     184\n",
              "90 min        136\n",
              "93 min        131\n",
              "             ... \n",
              "182 min         1\n",
              "224 min         1\n",
              "233 min         1\n",
              "196 min         1\n",
              "191 min         1\n",
              "Name: duration, Length: 216, dtype: int64"
            ]
          },
          "metadata": {},
          "execution_count": 9
        }
      ]
    },
    {
      "cell_type": "code",
      "execution_count": null,
      "metadata": {
        "papermill": {
          "duration": 0.280179,
          "end_time": "2021-02-25T06:30:29.424384",
          "exception": false,
          "start_time": "2021-02-25T06:30:29.144205",
          "status": "completed"
        },
        "tags": [],
        "id": "wEF4N-VWihze",
        "colab": {
          "base_uri": "https://localhost:8080/",
          "height": 542
        },
        "outputId": "f0cb09ca-f001-4ee8-c77b-bbcc7d10b6d2"
      },
      "outputs": [
        {
          "output_type": "display_data",
          "data": {
            "text/html": [
              "<html>\n",
              "<head><meta charset=\"utf-8\" /></head>\n",
              "<body>\n",
              "    <div>            <script src=\"https://cdnjs.cloudflare.com/ajax/libs/mathjax/2.7.5/MathJax.js?config=TeX-AMS-MML_SVG\"></script><script type=\"text/javascript\">if (window.MathJax) {MathJax.Hub.Config({SVG: {font: \"STIX-Web\"}});}</script>                <script type=\"text/javascript\">window.PlotlyConfig = {MathJaxConfig: 'local'};</script>\n",
              "        <script src=\"https://cdn.plot.ly/plotly-2.8.3.min.js\"></script>                <div id=\"15e25d61-c3b0-4d00-af23-83286c8f8bb9\" class=\"plotly-graph-div\" style=\"height:525px; width:100%;\"></div>            <script type=\"text/javascript\">                                    window.PLOTLYENV=window.PLOTLYENV || {};                                    if (document.getElementById(\"15e25d61-c3b0-4d00-af23-83286c8f8bb9\")) {                    Plotly.newPlot(                        \"15e25d61-c3b0-4d00-af23-83286c8f8bb9\",                        [{\"marker\":{\"color\":\"indianred\"},\"text\":[1608.0,382.0,184.0,136.0,131.0,125.0,125.0,119.0,118.0,117.0,115.0,106.0,101.0,101.0,101.0,98.0,97.0,97.0,96.0,93.0,91.0,89.0,88.0,87.0,87.0,86.0,85.0,74.0,65.0,65.0,63.0,61.0,61.0,61.0,60.0,58.0,58.0,56.0,54.0,54.0,51.0,48.0,47.0,47.0,46.0,45.0,44.0,40.0,40.0,40.0,39.0,38.0,38.0,38.0,37.0,37.0,36.0,35.0,34.0,33.0,33.0,32.0,32.0,30.0,30.0,29.0,29.0,29.0,28.0,28.0,28.0,28.0,27.0,26.0,26.0,24.0,24.0,24.0,23.0,23.0,23.0,22.0,22.0,22.0,22.0,21.0,21.0,20.0,19.0,19.0,19.0,19.0,18.0,18.0,18.0,18.0,18.0,17.0,17.0,17.0,16.0,15.0,15.0,14.0,14.0,13.0,13.0,13.0,13.0,12.0,12.0,12.0,12.0,11.0,11.0,11.0,11.0,10.0,10.0,10.0,10.0,10.0,10.0,10.0,10.0,9.0,9.0,9.0,8.0,8.0,8.0,8.0,8.0,7.0,7.0,7.0,7.0,7.0,6.0,6.0,6.0,6.0,6.0,6.0,5.0,5.0,5.0,5.0,5.0,5.0,4.0,4.0,4.0,4.0,3.0,3.0,3.0,3.0,3.0,3.0,2.0,2.0,2.0,2.0,2.0,2.0,2.0,2.0,2.0,2.0,2.0,2.0,2.0,2.0,2.0,2.0,2.0,2.0,2.0,2.0,2.0,2.0,1.0,1.0,1.0,1.0,1.0,1.0,1.0,1.0,1.0,1.0,1.0,1.0,1.0,1.0,1.0,1.0,1.0,1.0,1.0,1.0,1.0,1.0,1.0,1.0,1.0,1.0,1.0,1.0,1.0,1.0,1.0,1.0,1.0,1.0],\"x\":[\"1 Season\",\"2 Seasons\",\"3 Seasons\",\"90 min\",\"93 min\",\"94 min\",\"91 min\",\"95 min\",\"92 min\",\"97 min\",\"96 min\",\"98 min\",\"103 min\",\"99 min\",\"88 min\",\"102 min\",\"100 min\",\"106 min\",\"101 min\",\"86 min\",\"105 min\",\"104 min\",\"89 min\",\"87 min\",\"4 Seasons\",\"110 min\",\"107 min\",\"108 min\",\"116 min\",\"112 min\",\"85 min\",\"109 min\",\"83 min\",\"111 min\",\"84 min\",\"81 min\",\"5 Seasons\",\"117 min\",\"119 min\",\"113 min\",\"118 min\",\"82 min\",\"115 min\",\"120 min\",\"124 min\",\"114 min\",\"121 min\",\"127 min\",\"78 min\",\"126 min\",\"80 min\",\"128 min\",\"122 min\",\"130 min\",\"137 min\",\"135 min\",\"133 min\",\"123 min\",\"79 min\",\"75 min\",\"132 min\",\"125 min\",\"72 min\",\"129 min\",\"6 Seasons\",\"74 min\",\"63 min\",\"66 min\",\"131 min\",\"77 min\",\"61 min\",\"73 min\",\"69 min\",\"60 min\",\"71 min\",\"76 min\",\"53 min\",\"59 min\",\"62 min\",\"54 min\",\"46 min\",\"70 min\",\"140 min\",\"65 min\",\"24 min\",\"134 min\",\"58 min\",\"68 min\",\"44 min\",\"7 Seasons\",\"52 min\",\"67 min\",\"8 Seasons\",\"148 min\",\"136 min\",\"143 min\",\"141 min\",\"139 min\",\"138 min\",\"150 min\",\"64 min\",\"22 min\",\"55 min\",\"151 min\",\"57 min\",\"146 min\",\"162 min\",\"149 min\",\"40 min\",\"154 min\",\"145 min\",\"23 min\",\"56 min\",\"163 min\",\"153 min\",\"158 min\",\"142 min\",\"45 min\",\"50 min\",\"147 min\",\"51 min\",\"29 min\",\"25 min\",\"28 min\",\"47 min\",\"156 min\",\"155 min\",\"161 min\",\"165 min\",\"49 min\",\"42 min\",\"9 Seasons\",\"144 min\",\"48 min\",\"171 min\",\"166 min\",\"168 min\",\"32 min\",\"26 min\",\"30 min\",\"157 min\",\"160 min\",\"159 min\",\"10 Seasons\",\"176 min\",\"33 min\",\"173 min\",\"152 min\",\"185 min\",\"170 min\",\"164 min\",\"177 min\",\"172 min\",\"38 min\",\"27 min\",\"35 min\",\"17 min\",\"14 min\",\"41 min\",\"11 Seasons\",\"192 min\",\"15 Seasons\",\"179 min\",\"19 min\",\"209 min\",\"195 min\",\"187 min\",\"190 min\",\"181 min\",\"31 min\",\"15 min\",\"169 min\",\"12 Seasons\",\"180 min\",\"20 min\",\"21 min\",\"11 min\",\"174 min\",\"13 Seasons\",\"12 min\",\"37 min\",\"34 min\",\"5 min\",\"16 min\",\"237 min\",\"3 min\",\"10 min\",\"36 min\",\"18 min\",\"201 min\",\"228 min\",\"194 min\",\"230 min\",\"178 min\",\"253 min\",\"203 min\",\"205 min\",\"189 min\",\"208 min\",\"312 min\",\"186 min\",\"200 min\",\"204 min\",\"43 min\",\"167 min\",\"16 Seasons\",\"193 min\",\"13 min\",\"214 min\",\"8 min\",\"9 min\",\"182 min\",\"224 min\",\"233 min\",\"196 min\",\"191 min\"],\"y\":[1608,382,184,136,131,125,125,119,118,117,115,106,101,101,101,98,97,97,96,93,91,89,88,87,87,86,85,74,65,65,63,61,61,61,60,58,58,56,54,54,51,48,47,47,46,45,44,40,40,40,39,38,38,38,37,37,36,35,34,33,33,32,32,30,30,29,29,29,28,28,28,28,27,26,26,24,24,24,23,23,23,22,22,22,22,21,21,20,19,19,19,19,18,18,18,18,18,17,17,17,16,15,15,14,14,13,13,13,13,12,12,12,12,11,11,11,11,10,10,10,10,10,10,10,10,9,9,9,8,8,8,8,8,7,7,7,7,7,6,6,6,6,6,6,5,5,5,5,5,5,4,4,4,4,3,3,3,3,3,3,2,2,2,2,2,2,2,2,2,2,2,2,2,2,2,2,2,2,2,2,2,2,1,1,1,1,1,1,1,1,1,1,1,1,1,1,1,1,1,1,1,1,1,1,1,1,1,1,1,1,1,1,1,1,1,1],\"type\":\"bar\",\"textposition\":\"outside\",\"texttemplate\":\"%{text:.2s}\"}],                        {\"template\":{\"data\":{\"bar\":[{\"error_x\":{\"color\":\"#2a3f5f\"},\"error_y\":{\"color\":\"#2a3f5f\"},\"marker\":{\"line\":{\"color\":\"#E5ECF6\",\"width\":0.5},\"pattern\":{\"fillmode\":\"overlay\",\"size\":10,\"solidity\":0.2}},\"type\":\"bar\"}],\"barpolar\":[{\"marker\":{\"line\":{\"color\":\"#E5ECF6\",\"width\":0.5},\"pattern\":{\"fillmode\":\"overlay\",\"size\":10,\"solidity\":0.2}},\"type\":\"barpolar\"}],\"carpet\":[{\"aaxis\":{\"endlinecolor\":\"#2a3f5f\",\"gridcolor\":\"white\",\"linecolor\":\"white\",\"minorgridcolor\":\"white\",\"startlinecolor\":\"#2a3f5f\"},\"baxis\":{\"endlinecolor\":\"#2a3f5f\",\"gridcolor\":\"white\",\"linecolor\":\"white\",\"minorgridcolor\":\"white\",\"startlinecolor\":\"#2a3f5f\"},\"type\":\"carpet\"}],\"choropleth\":[{\"colorbar\":{\"outlinewidth\":0,\"ticks\":\"\"},\"type\":\"choropleth\"}],\"contour\":[{\"colorbar\":{\"outlinewidth\":0,\"ticks\":\"\"},\"colorscale\":[[0.0,\"#0d0887\"],[0.1111111111111111,\"#46039f\"],[0.2222222222222222,\"#7201a8\"],[0.3333333333333333,\"#9c179e\"],[0.4444444444444444,\"#bd3786\"],[0.5555555555555556,\"#d8576b\"],[0.6666666666666666,\"#ed7953\"],[0.7777777777777778,\"#fb9f3a\"],[0.8888888888888888,\"#fdca26\"],[1.0,\"#f0f921\"]],\"type\":\"contour\"}],\"contourcarpet\":[{\"colorbar\":{\"outlinewidth\":0,\"ticks\":\"\"},\"type\":\"contourcarpet\"}],\"heatmap\":[{\"colorbar\":{\"outlinewidth\":0,\"ticks\":\"\"},\"colorscale\":[[0.0,\"#0d0887\"],[0.1111111111111111,\"#46039f\"],[0.2222222222222222,\"#7201a8\"],[0.3333333333333333,\"#9c179e\"],[0.4444444444444444,\"#bd3786\"],[0.5555555555555556,\"#d8576b\"],[0.6666666666666666,\"#ed7953\"],[0.7777777777777778,\"#fb9f3a\"],[0.8888888888888888,\"#fdca26\"],[1.0,\"#f0f921\"]],\"type\":\"heatmap\"}],\"heatmapgl\":[{\"colorbar\":{\"outlinewidth\":0,\"ticks\":\"\"},\"colorscale\":[[0.0,\"#0d0887\"],[0.1111111111111111,\"#46039f\"],[0.2222222222222222,\"#7201a8\"],[0.3333333333333333,\"#9c179e\"],[0.4444444444444444,\"#bd3786\"],[0.5555555555555556,\"#d8576b\"],[0.6666666666666666,\"#ed7953\"],[0.7777777777777778,\"#fb9f3a\"],[0.8888888888888888,\"#fdca26\"],[1.0,\"#f0f921\"]],\"type\":\"heatmapgl\"}],\"histogram\":[{\"marker\":{\"pattern\":{\"fillmode\":\"overlay\",\"size\":10,\"solidity\":0.2}},\"type\":\"histogram\"}],\"histogram2d\":[{\"colorbar\":{\"outlinewidth\":0,\"ticks\":\"\"},\"colorscale\":[[0.0,\"#0d0887\"],[0.1111111111111111,\"#46039f\"],[0.2222222222222222,\"#7201a8\"],[0.3333333333333333,\"#9c179e\"],[0.4444444444444444,\"#bd3786\"],[0.5555555555555556,\"#d8576b\"],[0.6666666666666666,\"#ed7953\"],[0.7777777777777778,\"#fb9f3a\"],[0.8888888888888888,\"#fdca26\"],[1.0,\"#f0f921\"]],\"type\":\"histogram2d\"}],\"histogram2dcontour\":[{\"colorbar\":{\"outlinewidth\":0,\"ticks\":\"\"},\"colorscale\":[[0.0,\"#0d0887\"],[0.1111111111111111,\"#46039f\"],[0.2222222222222222,\"#7201a8\"],[0.3333333333333333,\"#9c179e\"],[0.4444444444444444,\"#bd3786\"],[0.5555555555555556,\"#d8576b\"],[0.6666666666666666,\"#ed7953\"],[0.7777777777777778,\"#fb9f3a\"],[0.8888888888888888,\"#fdca26\"],[1.0,\"#f0f921\"]],\"type\":\"histogram2dcontour\"}],\"mesh3d\":[{\"colorbar\":{\"outlinewidth\":0,\"ticks\":\"\"},\"type\":\"mesh3d\"}],\"parcoords\":[{\"line\":{\"colorbar\":{\"outlinewidth\":0,\"ticks\":\"\"}},\"type\":\"parcoords\"}],\"pie\":[{\"automargin\":true,\"type\":\"pie\"}],\"scatter\":[{\"marker\":{\"colorbar\":{\"outlinewidth\":0,\"ticks\":\"\"}},\"type\":\"scatter\"}],\"scatter3d\":[{\"line\":{\"colorbar\":{\"outlinewidth\":0,\"ticks\":\"\"}},\"marker\":{\"colorbar\":{\"outlinewidth\":0,\"ticks\":\"\"}},\"type\":\"scatter3d\"}],\"scattercarpet\":[{\"marker\":{\"colorbar\":{\"outlinewidth\":0,\"ticks\":\"\"}},\"type\":\"scattercarpet\"}],\"scattergeo\":[{\"marker\":{\"colorbar\":{\"outlinewidth\":0,\"ticks\":\"\"}},\"type\":\"scattergeo\"}],\"scattergl\":[{\"marker\":{\"colorbar\":{\"outlinewidth\":0,\"ticks\":\"\"}},\"type\":\"scattergl\"}],\"scattermapbox\":[{\"marker\":{\"colorbar\":{\"outlinewidth\":0,\"ticks\":\"\"}},\"type\":\"scattermapbox\"}],\"scatterpolar\":[{\"marker\":{\"colorbar\":{\"outlinewidth\":0,\"ticks\":\"\"}},\"type\":\"scatterpolar\"}],\"scatterpolargl\":[{\"marker\":{\"colorbar\":{\"outlinewidth\":0,\"ticks\":\"\"}},\"type\":\"scatterpolargl\"}],\"scatterternary\":[{\"marker\":{\"colorbar\":{\"outlinewidth\":0,\"ticks\":\"\"}},\"type\":\"scatterternary\"}],\"surface\":[{\"colorbar\":{\"outlinewidth\":0,\"ticks\":\"\"},\"colorscale\":[[0.0,\"#0d0887\"],[0.1111111111111111,\"#46039f\"],[0.2222222222222222,\"#7201a8\"],[0.3333333333333333,\"#9c179e\"],[0.4444444444444444,\"#bd3786\"],[0.5555555555555556,\"#d8576b\"],[0.6666666666666666,\"#ed7953\"],[0.7777777777777778,\"#fb9f3a\"],[0.8888888888888888,\"#fdca26\"],[1.0,\"#f0f921\"]],\"type\":\"surface\"}],\"table\":[{\"cells\":{\"fill\":{\"color\":\"#EBF0F8\"},\"line\":{\"color\":\"white\"}},\"header\":{\"fill\":{\"color\":\"#C8D4E3\"},\"line\":{\"color\":\"white\"}},\"type\":\"table\"}]},\"layout\":{\"annotationdefaults\":{\"arrowcolor\":\"#2a3f5f\",\"arrowhead\":0,\"arrowwidth\":1},\"autotypenumbers\":\"strict\",\"coloraxis\":{\"colorbar\":{\"outlinewidth\":0,\"ticks\":\"\"}},\"colorscale\":{\"diverging\":[[0,\"#8e0152\"],[0.1,\"#c51b7d\"],[0.2,\"#de77ae\"],[0.3,\"#f1b6da\"],[0.4,\"#fde0ef\"],[0.5,\"#f7f7f7\"],[0.6,\"#e6f5d0\"],[0.7,\"#b8e186\"],[0.8,\"#7fbc41\"],[0.9,\"#4d9221\"],[1,\"#276419\"]],\"sequential\":[[0.0,\"#0d0887\"],[0.1111111111111111,\"#46039f\"],[0.2222222222222222,\"#7201a8\"],[0.3333333333333333,\"#9c179e\"],[0.4444444444444444,\"#bd3786\"],[0.5555555555555556,\"#d8576b\"],[0.6666666666666666,\"#ed7953\"],[0.7777777777777778,\"#fb9f3a\"],[0.8888888888888888,\"#fdca26\"],[1.0,\"#f0f921\"]],\"sequentialminus\":[[0.0,\"#0d0887\"],[0.1111111111111111,\"#46039f\"],[0.2222222222222222,\"#7201a8\"],[0.3333333333333333,\"#9c179e\"],[0.4444444444444444,\"#bd3786\"],[0.5555555555555556,\"#d8576b\"],[0.6666666666666666,\"#ed7953\"],[0.7777777777777778,\"#fb9f3a\"],[0.8888888888888888,\"#fdca26\"],[1.0,\"#f0f921\"]]},\"colorway\":[\"#636efa\",\"#EF553B\",\"#00cc96\",\"#ab63fa\",\"#FFA15A\",\"#19d3f3\",\"#FF6692\",\"#B6E880\",\"#FF97FF\",\"#FECB52\"],\"font\":{\"color\":\"#2a3f5f\"},\"geo\":{\"bgcolor\":\"white\",\"lakecolor\":\"white\",\"landcolor\":\"#E5ECF6\",\"showlakes\":true,\"showland\":true,\"subunitcolor\":\"white\"},\"hoverlabel\":{\"align\":\"left\"},\"hovermode\":\"closest\",\"mapbox\":{\"style\":\"light\"},\"paper_bgcolor\":\"white\",\"plot_bgcolor\":\"#E5ECF6\",\"polar\":{\"angularaxis\":{\"gridcolor\":\"white\",\"linecolor\":\"white\",\"ticks\":\"\"},\"bgcolor\":\"#E5ECF6\",\"radialaxis\":{\"gridcolor\":\"white\",\"linecolor\":\"white\",\"ticks\":\"\"}},\"scene\":{\"xaxis\":{\"backgroundcolor\":\"#E5ECF6\",\"gridcolor\":\"white\",\"gridwidth\":2,\"linecolor\":\"white\",\"showbackground\":true,\"ticks\":\"\",\"zerolinecolor\":\"white\"},\"yaxis\":{\"backgroundcolor\":\"#E5ECF6\",\"gridcolor\":\"white\",\"gridwidth\":2,\"linecolor\":\"white\",\"showbackground\":true,\"ticks\":\"\",\"zerolinecolor\":\"white\"},\"zaxis\":{\"backgroundcolor\":\"#E5ECF6\",\"gridcolor\":\"white\",\"gridwidth\":2,\"linecolor\":\"white\",\"showbackground\":true,\"ticks\":\"\",\"zerolinecolor\":\"white\"}},\"shapedefaults\":{\"line\":{\"color\":\"#2a3f5f\"}},\"ternary\":{\"aaxis\":{\"gridcolor\":\"white\",\"linecolor\":\"white\",\"ticks\":\"\"},\"baxis\":{\"gridcolor\":\"white\",\"linecolor\":\"white\",\"ticks\":\"\"},\"bgcolor\":\"#E5ECF6\",\"caxis\":{\"gridcolor\":\"white\",\"linecolor\":\"white\",\"ticks\":\"\"}},\"title\":{\"x\":0.05},\"xaxis\":{\"automargin\":true,\"gridcolor\":\"white\",\"linecolor\":\"white\",\"ticks\":\"\",\"title\":{\"standoff\":15},\"zerolinecolor\":\"white\",\"zerolinewidth\":2},\"yaxis\":{\"automargin\":true,\"gridcolor\":\"white\",\"linecolor\":\"white\",\"ticks\":\"\",\"title\":{\"standoff\":15},\"zerolinecolor\":\"white\",\"zerolinewidth\":2}}}},                        {\"responsive\": true}                    ).then(function(){\n",
              "                            \n",
              "var gd = document.getElementById('15e25d61-c3b0-4d00-af23-83286c8f8bb9');\n",
              "var x = new MutationObserver(function (mutations, observer) {{\n",
              "        var display = window.getComputedStyle(gd).display;\n",
              "        if (!display || display === 'none') {{\n",
              "            console.log([gd, 'removed!']);\n",
              "            Plotly.purge(gd);\n",
              "            observer.disconnect();\n",
              "        }}\n",
              "}});\n",
              "\n",
              "// Listen for the removal of the full notebook cells\n",
              "var notebookContainer = gd.closest('#notebook-container');\n",
              "if (notebookContainer) {{\n",
              "    x.observe(notebookContainer, {childList: true});\n",
              "}}\n",
              "\n",
              "// Listen for the clearing of the current output cell\n",
              "var outputEl = gd.closest('.output');\n",
              "if (outputEl) {{\n",
              "    x.observe(outputEl, {childList: true});\n",
              "}}\n",
              "\n",
              "                        })                };                            </script>        </div>\n",
              "</body>\n",
              "</html>"
            ]
          },
          "metadata": {}
        }
      ],
      "source": [
        "from plotly import graph_objects as go\n",
        "\n",
        "fig = go.Figure([\n",
        "        go.Bar(x=topdirs.index, y=topdirs.values, text=topdirs.values, marker_color='indianred')\n",
        "])\n",
        "\n",
        "fig.update_traces(texttemplate='%{text:.2s}', textposition='outside')\n",
        "fig.show()"
      ]
    },
    {
      "cell_type": "markdown",
      "metadata": {
        "papermill": {
          "duration": 0.068831,
          "end_time": "2021-02-25T06:29:56.455553",
          "exception": false,
          "start_time": "2021-02-25T06:29:56.386722",
          "status": "completed"
        },
        "tags": [],
        "id": "boNpVASVihy-"
      },
      "source": [
        "# Анализ фильмов"
      ]
    },
    {
      "cell_type": "markdown",
      "metadata": {
        "papermill": {
          "duration": 0.068075,
          "end_time": "2021-02-25T06:29:57.042614",
          "exception": false,
          "start_time": "2021-02-25T06:29:56.974539",
          "status": "completed"
        },
        "tags": [],
        "id": "7JOp5a3tihzA"
      },
      "source": [
        "## Какой месяц, самый привлекательный для релиза контента? \n",
        "\n",
        "Месяц с наименьшим количеством контента."
      ]
    },
    {
      "cell_type": "code",
      "source": [
        "netflix_overall.isna().sum()"
      ],
      "metadata": {
        "id": "VUnLvsq4OWNd",
        "colab": {
          "base_uri": "https://localhost:8080/"
        },
        "outputId": "d90019ee-5fa9-4615-ab43-76c551f8ecfa"
      },
      "execution_count": null,
      "outputs": [
        {
          "output_type": "execute_result",
          "data": {
            "text/plain": [
              "show_id            0\n",
              "type               0\n",
              "title              0\n",
              "director        2389\n",
              "cast             718\n",
              "country          507\n",
              "date_added        10\n",
              "release_year       0\n",
              "rating             7\n",
              "duration           0\n",
              "listed_in          0\n",
              "description        0\n",
              "dtype: int64"
            ]
          },
          "metadata": {},
          "execution_count": 11
        }
      ]
    },
    {
      "cell_type": "code",
      "source": [
        "netflix_date = netflix_shows[['date_added']].dropna()\n",
        "netflix_date.isna().sum()"
      ],
      "metadata": {
        "id": "QUuvzW5EOYnj",
        "colab": {
          "base_uri": "https://localhost:8080/"
        },
        "outputId": "0bfe0968-3513-41e1-ff9d-5ed90520b111"
      },
      "execution_count": null,
      "outputs": [
        {
          "output_type": "execute_result",
          "data": {
            "text/plain": [
              "date_added    0\n",
              "dtype: int64"
            ]
          },
          "metadata": {},
          "execution_count": 12
        }
      ]
    },
    {
      "cell_type": "code",
      "source": [
        "netflix_date.head()"
      ],
      "metadata": {
        "id": "oLpreWDbOdiT",
        "colab": {
          "base_uri": "https://localhost:8080/",
          "height": 206
        },
        "outputId": "fb57b283-4e0f-4817-9fe0-69a2a0524d4f"
      },
      "execution_count": null,
      "outputs": [
        {
          "output_type": "execute_result",
          "data": {
            "text/plain": [
              "           date_added\n",
              "0     August 14, 2020\n",
              "5        July 1, 2017\n",
              "11  November 30, 2018\n",
              "12       May 17, 2019\n",
              "16     March 20, 2019"
            ],
            "text/html": [
              "\n",
              "  <div id=\"df-fd719e4d-7f0d-49c0-85f1-fdecc8923754\">\n",
              "    <div class=\"colab-df-container\">\n",
              "      <div>\n",
              "<style scoped>\n",
              "    .dataframe tbody tr th:only-of-type {\n",
              "        vertical-align: middle;\n",
              "    }\n",
              "\n",
              "    .dataframe tbody tr th {\n",
              "        vertical-align: top;\n",
              "    }\n",
              "\n",
              "    .dataframe thead th {\n",
              "        text-align: right;\n",
              "    }\n",
              "</style>\n",
              "<table border=\"1\" class=\"dataframe\">\n",
              "  <thead>\n",
              "    <tr style=\"text-align: right;\">\n",
              "      <th></th>\n",
              "      <th>date_added</th>\n",
              "    </tr>\n",
              "  </thead>\n",
              "  <tbody>\n",
              "    <tr>\n",
              "      <th>0</th>\n",
              "      <td>August 14, 2020</td>\n",
              "    </tr>\n",
              "    <tr>\n",
              "      <th>5</th>\n",
              "      <td>July 1, 2017</td>\n",
              "    </tr>\n",
              "    <tr>\n",
              "      <th>11</th>\n",
              "      <td>November 30, 2018</td>\n",
              "    </tr>\n",
              "    <tr>\n",
              "      <th>12</th>\n",
              "      <td>May 17, 2019</td>\n",
              "    </tr>\n",
              "    <tr>\n",
              "      <th>16</th>\n",
              "      <td>March 20, 2019</td>\n",
              "    </tr>\n",
              "  </tbody>\n",
              "</table>\n",
              "</div>\n",
              "      <button class=\"colab-df-convert\" onclick=\"convertToInteractive('df-fd719e4d-7f0d-49c0-85f1-fdecc8923754')\"\n",
              "              title=\"Convert this dataframe to an interactive table.\"\n",
              "              style=\"display:none;\">\n",
              "        \n",
              "  <svg xmlns=\"http://www.w3.org/2000/svg\" height=\"24px\"viewBox=\"0 0 24 24\"\n",
              "       width=\"24px\">\n",
              "    <path d=\"M0 0h24v24H0V0z\" fill=\"none\"/>\n",
              "    <path d=\"M18.56 5.44l.94 2.06.94-2.06 2.06-.94-2.06-.94-.94-2.06-.94 2.06-2.06.94zm-11 1L8.5 8.5l.94-2.06 2.06-.94-2.06-.94L8.5 2.5l-.94 2.06-2.06.94zm10 10l.94 2.06.94-2.06 2.06-.94-2.06-.94-.94-2.06-.94 2.06-2.06.94z\"/><path d=\"M17.41 7.96l-1.37-1.37c-.4-.4-.92-.59-1.43-.59-.52 0-1.04.2-1.43.59L10.3 9.45l-7.72 7.72c-.78.78-.78 2.05 0 2.83L4 21.41c.39.39.9.59 1.41.59.51 0 1.02-.2 1.41-.59l7.78-7.78 2.81-2.81c.8-.78.8-2.07 0-2.86zM5.41 20L4 18.59l7.72-7.72 1.47 1.35L5.41 20z\"/>\n",
              "  </svg>\n",
              "      </button>\n",
              "      \n",
              "  <style>\n",
              "    .colab-df-container {\n",
              "      display:flex;\n",
              "      flex-wrap:wrap;\n",
              "      gap: 12px;\n",
              "    }\n",
              "\n",
              "    .colab-df-convert {\n",
              "      background-color: #E8F0FE;\n",
              "      border: none;\n",
              "      border-radius: 50%;\n",
              "      cursor: pointer;\n",
              "      display: none;\n",
              "      fill: #1967D2;\n",
              "      height: 32px;\n",
              "      padding: 0 0 0 0;\n",
              "      width: 32px;\n",
              "    }\n",
              "\n",
              "    .colab-df-convert:hover {\n",
              "      background-color: #E2EBFA;\n",
              "      box-shadow: 0px 1px 2px rgba(60, 64, 67, 0.3), 0px 1px 3px 1px rgba(60, 64, 67, 0.15);\n",
              "      fill: #174EA6;\n",
              "    }\n",
              "\n",
              "    [theme=dark] .colab-df-convert {\n",
              "      background-color: #3B4455;\n",
              "      fill: #D2E3FC;\n",
              "    }\n",
              "\n",
              "    [theme=dark] .colab-df-convert:hover {\n",
              "      background-color: #434B5C;\n",
              "      box-shadow: 0px 1px 3px 1px rgba(0, 0, 0, 0.15);\n",
              "      filter: drop-shadow(0px 1px 2px rgba(0, 0, 0, 0.3));\n",
              "      fill: #FFFFFF;\n",
              "    }\n",
              "  </style>\n",
              "\n",
              "      <script>\n",
              "        const buttonEl =\n",
              "          document.querySelector('#df-fd719e4d-7f0d-49c0-85f1-fdecc8923754 button.colab-df-convert');\n",
              "        buttonEl.style.display =\n",
              "          google.colab.kernel.accessAllowed ? 'block' : 'none';\n",
              "\n",
              "        async function convertToInteractive(key) {\n",
              "          const element = document.querySelector('#df-fd719e4d-7f0d-49c0-85f1-fdecc8923754');\n",
              "          const dataTable =\n",
              "            await google.colab.kernel.invokeFunction('convertToInteractive',\n",
              "                                                     [key], {});\n",
              "          if (!dataTable) return;\n",
              "\n",
              "          const docLinkHtml = 'Like what you see? Visit the ' +\n",
              "            '<a target=\"_blank\" href=https://colab.research.google.com/notebooks/data_table.ipynb>data table notebook</a>'\n",
              "            + ' to learn more about interactive tables.';\n",
              "          element.innerHTML = '';\n",
              "          dataTable['output_type'] = 'display_data';\n",
              "          await google.colab.output.renderOutput(dataTable, element);\n",
              "          const docLink = document.createElement('div');\n",
              "          docLink.innerHTML = docLinkHtml;\n",
              "          element.appendChild(docLink);\n",
              "        }\n",
              "      </script>\n",
              "    </div>\n",
              "  </div>\n",
              "  "
            ]
          },
          "metadata": {},
          "execution_count": 13
        }
      ]
    },
    {
      "cell_type": "code",
      "source": [
        "netflix_date['year'] = netflix_date['date_added'].apply(lambda x : x.split(', ')[-1])\n",
        "netflix_date['month'] = netflix_date['date_added'].apply(lambda x : x.lstrip().split(' ')[0])\n",
        "netflix_date.head()"
      ],
      "metadata": {
        "id": "BLiAri8kOizs",
        "colab": {
          "base_uri": "https://localhost:8080/",
          "height": 206
        },
        "outputId": "298b5d5e-4ed0-48bc-927f-f6ffd636ea2d"
      },
      "execution_count": null,
      "outputs": [
        {
          "output_type": "execute_result",
          "data": {
            "text/plain": [
              "           date_added  year     month\n",
              "0     August 14, 2020  2020    August\n",
              "5        July 1, 2017  2017      July\n",
              "11  November 30, 2018  2018  November\n",
              "12       May 17, 2019  2019       May\n",
              "16     March 20, 2019  2019     March"
            ],
            "text/html": [
              "\n",
              "  <div id=\"df-930eae47-7966-4b24-9c11-9465e1e12a30\">\n",
              "    <div class=\"colab-df-container\">\n",
              "      <div>\n",
              "<style scoped>\n",
              "    .dataframe tbody tr th:only-of-type {\n",
              "        vertical-align: middle;\n",
              "    }\n",
              "\n",
              "    .dataframe tbody tr th {\n",
              "        vertical-align: top;\n",
              "    }\n",
              "\n",
              "    .dataframe thead th {\n",
              "        text-align: right;\n",
              "    }\n",
              "</style>\n",
              "<table border=\"1\" class=\"dataframe\">\n",
              "  <thead>\n",
              "    <tr style=\"text-align: right;\">\n",
              "      <th></th>\n",
              "      <th>date_added</th>\n",
              "      <th>year</th>\n",
              "      <th>month</th>\n",
              "    </tr>\n",
              "  </thead>\n",
              "  <tbody>\n",
              "    <tr>\n",
              "      <th>0</th>\n",
              "      <td>August 14, 2020</td>\n",
              "      <td>2020</td>\n",
              "      <td>August</td>\n",
              "    </tr>\n",
              "    <tr>\n",
              "      <th>5</th>\n",
              "      <td>July 1, 2017</td>\n",
              "      <td>2017</td>\n",
              "      <td>July</td>\n",
              "    </tr>\n",
              "    <tr>\n",
              "      <th>11</th>\n",
              "      <td>November 30, 2018</td>\n",
              "      <td>2018</td>\n",
              "      <td>November</td>\n",
              "    </tr>\n",
              "    <tr>\n",
              "      <th>12</th>\n",
              "      <td>May 17, 2019</td>\n",
              "      <td>2019</td>\n",
              "      <td>May</td>\n",
              "    </tr>\n",
              "    <tr>\n",
              "      <th>16</th>\n",
              "      <td>March 20, 2019</td>\n",
              "      <td>2019</td>\n",
              "      <td>March</td>\n",
              "    </tr>\n",
              "  </tbody>\n",
              "</table>\n",
              "</div>\n",
              "      <button class=\"colab-df-convert\" onclick=\"convertToInteractive('df-930eae47-7966-4b24-9c11-9465e1e12a30')\"\n",
              "              title=\"Convert this dataframe to an interactive table.\"\n",
              "              style=\"display:none;\">\n",
              "        \n",
              "  <svg xmlns=\"http://www.w3.org/2000/svg\" height=\"24px\"viewBox=\"0 0 24 24\"\n",
              "       width=\"24px\">\n",
              "    <path d=\"M0 0h24v24H0V0z\" fill=\"none\"/>\n",
              "    <path d=\"M18.56 5.44l.94 2.06.94-2.06 2.06-.94-2.06-.94-.94-2.06-.94 2.06-2.06.94zm-11 1L8.5 8.5l.94-2.06 2.06-.94-2.06-.94L8.5 2.5l-.94 2.06-2.06.94zm10 10l.94 2.06.94-2.06 2.06-.94-2.06-.94-.94-2.06-.94 2.06-2.06.94z\"/><path d=\"M17.41 7.96l-1.37-1.37c-.4-.4-.92-.59-1.43-.59-.52 0-1.04.2-1.43.59L10.3 9.45l-7.72 7.72c-.78.78-.78 2.05 0 2.83L4 21.41c.39.39.9.59 1.41.59.51 0 1.02-.2 1.41-.59l7.78-7.78 2.81-2.81c.8-.78.8-2.07 0-2.86zM5.41 20L4 18.59l7.72-7.72 1.47 1.35L5.41 20z\"/>\n",
              "  </svg>\n",
              "      </button>\n",
              "      \n",
              "  <style>\n",
              "    .colab-df-container {\n",
              "      display:flex;\n",
              "      flex-wrap:wrap;\n",
              "      gap: 12px;\n",
              "    }\n",
              "\n",
              "    .colab-df-convert {\n",
              "      background-color: #E8F0FE;\n",
              "      border: none;\n",
              "      border-radius: 50%;\n",
              "      cursor: pointer;\n",
              "      display: none;\n",
              "      fill: #1967D2;\n",
              "      height: 32px;\n",
              "      padding: 0 0 0 0;\n",
              "      width: 32px;\n",
              "    }\n",
              "\n",
              "    .colab-df-convert:hover {\n",
              "      background-color: #E2EBFA;\n",
              "      box-shadow: 0px 1px 2px rgba(60, 64, 67, 0.3), 0px 1px 3px 1px rgba(60, 64, 67, 0.15);\n",
              "      fill: #174EA6;\n",
              "    }\n",
              "\n",
              "    [theme=dark] .colab-df-convert {\n",
              "      background-color: #3B4455;\n",
              "      fill: #D2E3FC;\n",
              "    }\n",
              "\n",
              "    [theme=dark] .colab-df-convert:hover {\n",
              "      background-color: #434B5C;\n",
              "      box-shadow: 0px 1px 3px 1px rgba(0, 0, 0, 0.15);\n",
              "      filter: drop-shadow(0px 1px 2px rgba(0, 0, 0, 0.3));\n",
              "      fill: #FFFFFF;\n",
              "    }\n",
              "  </style>\n",
              "\n",
              "      <script>\n",
              "        const buttonEl =\n",
              "          document.querySelector('#df-930eae47-7966-4b24-9c11-9465e1e12a30 button.colab-df-convert');\n",
              "        buttonEl.style.display =\n",
              "          google.colab.kernel.accessAllowed ? 'block' : 'none';\n",
              "\n",
              "        async function convertToInteractive(key) {\n",
              "          const element = document.querySelector('#df-930eae47-7966-4b24-9c11-9465e1e12a30');\n",
              "          const dataTable =\n",
              "            await google.colab.kernel.invokeFunction('convertToInteractive',\n",
              "                                                     [key], {});\n",
              "          if (!dataTable) return;\n",
              "\n",
              "          const docLinkHtml = 'Like what you see? Visit the ' +\n",
              "            '<a target=\"_blank\" href=https://colab.research.google.com/notebooks/data_table.ipynb>data table notebook</a>'\n",
              "            + ' to learn more about interactive tables.';\n",
              "          element.innerHTML = '';\n",
              "          dataTable['output_type'] = 'display_data';\n",
              "          await google.colab.output.renderOutput(dataTable, element);\n",
              "          const docLink = document.createElement('div');\n",
              "          docLink.innerHTML = docLinkHtml;\n",
              "          element.appendChild(docLink);\n",
              "        }\n",
              "      </script>\n",
              "    </div>\n",
              "  </div>\n",
              "  "
            ]
          },
          "metadata": {},
          "execution_count": 14
        }
      ]
    },
    {
      "cell_type": "code",
      "source": [
        "netflix_date.sort_values(by=['year', 'month'])"
      ],
      "metadata": {
        "id": "67RsWWmLOvCG",
        "colab": {
          "base_uri": "https://localhost:8080/",
          "height": 424
        },
        "outputId": "5afc1719-b796-4ec1-e1c0-23a1ce912a0c"
      },
      "execution_count": null,
      "outputs": [
        {
          "output_type": "execute_result",
          "data": {
            "text/plain": [
              "            date_added  year     month\n",
              "1765  February 4, 2008  2008  February\n",
              "1089    August 2, 2013  2013    August\n",
              "3098    March 31, 2013  2013     March\n",
              "2503   October 8, 2013  2013   October\n",
              "5312  October 14, 2013  2013   October\n",
              "...                ...   ...       ...\n",
              "6203   January 1, 2021  2021   January\n",
              "6438   January 1, 2021  2021   January\n",
              "6477   January 8, 2021  2021   January\n",
              "6634  January 15, 2021  2021   January\n",
              "6701   January 2, 2021  2021   January\n",
              "\n",
              "[2400 rows x 3 columns]"
            ],
            "text/html": [
              "\n",
              "  <div id=\"df-54f47543-044d-442f-a61e-982cd9ceeeb8\">\n",
              "    <div class=\"colab-df-container\">\n",
              "      <div>\n",
              "<style scoped>\n",
              "    .dataframe tbody tr th:only-of-type {\n",
              "        vertical-align: middle;\n",
              "    }\n",
              "\n",
              "    .dataframe tbody tr th {\n",
              "        vertical-align: top;\n",
              "    }\n",
              "\n",
              "    .dataframe thead th {\n",
              "        text-align: right;\n",
              "    }\n",
              "</style>\n",
              "<table border=\"1\" class=\"dataframe\">\n",
              "  <thead>\n",
              "    <tr style=\"text-align: right;\">\n",
              "      <th></th>\n",
              "      <th>date_added</th>\n",
              "      <th>year</th>\n",
              "      <th>month</th>\n",
              "    </tr>\n",
              "  </thead>\n",
              "  <tbody>\n",
              "    <tr>\n",
              "      <th>1765</th>\n",
              "      <td>February 4, 2008</td>\n",
              "      <td>2008</td>\n",
              "      <td>February</td>\n",
              "    </tr>\n",
              "    <tr>\n",
              "      <th>1089</th>\n",
              "      <td>August 2, 2013</td>\n",
              "      <td>2013</td>\n",
              "      <td>August</td>\n",
              "    </tr>\n",
              "    <tr>\n",
              "      <th>3098</th>\n",
              "      <td>March 31, 2013</td>\n",
              "      <td>2013</td>\n",
              "      <td>March</td>\n",
              "    </tr>\n",
              "    <tr>\n",
              "      <th>2503</th>\n",
              "      <td>October 8, 2013</td>\n",
              "      <td>2013</td>\n",
              "      <td>October</td>\n",
              "    </tr>\n",
              "    <tr>\n",
              "      <th>5312</th>\n",
              "      <td>October 14, 2013</td>\n",
              "      <td>2013</td>\n",
              "      <td>October</td>\n",
              "    </tr>\n",
              "    <tr>\n",
              "      <th>...</th>\n",
              "      <td>...</td>\n",
              "      <td>...</td>\n",
              "      <td>...</td>\n",
              "    </tr>\n",
              "    <tr>\n",
              "      <th>6203</th>\n",
              "      <td>January 1, 2021</td>\n",
              "      <td>2021</td>\n",
              "      <td>January</td>\n",
              "    </tr>\n",
              "    <tr>\n",
              "      <th>6438</th>\n",
              "      <td>January 1, 2021</td>\n",
              "      <td>2021</td>\n",
              "      <td>January</td>\n",
              "    </tr>\n",
              "    <tr>\n",
              "      <th>6477</th>\n",
              "      <td>January 8, 2021</td>\n",
              "      <td>2021</td>\n",
              "      <td>January</td>\n",
              "    </tr>\n",
              "    <tr>\n",
              "      <th>6634</th>\n",
              "      <td>January 15, 2021</td>\n",
              "      <td>2021</td>\n",
              "      <td>January</td>\n",
              "    </tr>\n",
              "    <tr>\n",
              "      <th>6701</th>\n",
              "      <td>January 2, 2021</td>\n",
              "      <td>2021</td>\n",
              "      <td>January</td>\n",
              "    </tr>\n",
              "  </tbody>\n",
              "</table>\n",
              "<p>2400 rows × 3 columns</p>\n",
              "</div>\n",
              "      <button class=\"colab-df-convert\" onclick=\"convertToInteractive('df-54f47543-044d-442f-a61e-982cd9ceeeb8')\"\n",
              "              title=\"Convert this dataframe to an interactive table.\"\n",
              "              style=\"display:none;\">\n",
              "        \n",
              "  <svg xmlns=\"http://www.w3.org/2000/svg\" height=\"24px\"viewBox=\"0 0 24 24\"\n",
              "       width=\"24px\">\n",
              "    <path d=\"M0 0h24v24H0V0z\" fill=\"none\"/>\n",
              "    <path d=\"M18.56 5.44l.94 2.06.94-2.06 2.06-.94-2.06-.94-.94-2.06-.94 2.06-2.06.94zm-11 1L8.5 8.5l.94-2.06 2.06-.94-2.06-.94L8.5 2.5l-.94 2.06-2.06.94zm10 10l.94 2.06.94-2.06 2.06-.94-2.06-.94-.94-2.06-.94 2.06-2.06.94z\"/><path d=\"M17.41 7.96l-1.37-1.37c-.4-.4-.92-.59-1.43-.59-.52 0-1.04.2-1.43.59L10.3 9.45l-7.72 7.72c-.78.78-.78 2.05 0 2.83L4 21.41c.39.39.9.59 1.41.59.51 0 1.02-.2 1.41-.59l7.78-7.78 2.81-2.81c.8-.78.8-2.07 0-2.86zM5.41 20L4 18.59l7.72-7.72 1.47 1.35L5.41 20z\"/>\n",
              "  </svg>\n",
              "      </button>\n",
              "      \n",
              "  <style>\n",
              "    .colab-df-container {\n",
              "      display:flex;\n",
              "      flex-wrap:wrap;\n",
              "      gap: 12px;\n",
              "    }\n",
              "\n",
              "    .colab-df-convert {\n",
              "      background-color: #E8F0FE;\n",
              "      border: none;\n",
              "      border-radius: 50%;\n",
              "      cursor: pointer;\n",
              "      display: none;\n",
              "      fill: #1967D2;\n",
              "      height: 32px;\n",
              "      padding: 0 0 0 0;\n",
              "      width: 32px;\n",
              "    }\n",
              "\n",
              "    .colab-df-convert:hover {\n",
              "      background-color: #E2EBFA;\n",
              "      box-shadow: 0px 1px 2px rgba(60, 64, 67, 0.3), 0px 1px 3px 1px rgba(60, 64, 67, 0.15);\n",
              "      fill: #174EA6;\n",
              "    }\n",
              "\n",
              "    [theme=dark] .colab-df-convert {\n",
              "      background-color: #3B4455;\n",
              "      fill: #D2E3FC;\n",
              "    }\n",
              "\n",
              "    [theme=dark] .colab-df-convert:hover {\n",
              "      background-color: #434B5C;\n",
              "      box-shadow: 0px 1px 3px 1px rgba(0, 0, 0, 0.15);\n",
              "      filter: drop-shadow(0px 1px 2px rgba(0, 0, 0, 0.3));\n",
              "      fill: #FFFFFF;\n",
              "    }\n",
              "  </style>\n",
              "\n",
              "      <script>\n",
              "        const buttonEl =\n",
              "          document.querySelector('#df-54f47543-044d-442f-a61e-982cd9ceeeb8 button.colab-df-convert');\n",
              "        buttonEl.style.display =\n",
              "          google.colab.kernel.accessAllowed ? 'block' : 'none';\n",
              "\n",
              "        async function convertToInteractive(key) {\n",
              "          const element = document.querySelector('#df-54f47543-044d-442f-a61e-982cd9ceeeb8');\n",
              "          const dataTable =\n",
              "            await google.colab.kernel.invokeFunction('convertToInteractive',\n",
              "                                                     [key], {});\n",
              "          if (!dataTable) return;\n",
              "\n",
              "          const docLinkHtml = 'Like what you see? Visit the ' +\n",
              "            '<a target=\"_blank\" href=https://colab.research.google.com/notebooks/data_table.ipynb>data table notebook</a>'\n",
              "            + ' to learn more about interactive tables.';\n",
              "          element.innerHTML = '';\n",
              "          dataTable['output_type'] = 'display_data';\n",
              "          await google.colab.output.renderOutput(dataTable, element);\n",
              "          const docLink = document.createElement('div');\n",
              "          docLink.innerHTML = docLinkHtml;\n",
              "          element.appendChild(docLink);\n",
              "        }\n",
              "      </script>\n",
              "    </div>\n",
              "  </div>\n",
              "  "
            ]
          },
          "metadata": {},
          "execution_count": 15
        }
      ]
    },
    {
      "cell_type": "code",
      "source": [
        "month_order = ['January', 'February', 'March', 'April', 'May', 'June', 'July', 'August', 'September', 'October', 'November', 'December'][::-1]\n",
        "df = netflix_date.groupby('year')['month'].value_counts().unstack().fillna(0)[month_order].T\n",
        "df"
      ],
      "metadata": {
        "id": "NSIEEPcyO9rr",
        "colab": {
          "base_uri": "https://localhost:8080/",
          "height": 457
        },
        "outputId": "fa915a18-c681-4db3-882e-d4c118285a2f"
      },
      "execution_count": null,
      "outputs": [
        {
          "output_type": "execute_result",
          "data": {
            "text/plain": [
              "year       2008  2013  2014  2015  2016  2017  2018  2019  2020  2021\n",
              "month                                                                \n",
              "December    0.0   0.0   1.0   7.0  44.0  39.0  64.0  50.0  74.0   0.0\n",
              "November    0.0   0.0   3.0   2.0  18.0  31.0  41.0  77.0  55.0   0.0\n",
              "October     0.0   2.0   0.0   5.0  18.0  32.0  46.0  73.0  56.0   0.0\n",
              "September   0.0   1.0   0.0   1.0  19.0  33.0  44.0  44.0  62.0   0.0\n",
              "August      0.0   1.0   0.0   0.0  17.0  38.0  34.0  53.0  61.0   0.0\n",
              "July        0.0   0.0   0.0   3.0  10.0  34.0  30.0  67.0  53.0   0.0\n",
              "June        0.0   0.0   0.0   3.0   8.0  30.0  28.0  48.0  48.0   0.0\n",
              "May         0.0   0.0   0.0   2.0   4.0  25.0  28.0  49.0  64.0   0.0\n",
              "April       0.0   0.0   1.0   4.0   8.0  29.0  31.0  50.0  58.0   0.0\n",
              "March       0.0   1.0   0.0   2.0   3.0  38.0  38.0  60.0  56.0   0.0\n",
              "February    1.0   0.0   1.0   1.0   7.0  18.0  24.0  46.0  46.0   0.0\n",
              "January     0.0   0.0   0.0   0.0  29.0  14.0  22.0  39.0  64.0  29.0"
            ],
            "text/html": [
              "\n",
              "  <div id=\"df-6d5cffd5-5f2f-4cd7-9bec-9e446feedc81\">\n",
              "    <div class=\"colab-df-container\">\n",
              "      <div>\n",
              "<style scoped>\n",
              "    .dataframe tbody tr th:only-of-type {\n",
              "        vertical-align: middle;\n",
              "    }\n",
              "\n",
              "    .dataframe tbody tr th {\n",
              "        vertical-align: top;\n",
              "    }\n",
              "\n",
              "    .dataframe thead th {\n",
              "        text-align: right;\n",
              "    }\n",
              "</style>\n",
              "<table border=\"1\" class=\"dataframe\">\n",
              "  <thead>\n",
              "    <tr style=\"text-align: right;\">\n",
              "      <th>year</th>\n",
              "      <th>2008</th>\n",
              "      <th>2013</th>\n",
              "      <th>2014</th>\n",
              "      <th>2015</th>\n",
              "      <th>2016</th>\n",
              "      <th>2017</th>\n",
              "      <th>2018</th>\n",
              "      <th>2019</th>\n",
              "      <th>2020</th>\n",
              "      <th>2021</th>\n",
              "    </tr>\n",
              "    <tr>\n",
              "      <th>month</th>\n",
              "      <th></th>\n",
              "      <th></th>\n",
              "      <th></th>\n",
              "      <th></th>\n",
              "      <th></th>\n",
              "      <th></th>\n",
              "      <th></th>\n",
              "      <th></th>\n",
              "      <th></th>\n",
              "      <th></th>\n",
              "    </tr>\n",
              "  </thead>\n",
              "  <tbody>\n",
              "    <tr>\n",
              "      <th>December</th>\n",
              "      <td>0.0</td>\n",
              "      <td>0.0</td>\n",
              "      <td>1.0</td>\n",
              "      <td>7.0</td>\n",
              "      <td>44.0</td>\n",
              "      <td>39.0</td>\n",
              "      <td>64.0</td>\n",
              "      <td>50.0</td>\n",
              "      <td>74.0</td>\n",
              "      <td>0.0</td>\n",
              "    </tr>\n",
              "    <tr>\n",
              "      <th>November</th>\n",
              "      <td>0.0</td>\n",
              "      <td>0.0</td>\n",
              "      <td>3.0</td>\n",
              "      <td>2.0</td>\n",
              "      <td>18.0</td>\n",
              "      <td>31.0</td>\n",
              "      <td>41.0</td>\n",
              "      <td>77.0</td>\n",
              "      <td>55.0</td>\n",
              "      <td>0.0</td>\n",
              "    </tr>\n",
              "    <tr>\n",
              "      <th>October</th>\n",
              "      <td>0.0</td>\n",
              "      <td>2.0</td>\n",
              "      <td>0.0</td>\n",
              "      <td>5.0</td>\n",
              "      <td>18.0</td>\n",
              "      <td>32.0</td>\n",
              "      <td>46.0</td>\n",
              "      <td>73.0</td>\n",
              "      <td>56.0</td>\n",
              "      <td>0.0</td>\n",
              "    </tr>\n",
              "    <tr>\n",
              "      <th>September</th>\n",
              "      <td>0.0</td>\n",
              "      <td>1.0</td>\n",
              "      <td>0.0</td>\n",
              "      <td>1.0</td>\n",
              "      <td>19.0</td>\n",
              "      <td>33.0</td>\n",
              "      <td>44.0</td>\n",
              "      <td>44.0</td>\n",
              "      <td>62.0</td>\n",
              "      <td>0.0</td>\n",
              "    </tr>\n",
              "    <tr>\n",
              "      <th>August</th>\n",
              "      <td>0.0</td>\n",
              "      <td>1.0</td>\n",
              "      <td>0.0</td>\n",
              "      <td>0.0</td>\n",
              "      <td>17.0</td>\n",
              "      <td>38.0</td>\n",
              "      <td>34.0</td>\n",
              "      <td>53.0</td>\n",
              "      <td>61.0</td>\n",
              "      <td>0.0</td>\n",
              "    </tr>\n",
              "    <tr>\n",
              "      <th>July</th>\n",
              "      <td>0.0</td>\n",
              "      <td>0.0</td>\n",
              "      <td>0.0</td>\n",
              "      <td>3.0</td>\n",
              "      <td>10.0</td>\n",
              "      <td>34.0</td>\n",
              "      <td>30.0</td>\n",
              "      <td>67.0</td>\n",
              "      <td>53.0</td>\n",
              "      <td>0.0</td>\n",
              "    </tr>\n",
              "    <tr>\n",
              "      <th>June</th>\n",
              "      <td>0.0</td>\n",
              "      <td>0.0</td>\n",
              "      <td>0.0</td>\n",
              "      <td>3.0</td>\n",
              "      <td>8.0</td>\n",
              "      <td>30.0</td>\n",
              "      <td>28.0</td>\n",
              "      <td>48.0</td>\n",
              "      <td>48.0</td>\n",
              "      <td>0.0</td>\n",
              "    </tr>\n",
              "    <tr>\n",
              "      <th>May</th>\n",
              "      <td>0.0</td>\n",
              "      <td>0.0</td>\n",
              "      <td>0.0</td>\n",
              "      <td>2.0</td>\n",
              "      <td>4.0</td>\n",
              "      <td>25.0</td>\n",
              "      <td>28.0</td>\n",
              "      <td>49.0</td>\n",
              "      <td>64.0</td>\n",
              "      <td>0.0</td>\n",
              "    </tr>\n",
              "    <tr>\n",
              "      <th>April</th>\n",
              "      <td>0.0</td>\n",
              "      <td>0.0</td>\n",
              "      <td>1.0</td>\n",
              "      <td>4.0</td>\n",
              "      <td>8.0</td>\n",
              "      <td>29.0</td>\n",
              "      <td>31.0</td>\n",
              "      <td>50.0</td>\n",
              "      <td>58.0</td>\n",
              "      <td>0.0</td>\n",
              "    </tr>\n",
              "    <tr>\n",
              "      <th>March</th>\n",
              "      <td>0.0</td>\n",
              "      <td>1.0</td>\n",
              "      <td>0.0</td>\n",
              "      <td>2.0</td>\n",
              "      <td>3.0</td>\n",
              "      <td>38.0</td>\n",
              "      <td>38.0</td>\n",
              "      <td>60.0</td>\n",
              "      <td>56.0</td>\n",
              "      <td>0.0</td>\n",
              "    </tr>\n",
              "    <tr>\n",
              "      <th>February</th>\n",
              "      <td>1.0</td>\n",
              "      <td>0.0</td>\n",
              "      <td>1.0</td>\n",
              "      <td>1.0</td>\n",
              "      <td>7.0</td>\n",
              "      <td>18.0</td>\n",
              "      <td>24.0</td>\n",
              "      <td>46.0</td>\n",
              "      <td>46.0</td>\n",
              "      <td>0.0</td>\n",
              "    </tr>\n",
              "    <tr>\n",
              "      <th>January</th>\n",
              "      <td>0.0</td>\n",
              "      <td>0.0</td>\n",
              "      <td>0.0</td>\n",
              "      <td>0.0</td>\n",
              "      <td>29.0</td>\n",
              "      <td>14.0</td>\n",
              "      <td>22.0</td>\n",
              "      <td>39.0</td>\n",
              "      <td>64.0</td>\n",
              "      <td>29.0</td>\n",
              "    </tr>\n",
              "  </tbody>\n",
              "</table>\n",
              "</div>\n",
              "      <button class=\"colab-df-convert\" onclick=\"convertToInteractive('df-6d5cffd5-5f2f-4cd7-9bec-9e446feedc81')\"\n",
              "              title=\"Convert this dataframe to an interactive table.\"\n",
              "              style=\"display:none;\">\n",
              "        \n",
              "  <svg xmlns=\"http://www.w3.org/2000/svg\" height=\"24px\"viewBox=\"0 0 24 24\"\n",
              "       width=\"24px\">\n",
              "    <path d=\"M0 0h24v24H0V0z\" fill=\"none\"/>\n",
              "    <path d=\"M18.56 5.44l.94 2.06.94-2.06 2.06-.94-2.06-.94-.94-2.06-.94 2.06-2.06.94zm-11 1L8.5 8.5l.94-2.06 2.06-.94-2.06-.94L8.5 2.5l-.94 2.06-2.06.94zm10 10l.94 2.06.94-2.06 2.06-.94-2.06-.94-.94-2.06-.94 2.06-2.06.94z\"/><path d=\"M17.41 7.96l-1.37-1.37c-.4-.4-.92-.59-1.43-.59-.52 0-1.04.2-1.43.59L10.3 9.45l-7.72 7.72c-.78.78-.78 2.05 0 2.83L4 21.41c.39.39.9.59 1.41.59.51 0 1.02-.2 1.41-.59l7.78-7.78 2.81-2.81c.8-.78.8-2.07 0-2.86zM5.41 20L4 18.59l7.72-7.72 1.47 1.35L5.41 20z\"/>\n",
              "  </svg>\n",
              "      </button>\n",
              "      \n",
              "  <style>\n",
              "    .colab-df-container {\n",
              "      display:flex;\n",
              "      flex-wrap:wrap;\n",
              "      gap: 12px;\n",
              "    }\n",
              "\n",
              "    .colab-df-convert {\n",
              "      background-color: #E8F0FE;\n",
              "      border: none;\n",
              "      border-radius: 50%;\n",
              "      cursor: pointer;\n",
              "      display: none;\n",
              "      fill: #1967D2;\n",
              "      height: 32px;\n",
              "      padding: 0 0 0 0;\n",
              "      width: 32px;\n",
              "    }\n",
              "\n",
              "    .colab-df-convert:hover {\n",
              "      background-color: #E2EBFA;\n",
              "      box-shadow: 0px 1px 2px rgba(60, 64, 67, 0.3), 0px 1px 3px 1px rgba(60, 64, 67, 0.15);\n",
              "      fill: #174EA6;\n",
              "    }\n",
              "\n",
              "    [theme=dark] .colab-df-convert {\n",
              "      background-color: #3B4455;\n",
              "      fill: #D2E3FC;\n",
              "    }\n",
              "\n",
              "    [theme=dark] .colab-df-convert:hover {\n",
              "      background-color: #434B5C;\n",
              "      box-shadow: 0px 1px 3px 1px rgba(0, 0, 0, 0.15);\n",
              "      filter: drop-shadow(0px 1px 2px rgba(0, 0, 0, 0.3));\n",
              "      fill: #FFFFFF;\n",
              "    }\n",
              "  </style>\n",
              "\n",
              "      <script>\n",
              "        const buttonEl =\n",
              "          document.querySelector('#df-6d5cffd5-5f2f-4cd7-9bec-9e446feedc81 button.colab-df-convert');\n",
              "        buttonEl.style.display =\n",
              "          google.colab.kernel.accessAllowed ? 'block' : 'none';\n",
              "\n",
              "        async function convertToInteractive(key) {\n",
              "          const element = document.querySelector('#df-6d5cffd5-5f2f-4cd7-9bec-9e446feedc81');\n",
              "          const dataTable =\n",
              "            await google.colab.kernel.invokeFunction('convertToInteractive',\n",
              "                                                     [key], {});\n",
              "          if (!dataTable) return;\n",
              "\n",
              "          const docLinkHtml = 'Like what you see? Visit the ' +\n",
              "            '<a target=\"_blank\" href=https://colab.research.google.com/notebooks/data_table.ipynb>data table notebook</a>'\n",
              "            + ' to learn more about interactive tables.';\n",
              "          element.innerHTML = '';\n",
              "          dataTable['output_type'] = 'display_data';\n",
              "          await google.colab.output.renderOutput(dataTable, element);\n",
              "          const docLink = document.createElement('div');\n",
              "          docLink.innerHTML = docLinkHtml;\n",
              "          element.appendChild(docLink);\n",
              "        }\n",
              "      </script>\n",
              "    </div>\n",
              "  </div>\n",
              "  "
            ]
          },
          "metadata": {},
          "execution_count": 16
        }
      ]
    },
    {
      "cell_type": "code",
      "execution_count": null,
      "metadata": {
        "_kg_hide-input": true,
        "papermill": {
          "duration": 0.759949,
          "end_time": "2021-02-25T06:29:57.870491",
          "exception": false,
          "start_time": "2021-02-25T06:29:57.110542",
          "status": "completed"
        },
        "tags": [],
        "id": "19W0dy_eihzB",
        "colab": {
          "base_uri": "https://localhost:8080/",
          "height": 686
        },
        "outputId": "060636cc-ecbd-4a2c-9a6c-03bdf723634f"
      },
      "outputs": [
        {
          "output_type": "display_data",
          "data": {
            "text/plain": [
              "<Figure size 1000x800 with 2 Axes>"
            ],
            "image/png": "[encoded data removed]"
          },
          "metadata": {}
        }
      ],
      "source": [
        "plt.figure(figsize=(10, 8), dpi=100)\n",
        "plt.pcolor(df, cmap='GnBu', edgecolors='white', linewidths=2)\n",
        "plt.xticks(np.arange(0.5, len(df.columns), 1), df.columns, fontsize=7)\n",
        "plt.yticks(np.arange(0.5, len(df.index), 1), df.index, fontsize=7)\n",
        "\n",
        "plt.title('Netflix Contents Update', fontsize=12, fontweight='bold')\n",
        "cbar = plt.colorbar()\n",
        "\n",
        "cbar.ax.tick_params(labelsize=8) \n",
        "cbar.ax.minorticks_on()\n",
        "plt.show()"
      ]
    },
    {
      "cell_type": "markdown",
      "metadata": {
        "papermill": {
          "duration": 0.070251,
          "end_time": "2021-02-25T06:29:58.013600",
          "exception": false,
          "start_time": "2021-02-25T06:29:57.943349",
          "status": "completed"
        },
        "tags": [],
        "id": "jFNzuq3ZihzD"
      },
      "source": [
        "В 2019 году в январе и декабре было выпущено достаточно мало контента, хотя эти месяцы очень прибыльные."
      ]
    },
    {
      "cell_type": "markdown",
      "metadata": {
        "papermill": {
          "duration": 0.077134,
          "end_time": "2021-02-25T06:29:58.162775",
          "exception": false,
          "start_time": "2021-02-25T06:29:58.085641",
          "status": "completed"
        },
        "tags": [],
        "id": "_fKCkdfRihzD"
      },
      "source": [
        "## Анализ рейтингов фильмов"
      ]
    },
    {
      "cell_type": "code",
      "execution_count": null,
      "metadata": {
        "papermill": {
          "duration": 0.426774,
          "end_time": "2021-02-25T06:29:58.674941",
          "exception": false,
          "start_time": "2021-02-25T06:29:58.248167",
          "status": "completed"
        },
        "tags": [],
        "id": "V4FArvS_ihzE",
        "colab": {
          "base_uri": "https://localhost:8080/",
          "height": 611
        },
        "outputId": "6f2912a3-d337-438b-ee73-83096d89d0fa"
      },
      "outputs": [
        {
          "output_type": "display_data",
          "data": {
            "text/plain": [
              "<Figure size 864x720 with 1 Axes>"
            ],
            "image/png": "[encoded data removed]"
          },
          "metadata": {}
        }
      ],
      "source": [
        "plt.figure(figsize=(12,10))\n",
        "sns.set(style=\"darkgrid\")\n",
        "ax = sns.countplot(x=\"rating\", data=netflix_movies, palette=\"Set2\", order=netflix_movies['rating'].value_counts().index[0:15])"
      ]
    },
    {
      "cell_type": "markdown",
      "metadata": {
        "papermill": {
          "duration": 0.071015,
          "end_time": "2021-02-25T06:29:58.819355",
          "exception": false,
          "start_time": "2021-02-25T06:29:58.748340",
          "status": "completed"
        },
        "tags": [],
        "id": "sS3P1N_UihzE"
      },
      "source": [
        "1. TV-MA - Самая большая группа. Такой рейтинг дается фильмам только для взрослой аудитории.\n",
        "2. TV-14 - Вторая группа по величине. Контент фильма с таким рейтингом не подходит для детей младше 14 лет.\n",
        "3. R - Фильмы не подходят для просмотра детям до 17 лет."
      ]
    },
    {
      "cell_type": "markdown",
      "metadata": {
        "papermill": {
          "duration": 0.073791,
          "end_time": "2021-02-25T06:30:05.880968",
          "exception": false,
          "start_time": "2021-02-25T06:30:05.807177",
          "status": "completed"
        },
        "tags": [],
        "id": "zBlhglPeihzK"
      },
      "source": [
        "## Анализ года выпуска фильма"
      ]
    },
    {
      "cell_type": "code",
      "execution_count": null,
      "metadata": {
        "papermill": {
          "duration": 0.481843,
          "end_time": "2021-02-25T06:30:06.437250",
          "exception": false,
          "start_time": "2021-02-25T06:30:05.955407",
          "status": "completed"
        },
        "tags": [],
        "id": "iNkvI2R-ihzL",
        "colab": {
          "base_uri": "https://localhost:8080/",
          "height": 611
        },
        "outputId": "b28c83f7-06de-48f4-b977-d1a5ab9d22ec"
      },
      "outputs": [
        {
          "output_type": "display_data",
          "data": {
            "text/plain": [
              "<Figure size 864x720 with 1 Axes>"
            ],
            "image/png": "[encoded data removed]"
          },
          "metadata": {}
        }
      ],
      "source": [
        "plt.figure(figsize=(12,10))\n",
        "sns.set(style=\"darkgrid\")\n",
        "ax = sns.countplot(y=\"release_year\", data=netflix_movies, palette=\"Set2\", order=netflix_movies['release_year'].value_counts().index[0:15])"
      ]
    },
    {
      "cell_type": "markdown",
      "metadata": {
        "papermill": {
          "duration": 0.076723,
          "end_time": "2021-02-25T06:30:06.588236",
          "exception": false,
          "start_time": "2021-02-25T06:30:06.511513",
          "status": "completed"
        },
        "tags": [],
        "id": "jlAVb0d9ihzL"
      },
      "source": [
        "В 2017 выходило больше всего фильмов."
      ]
    },
    {
      "cell_type": "markdown",
      "metadata": {
        "papermill": {
          "duration": 0.076366,
          "end_time": "2021-02-25T06:30:07.102328",
          "exception": false,
          "start_time": "2021-02-25T06:30:07.025962",
          "status": "completed"
        },
        "tags": [],
        "id": "6sc9uLcwihzM"
      },
      "source": [
        "## Топ 10 стран, которые выпускают фильмы"
      ]
    },
    {
      "cell_type": "code",
      "source": [
        "netflix_movies.isna().sum()"
      ],
      "metadata": {
        "id": "Ydhh78aUQ9ZX",
        "colab": {
          "base_uri": "https://localhost:8080/"
        },
        "outputId": "ac261299-286c-4844-920c-96f5641b7764"
      },
      "execution_count": null,
      "outputs": [
        {
          "output_type": "execute_result",
          "data": {
            "text/plain": [
              "show_id           0\n",
              "type              0\n",
              "title             0\n",
              "director        163\n",
              "cast            426\n",
              "country         230\n",
              "date_added        0\n",
              "release_year      0\n",
              "rating            5\n",
              "duration          0\n",
              "listed_in         0\n",
              "description       0\n",
              "dtype: int64"
            ]
          },
          "metadata": {},
          "execution_count": 24
        }
      ]
    },
    {
      "cell_type": "code",
      "source": [
        "netflix_movies['country'].fillna('Unknown').isna().sum()"
      ],
      "metadata": {
        "colab": {
          "base_uri": "https://localhost:8080/"
        },
        "id": "3tpn863PHIQE",
        "outputId": "d943f0d0-b15b-48a2-e78d-5fd200dfa7fa"
      },
      "execution_count": null,
      "outputs": [
        {
          "output_type": "execute_result",
          "data": {
            "text/plain": [
              "0"
            ]
          },
          "metadata": {},
          "execution_count": 23
        }
      ]
    },
    {
      "cell_type": "code",
      "source": [
        "netflix_movies['country'].fillna('Unknown', inplace=True)\n",
        "netflix_movies.isna().sum()"
      ],
      "metadata": {
        "id": "zts0Yi3hQ2DF",
        "colab": {
          "base_uri": "https://localhost:8080/"
        },
        "outputId": "6b1d3b7c-2797-4556-800a-f26b16bb2750"
      },
      "execution_count": null,
      "outputs": [
        {
          "output_type": "execute_result",
          "data": {
            "text/plain": [
              "show_id           0\n",
              "type              0\n",
              "title             0\n",
              "director        163\n",
              "cast            426\n",
              "country           0\n",
              "date_added        0\n",
              "release_year      0\n",
              "rating            5\n",
              "duration          0\n",
              "listed_in         0\n",
              "description       0\n",
              "dtype: int64"
            ]
          },
          "metadata": {},
          "execution_count": 25
        }
      ]
    },
    {
      "cell_type": "code",
      "source": [
        "netflix_movies['country'].value_counts()"
      ],
      "metadata": {
        "id": "kiRjZ067RIqA",
        "colab": {
          "base_uri": "https://localhost:8080/"
        },
        "outputId": "cbbca0ee-6836-46e6-c38a-9a69f5597f67"
      },
      "execution_count": null,
      "outputs": [
        {
          "output_type": "execute_result",
          "data": {
            "text/plain": [
              "United States                                                   1850\n",
              "India                                                            852\n",
              "Unknown                                                          230\n",
              "United Kingdom                                                   193\n",
              "Canada                                                           118\n",
              "                                                                ... \n",
              "United Kingdom, Denmark, Canada, Croatia                           1\n",
              "United States, South Korea                                         1\n",
              "Kenya, United States                                               1\n",
              "India, Turkey                                                      1\n",
              "Sweden, Czech Republic, United Kingdom, Denmark, Netherlands       1\n",
              "Name: country, Length: 591, dtype: int64"
            ]
          },
          "metadata": {},
          "execution_count": 26
        }
      ]
    },
    {
      "cell_type": "code",
      "execution_count": null,
      "metadata": {
        "_kg_hide-input": true,
        "_kg_hide-output": true,
        "papermill": {
          "duration": 0.122379,
          "end_time": "2021-02-25T06:30:06.786166",
          "exception": false,
          "start_time": "2021-02-25T06:30:06.663787",
          "status": "completed"
        },
        "tags": [],
        "id": "0njNvKjAihzL"
      },
      "outputs": [],
      "source": [
        "countries_mov = {}\n",
        "\n",
        "cou = list(netflix_movies['country'])\n",
        "for i in cou:\n",
        "    i = i.replace(' ', '')\n",
        "    i = list(i.split(','))\n",
        "\n",
        "    for j in i:\n",
        "        if j in list(countries_mov.keys()):\n",
        "            countries_mov[j]+=1\n",
        "        else:\n",
        "            countries_mov[j]=1"
      ]
    },
    {
      "cell_type": "code",
      "source": [
        "countries_mov"
      ],
      "metadata": {
        "id": "FZd3QkaIRb3Y",
        "colab": {
          "base_uri": "https://localhost:8080/"
        },
        "outputId": "79957a6a-b460-4adc-d64b-ff4d0705eef9"
      },
      "execution_count": null,
      "outputs": [
        {
          "output_type": "execute_result",
          "data": {
            "text/plain": [
              "{'': 4,\n",
              " 'Afghanistan': 1,\n",
              " 'Albania': 1,\n",
              " 'Algeria': 2,\n",
              " 'Angola': 1,\n",
              " 'Argentina': 64,\n",
              " 'Armenia': 1,\n",
              " 'Australia': 84,\n",
              " 'Austria': 10,\n",
              " 'Bahamas': 1,\n",
              " 'Bangladesh': 3,\n",
              " 'Belgium': 74,\n",
              " 'Bermuda': 1,\n",
              " 'Botswana': 1,\n",
              " 'Brazil': 59,\n",
              " 'Bulgaria': 9,\n",
              " 'Cambodia': 5,\n",
              " 'Canada': 286,\n",
              " 'CaymanIslands': 2,\n",
              " 'Chile': 21,\n",
              " 'China': 102,\n",
              " 'Colombia': 17,\n",
              " 'Croatia': 3,\n",
              " 'CzechRepublic': 14,\n",
              " 'Denmark': 31,\n",
              " 'DominicanRepublic': 1,\n",
              " 'EastGermany': 1,\n",
              " 'Ecuador': 1,\n",
              " 'Egypt': 97,\n",
              " 'Finland': 7,\n",
              " 'France': 265,\n",
              " 'Georgia': 2,\n",
              " 'Germany': 157,\n",
              " 'Ghana': 4,\n",
              " 'Greece': 8,\n",
              " 'Guatemala': 2,\n",
              " 'HongKong': 97,\n",
              " 'Hungary': 8,\n",
              " 'Iceland': 7,\n",
              " 'India': 915,\n",
              " 'Indonesia': 77,\n",
              " 'Iran': 4,\n",
              " 'Iraq': 2,\n",
              " 'Ireland': 28,\n",
              " 'Israel': 18,\n",
              " 'Italy': 67,\n",
              " 'Jamaica': 1,\n",
              " 'Japan': 103,\n",
              " 'Jordan': 7,\n",
              " 'Kazakhstan': 1,\n",
              " 'Kenya': 5,\n",
              " 'Kuwait': 4,\n",
              " 'Latvia': 1,\n",
              " 'Lebanon': 19,\n",
              " 'Liechtenstein': 1,\n",
              " 'Lithuania': 1,\n",
              " 'Luxembourg': 10,\n",
              " 'Malawi': 1,\n",
              " 'Malaysia': 18,\n",
              " 'Malta': 2,\n",
              " 'Mexico': 101,\n",
              " 'Mongolia': 1,\n",
              " 'Montenegro': 1,\n",
              " 'Morocco': 6,\n",
              " 'Namibia': 2,\n",
              " 'Nepal': 2,\n",
              " 'Netherlands': 37,\n",
              " 'NewZealand': 20,\n",
              " 'Nicaragua': 1,\n",
              " 'Nigeria': 68,\n",
              " 'Norway': 20,\n",
              " 'Pakistan': 20,\n",
              " 'Panama': 1,\n",
              " 'Paraguay': 1,\n",
              " 'Peru': 10,\n",
              " 'Philippines': 77,\n",
              " 'Poland': 28,\n",
              " 'Portugal': 4,\n",
              " 'Qatar': 7,\n",
              " 'Romania': 12,\n",
              " 'Russia': 10,\n",
              " 'Samoa': 1,\n",
              " 'SaudiArabia': 6,\n",
              " 'Senegal': 2,\n",
              " 'Serbia': 7,\n",
              " 'Singapore': 18,\n",
              " 'Slovakia': 1,\n",
              " 'Slovenia': 3,\n",
              " 'Somalia': 1,\n",
              " 'SouthAfrica': 44,\n",
              " 'SouthKorea': 55,\n",
              " 'SovietUnion': 3,\n",
              " 'Spain': 158,\n",
              " 'SriLanka': 1,\n",
              " 'Sudan': 1,\n",
              " 'Sweden': 29,\n",
              " 'Switzerland': 16,\n",
              " 'Taiwan': 15,\n",
              " 'Thailand': 43,\n",
              " 'Turkey': 80,\n",
              " 'Uganda': 1,\n",
              " 'Ukraine': 1,\n",
              " 'UnitedArabEmirates': 33,\n",
              " 'UnitedKingdom': 467,\n",
              " 'UnitedStates': 2431,\n",
              " 'Unknown': 230,\n",
              " 'Uruguay': 13,\n",
              " 'VaticanCity': 1,\n",
              " 'Venezuela': 3,\n",
              " 'Vietnam': 5,\n",
              " 'WestGermany': 3,\n",
              " 'Zimbabwe': 3}"
            ]
          },
          "metadata": {},
          "execution_count": 28
        }
      ]
    },
    {
      "cell_type": "code",
      "source": [
        "countries_fin = sorted(countries_mov.items(), key=lambda item: countries_mov[item[0]], reverse=True)\n",
        "countries_fin = countries_fin[:10]\n",
        "countries_fin"
      ],
      "metadata": {
        "id": "0Ml9XOSgSbQc",
        "colab": {
          "base_uri": "https://localhost:8080/"
        },
        "outputId": "77becdb3-b47f-419b-eac9-5c9714d66438"
      },
      "execution_count": null,
      "outputs": [
        {
          "output_type": "execute_result",
          "data": {
            "text/plain": [
              "[('UnitedStates', 2431),\n",
              " ('India', 915),\n",
              " ('UnitedKingdom', 467),\n",
              " ('Canada', 286),\n",
              " ('France', 265),\n",
              " ('Unknown', 230),\n",
              " ('Spain', 158),\n",
              " ('Germany', 157),\n",
              " ('Japan', 103),\n",
              " ('China', 102)]"
            ]
          },
          "metadata": {},
          "execution_count": 29
        }
      ]
    },
    {
      "cell_type": "code",
      "source": [
        "names = [name for name, value in countries_fin]\n",
        "names"
      ],
      "metadata": {
        "id": "G8QqQyKhTHTx",
        "colab": {
          "base_uri": "https://localhost:8080/"
        },
        "outputId": "17dd27b6-06b1-4c01-ffb3-3edd2ea741a6"
      },
      "execution_count": null,
      "outputs": [
        {
          "output_type": "execute_result",
          "data": {
            "text/plain": [
              "['UnitedStates',\n",
              " 'India',\n",
              " 'UnitedKingdom',\n",
              " 'Canada',\n",
              " 'France',\n",
              " 'Unknown',\n",
              " 'Spain',\n",
              " 'Germany',\n",
              " 'Japan',\n",
              " 'China']"
            ]
          },
          "metadata": {},
          "execution_count": 30
        }
      ]
    },
    {
      "cell_type": "code",
      "source": [
        "values = [value for name, value in countries_fin]\n",
        "values"
      ],
      "metadata": {
        "id": "vUsbzzqyTUMC",
        "colab": {
          "base_uri": "https://localhost:8080/"
        },
        "outputId": "c2344f75-273f-4279-e30f-681820c5801f"
      },
      "execution_count": null,
      "outputs": [
        {
          "output_type": "execute_result",
          "data": {
            "text/plain": [
              "[2431, 915, 467, 286, 265, 230, 158, 157, 103, 102]"
            ]
          },
          "metadata": {},
          "execution_count": 31
        }
      ]
    },
    {
      "cell_type": "code",
      "execution_count": null,
      "metadata": {
        "_kg_hide-input": true,
        "_kg_hide-output": true,
        "papermill": {
          "duration": 0.357813,
          "end_time": "2021-02-25T06:30:07.538356",
          "exception": false,
          "start_time": "2021-02-25T06:30:07.180543",
          "status": "completed"
        },
        "tags": [],
        "id": "1tl-DDSDihzN",
        "colab": {
          "base_uri": "https://localhost:8080/",
          "height": 543
        },
        "outputId": "cc13b9af-ac5a-42c8-94b8-098b30a626fc"
      },
      "outputs": [
        {
          "output_type": "display_data",
          "data": {
            "text/plain": [
              "<Figure size 576x576 with 1 Axes>"
            ],
            "image/png": "[encoded data removed]"
          },
          "metadata": {}
        }
      ],
      "source": [
        "plt.figure(figsize=(8,8))\n",
        "ax = sns.barplot(x=names, y=values)\n",
        "ax.set_xticklabels(names, rotation=45);"
      ]
    },
    {
      "cell_type": "markdown",
      "metadata": {
        "papermill": {
          "duration": 0.077104,
          "end_time": "2021-02-25T06:30:07.691900",
          "exception": false,
          "start_time": "2021-02-25T06:30:07.614796",
          "status": "completed"
        },
        "tags": [],
        "id": "Glw4V9H2ihzN"
      },
      "source": [
        "## Анализ продолжительности фильма"
      ]
    },
    {
      "cell_type": "code",
      "source": [
        "netflix_movies['duration']"
      ],
      "metadata": {
        "id": "eL8WxH2-VBsL",
        "colab": {
          "base_uri": "https://localhost:8080/"
        },
        "outputId": "3e1cdbd8-f95b-4d66-abf6-76feb3232258"
      },
      "execution_count": null,
      "outputs": [
        {
          "output_type": "execute_result",
          "data": {
            "text/plain": [
              "1        93 min\n",
              "2        78 min\n",
              "3        80 min\n",
              "4       123 min\n",
              "6        95 min\n",
              "         ...   \n",
              "7781     88 min\n",
              "7782     99 min\n",
              "7783    111 min\n",
              "7784     44 min\n",
              "7786     90 min\n",
              "Name: duration, Length: 5377, dtype: object"
            ]
          },
          "metadata": {},
          "execution_count": 33
        }
      ]
    },
    {
      "cell_type": "code",
      "execution_count": null,
      "metadata": {
        "_kg_hide-input": true,
        "_kg_hide-output": true,
        "papermill": {
          "duration": 0.104963,
          "end_time": "2021-02-25T06:30:07.874601",
          "exception": false,
          "start_time": "2021-02-25T06:30:07.769638",
          "status": "completed"
        },
        "tags": [],
        "id": "wva7oEnKihzN",
        "colab": {
          "base_uri": "https://localhost:8080/"
        },
        "outputId": "01514a57-5db4-49e6-e896-737285ca00a5"
      },
      "outputs": [
        {
          "output_type": "execute_result",
          "data": {
            "text/plain": [
              "1        93\n",
              "2        78\n",
              "3        80\n",
              "4       123\n",
              "6        95\n",
              "       ... \n",
              "7781     88\n",
              "7782     99\n",
              "7783    111\n",
              "7784     44\n",
              "7786     90\n",
              "Name: duration, Length: 5377, dtype: int64"
            ]
          },
          "metadata": {},
          "execution_count": 34
        }
      ],
      "source": [
        "netflix_movies['duration'] = netflix_movies['duration'].str.replace(' min','')\n",
        "netflix_movies['duration'] = netflix_movies['duration'].astype(int)\n",
        "netflix_movies['duration']"
      ]
    },
    {
      "cell_type": "code",
      "execution_count": null,
      "metadata": {
        "papermill": {
          "duration": 0.391059,
          "end_time": "2021-02-25T06:30:08.344543",
          "exception": false,
          "start_time": "2021-02-25T06:30:07.953484",
          "status": "completed"
        },
        "tags": [],
        "id": "ofoDU-tKihzO",
        "colab": {
          "base_uri": "https://localhost:8080/",
          "height": 502
        },
        "outputId": "744c60b5-e70b-49be-ed4c-7d5afd9361a3"
      },
      "outputs": [
        {
          "output_type": "display_data",
          "data": {
            "text/plain": [
              "<Figure size 720x576 with 1 Axes>"
            ],
            "image/png": "[encoded data removed]"
          },
          "metadata": {}
        }
      ],
      "source": [
        "sns.set(style=\"darkgrid\")\n",
        "plt.figure(figsize=(10, 8))\n",
        "sns.kdeplot(data=netflix_movies['duration'], shade=True);"
      ]
    },
    {
      "cell_type": "markdown",
      "metadata": {
        "papermill": {
          "duration": 0.079518,
          "end_time": "2021-02-25T06:30:08.504644",
          "exception": false,
          "start_time": "2021-02-25T06:30:08.425126",
          "status": "completed"
        },
        "tags": [],
        "id": "7IO1e_MjihzO"
      },
      "source": [
        "Большое количество фильмов длятся 75-120 минут."
      ]
    },
    {
      "cell_type": "markdown",
      "metadata": {
        "papermill": {
          "duration": 0.082708,
          "end_time": "2021-02-25T06:30:10.451358",
          "exception": false,
          "start_time": "2021-02-25T06:30:10.368650",
          "status": "completed"
        },
        "tags": [],
        "id": "4m8sqaQWihzP"
      },
      "source": [
        "## Анализ жанров"
      ]
    },
    {
      "cell_type": "code",
      "source": [
        "netflix_movies['listed_in']"
      ],
      "metadata": {
        "id": "7BN4MiQdVcRP",
        "colab": {
          "base_uri": "https://localhost:8080/"
        },
        "outputId": "e1793e1c-e2ef-4e6f-f675-5224a1930a23"
      },
      "execution_count": null,
      "outputs": [
        {
          "output_type": "execute_result",
          "data": {
            "text/plain": [
              "1                            Dramas, International Movies\n",
              "2                     Horror Movies, International Movies\n",
              "3       Action & Adventure, Independent Movies, Sci-Fi...\n",
              "4                                                  Dramas\n",
              "6                     Horror Movies, International Movies\n",
              "                              ...                        \n",
              "7781                   Children & Family Movies, Comedies\n",
              "7782                         Dramas, International Movies\n",
              "7783       Dramas, International Movies, Music & Musicals\n",
              "7784    Documentaries, International Movies, Music & M...\n",
              "7786                      Documentaries, Music & Musicals\n",
              "Name: listed_in, Length: 5377, dtype: object"
            ]
          },
          "metadata": {},
          "execution_count": 36
        }
      ]
    },
    {
      "cell_type": "markdown",
      "source": [
        "1. Анализ вещественные\n",
        "    1.1. Пропуск (до 5% nan - del)\n",
        "    1.2 Пропуск больше 5% до 50% - заменять (mean, medianm mode)\n",
        "    1.3 Выбросы (до 5% nan - del)\n",
        "    1.4 50% - del\n",
        "2. Анализа категориальные\n",
        "3. Взаимное распределение"
      ],
      "metadata": {
        "id": "Gec3icpAJxD9"
      }
    },
    {
      "cell_type": "code",
      "execution_count": null,
      "metadata": {
        "_kg_hide-input": true,
        "papermill": {
          "duration": 0.103304,
          "end_time": "2021-02-25T06:30:08.688301",
          "exception": false,
          "start_time": "2021-02-25T06:30:08.584997",
          "status": "completed"
        },
        "tags": [],
        "id": "1gPofNmlihzO"
      },
      "outputs": [],
      "source": [
        "from collections import Counter\n",
        "\n",
        "genres = list(netflix_movies['listed_in'])\n",
        "gen = []\n",
        "\n",
        "for i in genres:\n",
        "    i = list(i.split(','))\n",
        "    for j in i:\n",
        "        gen.append(j.replace(' ', ''))\n",
        "        \n",
        "g = Counter(gen)"
      ]
    },
    {
      "cell_type": "code",
      "source": [
        "g "
      ],
      "metadata": {
        "colab": {
          "base_uri": "https://localhost:8080/"
        },
        "id": "-eTjOVgzI-Dk",
        "outputId": "4a9e4cef-580f-4954-e312-2b707ae46188"
      },
      "execution_count": null,
      "outputs": [
        {
          "output_type": "execute_result",
          "data": {
            "text/plain": [
              "Counter({'Action&Adventure': 721,\n",
              "         'AnimeFeatures': 57,\n",
              "         'Children&FamilyMovies': 532,\n",
              "         'ClassicMovies': 103,\n",
              "         'Comedies': 1471,\n",
              "         'CultMovies': 59,\n",
              "         'Documentaries': 786,\n",
              "         'Dramas': 2106,\n",
              "         'Faith&Spirituality': 57,\n",
              "         'HorrorMovies': 312,\n",
              "         'IndependentMovies': 673,\n",
              "         'InternationalMovies': 2437,\n",
              "         'LGBTQMovies': 90,\n",
              "         'Movies': 56,\n",
              "         'Music&Musicals': 321,\n",
              "         'RomanticMovies': 531,\n",
              "         'Sci-Fi&Fantasy': 218,\n",
              "         'SportsMovies': 196,\n",
              "         'Stand-UpComedy': 329,\n",
              "         'Thrillers': 491})"
            ]
          },
          "metadata": {},
          "execution_count": 38
        }
      ]
    },
    {
      "cell_type": "code",
      "source": [
        "g = sorted(g.items(), key=lambda item: g[item[0]], reverse=True)\n",
        "g"
      ],
      "metadata": {
        "id": "Khv89Gt2VVo2",
        "colab": {
          "base_uri": "https://localhost:8080/"
        },
        "outputId": "e5d01f98-2407-462b-91d7-92fdb58cddc4"
      },
      "execution_count": null,
      "outputs": [
        {
          "output_type": "execute_result",
          "data": {
            "text/plain": [
              "[('InternationalMovies', 2437),\n",
              " ('Dramas', 2106),\n",
              " ('Comedies', 1471),\n",
              " ('Documentaries', 786),\n",
              " ('Action&Adventure', 721),\n",
              " ('IndependentMovies', 673),\n",
              " ('Children&FamilyMovies', 532),\n",
              " ('RomanticMovies', 531),\n",
              " ('Thrillers', 491),\n",
              " ('Stand-UpComedy', 329),\n",
              " ('Music&Musicals', 321),\n",
              " ('HorrorMovies', 312),\n",
              " ('Sci-Fi&Fantasy', 218),\n",
              " ('SportsMovies', 196),\n",
              " ('ClassicMovies', 103),\n",
              " ('LGBTQMovies', 90),\n",
              " ('CultMovies', 59),\n",
              " ('Faith&Spirituality', 57),\n",
              " ('AnimeFeatures', 57),\n",
              " ('Movies', 56)]"
            ]
          },
          "metadata": {},
          "execution_count": 39
        }
      ]
    },
    {
      "cell_type": "code",
      "source": [
        "genre_names = [name for name, value in g]\n",
        "genre_names"
      ],
      "metadata": {
        "id": "hXzl5XMFWCfS",
        "colab": {
          "base_uri": "https://localhost:8080/"
        },
        "outputId": "fe8f5679-063b-41d6-cec2-2582958516d0"
      },
      "execution_count": null,
      "outputs": [
        {
          "output_type": "execute_result",
          "data": {
            "text/plain": [
              "['InternationalMovies',\n",
              " 'Dramas',\n",
              " 'Comedies',\n",
              " 'Documentaries',\n",
              " 'Action&Adventure',\n",
              " 'IndependentMovies',\n",
              " 'Children&FamilyMovies',\n",
              " 'RomanticMovies',\n",
              " 'Thrillers',\n",
              " 'Stand-UpComedy',\n",
              " 'Music&Musicals',\n",
              " 'HorrorMovies',\n",
              " 'Sci-Fi&Fantasy',\n",
              " 'SportsMovies',\n",
              " 'ClassicMovies',\n",
              " 'LGBTQMovies',\n",
              " 'CultMovies',\n",
              " 'Faith&Spirituality',\n",
              " 'AnimeFeatures',\n",
              " 'Movies']"
            ]
          },
          "metadata": {},
          "execution_count": 40
        }
      ]
    },
    {
      "cell_type": "code",
      "source": [
        "genre_values = [value for name, value in g]\n",
        "genre_values"
      ],
      "metadata": {
        "id": "sUWooMFrWJ2a",
        "colab": {
          "base_uri": "https://localhost:8080/"
        },
        "outputId": "3f3c51b8-ab4b-4b2d-b60d-f0920be627a0"
      },
      "execution_count": null,
      "outputs": [
        {
          "output_type": "execute_result",
          "data": {
            "text/plain": [
              "[2437,\n",
              " 2106,\n",
              " 1471,\n",
              " 786,\n",
              " 721,\n",
              " 673,\n",
              " 532,\n",
              " 531,\n",
              " 491,\n",
              " 329,\n",
              " 321,\n",
              " 312,\n",
              " 218,\n",
              " 196,\n",
              " 103,\n",
              " 90,\n",
              " 59,\n",
              " 57,\n",
              " 57,\n",
              " 56]"
            ]
          },
          "metadata": {},
          "execution_count": 41
        }
      ]
    },
    {
      "cell_type": "code",
      "execution_count": null,
      "metadata": {
        "papermill": {
          "duration": 0.656359,
          "end_time": "2021-02-25T06:30:11.191421",
          "exception": false,
          "start_time": "2021-02-25T06:30:10.535062",
          "status": "completed"
        },
        "tags": [],
        "id": "6hwBJgQtihzP",
        "colab": {
          "base_uri": "https://localhost:8080/",
          "height": 725
        },
        "outputId": "dde7222e-1428-45d3-d818-39a889f19d5e"
      },
      "outputs": [
        {
          "output_type": "display_data",
          "data": {
            "text/plain": [
              "<Figure size 720x720 with 1 Axes>"
            ],
            "image/png": "[encoded data removed]"
          },
          "metadata": {}
        }
      ],
      "source": [
        "fig = plt.figure(figsize = (10, 10))\n",
        "ax = sns.barplot(x=genre_names, y=genre_values)\n",
        "\n",
        "ax.set_xticklabels(genre_names, rotation=70)\n",
        "ax.set_ylabel(\"Count of movies\")\n",
        "ax.set_title(\"Genres\");"
      ]
    },
    {
      "cell_type": "markdown",
      "metadata": {
        "papermill": {
          "duration": 0.084998,
          "end_time": "2021-02-25T06:30:11.361515",
          "exception": false,
          "start_time": "2021-02-25T06:30:11.276517",
          "status": "completed"
        },
        "tags": [],
        "id": "EM6gdjPIihzQ"
      },
      "source": [
        "Интернациональные фильмы, драмы и комедии - топовые жанры."
      ]
    },
    {
      "cell_type": "markdown",
      "metadata": {
        "papermill": {
          "duration": 0.084417,
          "end_time": "2021-02-25T06:30:11.530870",
          "exception": false,
          "start_time": "2021-02-25T06:30:11.446453",
          "status": "completed"
        },
        "tags": [],
        "id": "3j0Hw1gxihzQ"
      },
      "source": [
        "# Анализ сериалов"
      ]
    },
    {
      "cell_type": "markdown",
      "source": [
        "## Анализ стран, выпускающих сериалы"
      ],
      "metadata": {
        "id": "8LhGn3_9WsfI"
      }
    },
    {
      "cell_type": "code",
      "source": [
        "netflix_shows.shape"
      ],
      "metadata": {
        "colab": {
          "base_uri": "https://localhost:8080/"
        },
        "id": "8VzHtvuVL6Tl",
        "outputId": "c89436c3-34a1-4ecf-d0ac-481b770764bc"
      },
      "execution_count": null,
      "outputs": [
        {
          "output_type": "execute_result",
          "data": {
            "text/plain": [
              "(2410, 12)"
            ]
          },
          "metadata": {},
          "execution_count": 46
        }
      ]
    },
    {
      "cell_type": "code",
      "source": [
        "netflix_shows.isna().sum()"
      ],
      "metadata": {
        "id": "X4k4mZPJW1eD",
        "colab": {
          "base_uri": "https://localhost:8080/"
        },
        "outputId": "50c0e129-ea3b-43fa-a890-50f522f3d0b3"
      },
      "execution_count": null,
      "outputs": [
        {
          "output_type": "execute_result",
          "data": {
            "text/plain": [
              "show_id            0\n",
              "type               0\n",
              "title              0\n",
              "director        2226\n",
              "cast             292\n",
              "country          277\n",
              "date_added        10\n",
              "release_year       0\n",
              "rating             2\n",
              "duration           0\n",
              "listed_in          0\n",
              "description        0\n",
              "dtype: int64"
            ]
          },
          "metadata": {},
          "execution_count": 45
        }
      ]
    },
    {
      "cell_type": "code",
      "source": [
        "netflix_shows['country'].fillna('Unknown', inplace=True)\n",
        "netflix_shows.isna().sum()"
      ],
      "metadata": {
        "id": "omqQEdv3W1eG",
        "colab": {
          "base_uri": "https://localhost:8080/"
        },
        "outputId": "629685b1-6369-4744-e860-aa62320d638b"
      },
      "execution_count": null,
      "outputs": [
        {
          "output_type": "execute_result",
          "data": {
            "text/plain": [
              "show_id            0\n",
              "type               0\n",
              "title              0\n",
              "director        2226\n",
              "cast             292\n",
              "country            0\n",
              "date_added        10\n",
              "release_year       0\n",
              "rating             2\n",
              "duration           0\n",
              "listed_in          0\n",
              "description        0\n",
              "dtype: int64"
            ]
          },
          "metadata": {},
          "execution_count": 47
        }
      ]
    },
    {
      "cell_type": "code",
      "source": [
        "netflix_shows['country'].value_counts()"
      ],
      "metadata": {
        "id": "8O7lLudhW1eI",
        "colab": {
          "base_uri": "https://localhost:8080/"
        },
        "outputId": "10f92656-d834-4183-e9af-ac1c2f0ca86e"
      },
      "execution_count": null,
      "outputs": [
        {
          "output_type": "execute_result",
          "data": {
            "text/plain": [
              "United States                                                705\n",
              "Unknown                                                      277\n",
              "United Kingdom                                               204\n",
              "Japan                                                        157\n",
              "South Korea                                                  147\n",
              "                                                            ... \n",
              "Canada, United States, United Kingdom, France, Luxembourg      1\n",
              "United States, Italy                                           1\n",
              "Chile, Italy                                                   1\n",
              "Canada, United Kingdom                                         1\n",
              "United States, France, South Korea, Indonesia                  1\n",
              "Name: country, Length: 184, dtype: int64"
            ]
          },
          "metadata": {},
          "execution_count": 48
        }
      ]
    },
    {
      "cell_type": "code",
      "execution_count": null,
      "metadata": {
        "_kg_hide-input": true,
        "_kg_hide-output": true,
        "papermill": {
          "duration": 0.122379,
          "end_time": "2021-02-25T06:30:06.786166",
          "exception": false,
          "start_time": "2021-02-25T06:30:06.663787",
          "status": "completed"
        },
        "tags": [],
        "id": "bydhPVzIW1eK"
      },
      "outputs": [],
      "source": [
        "countries_show = {}\n",
        "\n",
        "cou = list(netflix_shows['country'])\n",
        "for i in cou:\n",
        "    i = i.replace(' ', '')\n",
        "    i = list(i.split(','))\n",
        "    \n",
        "    for j in i:\n",
        "        if j in list(countries_show.keys()):\n",
        "            countries_show[j]+=1\n",
        "        else:\n",
        "            countries_show[j]=1"
      ]
    },
    {
      "cell_type": "code",
      "source": [
        "countries_show"
      ],
      "metadata": {
        "id": "clsax8FGW1eN",
        "colab": {
          "base_uri": "https://localhost:8080/"
        },
        "outputId": "0dd2f3ba-730f-4df1-e704-845b511abad6"
      },
      "execution_count": null,
      "outputs": [
        {
          "output_type": "execute_result",
          "data": {
            "text/plain": [
              "{'Argentina': 18,\n",
              " 'Australia': 60,\n",
              " 'Austria': 1,\n",
              " 'Azerbaijan': 1,\n",
              " 'Belarus': 1,\n",
              " 'Belgium': 11,\n",
              " 'Brazil': 29,\n",
              " 'Canada': 126,\n",
              " 'Chile': 5,\n",
              " 'China': 45,\n",
              " 'Colombia': 28,\n",
              " 'Croatia': 1,\n",
              " 'Cuba': 1,\n",
              " 'Cyprus': 1,\n",
              " 'CzechRepublic': 6,\n",
              " 'Denmark': 13,\n",
              " 'Egypt': 13,\n",
              " 'Finland': 4,\n",
              " 'France': 84,\n",
              " 'Germany': 42,\n",
              " 'Greece': 2,\n",
              " 'HongKong': 5,\n",
              " 'Hungary': 1,\n",
              " 'Iceland': 2,\n",
              " 'India': 75,\n",
              " 'Indonesia': 3,\n",
              " 'Ireland': 12,\n",
              " 'Israel': 8,\n",
              " 'Italy': 23,\n",
              " 'Japan': 184,\n",
              " 'Jordan': 1,\n",
              " 'Kuwait': 3,\n",
              " 'Lebanon': 7,\n",
              " 'Luxembourg': 1,\n",
              " 'Malaysia': 8,\n",
              " 'Malta': 1,\n",
              " 'Mauritius': 1,\n",
              " 'Mexico': 53,\n",
              " 'Netherlands': 8,\n",
              " 'NewZealand': 8,\n",
              " 'Nigeria': 8,\n",
              " 'Norway': 9,\n",
              " 'Pakistan': 4,\n",
              " 'Philippines': 1,\n",
              " 'Poland': 8,\n",
              " 'PuertoRico': 1,\n",
              " 'Russia': 17,\n",
              " 'SaudiArabia': 4,\n",
              " 'Senegal': 1,\n",
              " 'Singapore': 21,\n",
              " 'SouthAfrica': 10,\n",
              " 'SouthKorea': 157,\n",
              " 'Spain': 57,\n",
              " 'Sweden': 10,\n",
              " 'Switzerland': 1,\n",
              " 'Syria': 1,\n",
              " 'Taiwan': 70,\n",
              " 'Thailand': 22,\n",
              " 'Turkey': 28,\n",
              " 'Ukraine': 2,\n",
              " 'UnitedArabEmirates': 1,\n",
              " 'UnitedKingdom': 256,\n",
              " 'UnitedStates': 866,\n",
              " 'Unknown': 277,\n",
              " 'Uruguay': 1,\n",
              " 'WestGermany': 2}"
            ]
          },
          "metadata": {},
          "execution_count": 50
        }
      ]
    },
    {
      "cell_type": "code",
      "source": [
        "countries_fin2 = sorted(countries_show.items(), key=lambda item: countries_show[item[0]], reverse=True)\n",
        "countries_fin2 = countries_fin2[:10]\n",
        "countries_fin2"
      ],
      "metadata": {
        "id": "04KoEG4YW1eO",
        "colab": {
          "base_uri": "https://localhost:8080/"
        },
        "outputId": "c5c76bba-87b2-4443-859b-38f68d2acb39"
      },
      "execution_count": null,
      "outputs": [
        {
          "output_type": "execute_result",
          "data": {
            "text/plain": [
              "[('UnitedStates', 866),\n",
              " ('Unknown', 277),\n",
              " ('UnitedKingdom', 256),\n",
              " ('Japan', 184),\n",
              " ('SouthKorea', 157),\n",
              " ('Canada', 126),\n",
              " ('France', 84),\n",
              " ('India', 75),\n",
              " ('Taiwan', 70),\n",
              " ('Australia', 60)]"
            ]
          },
          "metadata": {},
          "execution_count": 51
        }
      ]
    },
    {
      "cell_type": "code",
      "source": [
        "names = [name for name, value in countries_fin2]\n",
        "names"
      ],
      "metadata": {
        "id": "6WaOs00XW1eP",
        "colab": {
          "base_uri": "https://localhost:8080/"
        },
        "outputId": "04e974a1-64a5-463a-bbf9-5eb06b0856ca"
      },
      "execution_count": null,
      "outputs": [
        {
          "output_type": "execute_result",
          "data": {
            "text/plain": [
              "['UnitedStates',\n",
              " 'Unknown',\n",
              " 'UnitedKingdom',\n",
              " 'Japan',\n",
              " 'SouthKorea',\n",
              " 'Canada',\n",
              " 'France',\n",
              " 'India',\n",
              " 'Taiwan',\n",
              " 'Australia']"
            ]
          },
          "metadata": {},
          "execution_count": 52
        }
      ]
    },
    {
      "cell_type": "code",
      "source": [
        "values = [value for name, value in countries_fin2]\n",
        "values"
      ],
      "metadata": {
        "id": "xcWRXPTJW1eQ",
        "colab": {
          "base_uri": "https://localhost:8080/"
        },
        "outputId": "663818ab-23bd-4e4d-9bb0-f6a4a292a810"
      },
      "execution_count": null,
      "outputs": [
        {
          "output_type": "execute_result",
          "data": {
            "text/plain": [
              "[866, 277, 256, 184, 157, 126, 84, 75, 70, 60]"
            ]
          },
          "metadata": {},
          "execution_count": 53
        }
      ]
    },
    {
      "cell_type": "code",
      "execution_count": null,
      "metadata": {
        "_kg_hide-input": true,
        "_kg_hide-output": true,
        "papermill": {
          "duration": 0.357813,
          "end_time": "2021-02-25T06:30:07.538356",
          "exception": false,
          "start_time": "2021-02-25T06:30:07.180543",
          "status": "completed"
        },
        "tags": [],
        "id": "HyzbbFVOW1eT",
        "colab": {
          "base_uri": "https://localhost:8080/",
          "height": 543
        },
        "outputId": "2a0558ef-5ef5-40a9-817f-c01b4611b5c6"
      },
      "outputs": [
        {
          "output_type": "display_data",
          "data": {
            "text/plain": [
              "<Figure size 576x576 with 1 Axes>"
            ],
            "image/png": "[encoded data removed]"
          },
          "metadata": {}
        }
      ],
      "source": [
        "plt.figure(figsize=(8,8))\n",
        "ax = sns.barplot(x=names, y=values)\n",
        "ax.set_xticklabels(names, rotation=45);"
      ]
    },
    {
      "cell_type": "markdown",
      "metadata": {
        "papermill": {
          "duration": 0.088687,
          "end_time": "2021-02-25T06:30:14.253507",
          "exception": false,
          "start_time": "2021-02-25T06:30:14.164820",
          "status": "completed"
        },
        "tags": [],
        "id": "1mCPcWxoihzT"
      },
      "source": [
        "## Сериалы с большим количеством сезонов"
      ]
    },
    {
      "cell_type": "code",
      "source": [
        "features = ['title', 'duration']\n",
        "durations = netflix_shows[features]\n",
        "durations"
      ],
      "metadata": {
        "id": "WJLp8AI3XrVL",
        "colab": {
          "base_uri": "https://localhost:8080/",
          "height": 424
        },
        "outputId": "5a83ed10-c9c3-43d3-e6d7-811999d9eac6"
      },
      "execution_count": null,
      "outputs": [
        {
          "output_type": "execute_result",
          "data": {
            "text/plain": [
              "                      title   duration\n",
              "0                        3%  4 Seasons\n",
              "5                        46   1 Season\n",
              "11                     1983   1 Season\n",
              "12                     1994   1 Season\n",
              "16                   Feb-09   1 Season\n",
              "...                     ...        ...\n",
              "7767     Zindagi Gulzar Hai   1 Season\n",
              "7775             Zoids Wild   1 Season\n",
              "7777            Zombie Dumb  2 Seasons\n",
              "7779              Zona Rosa   1 Season\n",
              "7785  Zumbo's Just Desserts   1 Season\n",
              "\n",
              "[2410 rows x 2 columns]"
            ],
            "text/html": [
              "\n",
              "  <div id=\"df-479f8c2c-8240-4b52-b553-241dfa00d901\">\n",
              "    <div class=\"colab-df-container\">\n",
              "      <div>\n",
              "<style scoped>\n",
              "    .dataframe tbody tr th:only-of-type {\n",
              "        vertical-align: middle;\n",
              "    }\n",
              "\n",
              "    .dataframe tbody tr th {\n",
              "        vertical-align: top;\n",
              "    }\n",
              "\n",
              "    .dataframe thead th {\n",
              "        text-align: right;\n",
              "    }\n",
              "</style>\n",
              "<table border=\"1\" class=\"dataframe\">\n",
              "  <thead>\n",
              "    <tr style=\"text-align: right;\">\n",
              "      <th></th>\n",
              "      <th>title</th>\n",
              "      <th>duration</th>\n",
              "    </tr>\n",
              "  </thead>\n",
              "  <tbody>\n",
              "    <tr>\n",
              "      <th>0</th>\n",
              "      <td>3%</td>\n",
              "      <td>4 Seasons</td>\n",
              "    </tr>\n",
              "    <tr>\n",
              "      <th>5</th>\n",
              "      <td>46</td>\n",
              "      <td>1 Season</td>\n",
              "    </tr>\n",
              "    <tr>\n",
              "      <th>11</th>\n",
              "      <td>1983</td>\n",
              "      <td>1 Season</td>\n",
              "    </tr>\n",
              "    <tr>\n",
              "      <th>12</th>\n",
              "      <td>1994</td>\n",
              "      <td>1 Season</td>\n",
              "    </tr>\n",
              "    <tr>\n",
              "      <th>16</th>\n",
              "      <td>Feb-09</td>\n",
              "      <td>1 Season</td>\n",
              "    </tr>\n",
              "    <tr>\n",
              "      <th>...</th>\n",
              "      <td>...</td>\n",
              "      <td>...</td>\n",
              "    </tr>\n",
              "    <tr>\n",
              "      <th>7767</th>\n",
              "      <td>Zindagi Gulzar Hai</td>\n",
              "      <td>1 Season</td>\n",
              "    </tr>\n",
              "    <tr>\n",
              "      <th>7775</th>\n",
              "      <td>Zoids Wild</td>\n",
              "      <td>1 Season</td>\n",
              "    </tr>\n",
              "    <tr>\n",
              "      <th>7777</th>\n",
              "      <td>Zombie Dumb</td>\n",
              "      <td>2 Seasons</td>\n",
              "    </tr>\n",
              "    <tr>\n",
              "      <th>7779</th>\n",
              "      <td>Zona Rosa</td>\n",
              "      <td>1 Season</td>\n",
              "    </tr>\n",
              "    <tr>\n",
              "      <th>7785</th>\n",
              "      <td>Zumbo's Just Desserts</td>\n",
              "      <td>1 Season</td>\n",
              "    </tr>\n",
              "  </tbody>\n",
              "</table>\n",
              "<p>2410 rows × 2 columns</p>\n",
              "</div>\n",
              "      <button class=\"colab-df-convert\" onclick=\"convertToInteractive('df-479f8c2c-8240-4b52-b553-241dfa00d901')\"\n",
              "              title=\"Convert this dataframe to an interactive table.\"\n",
              "              style=\"display:none;\">\n",
              "        \n",
              "  <svg xmlns=\"http://www.w3.org/2000/svg\" height=\"24px\"viewBox=\"0 0 24 24\"\n",
              "       width=\"24px\">\n",
              "    <path d=\"M0 0h24v24H0V0z\" fill=\"none\"/>\n",
              "    <path d=\"M18.56 5.44l.94 2.06.94-2.06 2.06-.94-2.06-.94-.94-2.06-.94 2.06-2.06.94zm-11 1L8.5 8.5l.94-2.06 2.06-.94-2.06-.94L8.5 2.5l-.94 2.06-2.06.94zm10 10l.94 2.06.94-2.06 2.06-.94-2.06-.94-.94-2.06-.94 2.06-2.06.94z\"/><path d=\"M17.41 7.96l-1.37-1.37c-.4-.4-.92-.59-1.43-.59-.52 0-1.04.2-1.43.59L10.3 9.45l-7.72 7.72c-.78.78-.78 2.05 0 2.83L4 21.41c.39.39.9.59 1.41.59.51 0 1.02-.2 1.41-.59l7.78-7.78 2.81-2.81c.8-.78.8-2.07 0-2.86zM5.41 20L4 18.59l7.72-7.72 1.47 1.35L5.41 20z\"/>\n",
              "  </svg>\n",
              "      </button>\n",
              "      \n",
              "  <style>\n",
              "    .colab-df-container {\n",
              "      display:flex;\n",
              "      flex-wrap:wrap;\n",
              "      gap: 12px;\n",
              "    }\n",
              "\n",
              "    .colab-df-convert {\n",
              "      background-color: #E8F0FE;\n",
              "      border: none;\n",
              "      border-radius: 50%;\n",
              "      cursor: pointer;\n",
              "      display: none;\n",
              "      fill: #1967D2;\n",
              "      height: 32px;\n",
              "      padding: 0 0 0 0;\n",
              "      width: 32px;\n",
              "    }\n",
              "\n",
              "    .colab-df-convert:hover {\n",
              "      background-color: #E2EBFA;\n",
              "      box-shadow: 0px 1px 2px rgba(60, 64, 67, 0.3), 0px 1px 3px 1px rgba(60, 64, 67, 0.15);\n",
              "      fill: #174EA6;\n",
              "    }\n",
              "\n",
              "    [theme=dark] .colab-df-convert {\n",
              "      background-color: #3B4455;\n",
              "      fill: #D2E3FC;\n",
              "    }\n",
              "\n",
              "    [theme=dark] .colab-df-convert:hover {\n",
              "      background-color: #434B5C;\n",
              "      box-shadow: 0px 1px 3px 1px rgba(0, 0, 0, 0.15);\n",
              "      filter: drop-shadow(0px 1px 2px rgba(0, 0, 0, 0.3));\n",
              "      fill: #FFFFFF;\n",
              "    }\n",
              "  </style>\n",
              "\n",
              "      <script>\n",
              "        const buttonEl =\n",
              "          document.querySelector('#df-479f8c2c-8240-4b52-b553-241dfa00d901 button.colab-df-convert');\n",
              "        buttonEl.style.display =\n",
              "          google.colab.kernel.accessAllowed ? 'block' : 'none';\n",
              "\n",
              "        async function convertToInteractive(key) {\n",
              "          const element = document.querySelector('#df-479f8c2c-8240-4b52-b553-241dfa00d901');\n",
              "          const dataTable =\n",
              "            await google.colab.kernel.invokeFunction('convertToInteractive',\n",
              "                                                     [key], {});\n",
              "          if (!dataTable) return;\n",
              "\n",
              "          const docLinkHtml = 'Like what you see? Visit the ' +\n",
              "            '<a target=\"_blank\" href=https://colab.research.google.com/notebooks/data_table.ipynb>data table notebook</a>'\n",
              "            + ' to learn more about interactive tables.';\n",
              "          element.innerHTML = '';\n",
              "          dataTable['output_type'] = 'display_data';\n",
              "          await google.colab.output.renderOutput(dataTable, element);\n",
              "          const docLink = document.createElement('div');\n",
              "          docLink.innerHTML = docLinkHtml;\n",
              "          element.appendChild(docLink);\n",
              "        }\n",
              "      </script>\n",
              "    </div>\n",
              "  </div>\n",
              "  "
            ]
          },
          "metadata": {},
          "execution_count": 55
        }
      ]
    },
    {
      "cell_type": "code",
      "source": [
        "durations['no_of_seasons'] = durations['duration'].str.replace(' Season','')\n",
        "durations"
      ],
      "metadata": {
        "id": "vhSEVd9fXtTK",
        "colab": {
          "base_uri": "https://localhost:8080/",
          "height": 563
        },
        "outputId": "fceb4296-59c8-497c-f651-462232090034"
      },
      "execution_count": null,
      "outputs": [
        {
          "output_type": "stream",
          "name": "stderr",
          "text": [
            "/usr/local/lib/python3.7/dist-packages/ipykernel_launcher.py:1: SettingWithCopyWarning:\n",
            "\n",
            "\n",
            "A value is trying to be set on a copy of a slice from a DataFrame.\n",
            "Try using .loc[row_indexer,col_indexer] = value instead\n",
            "\n",
            "See the caveats in the documentation: https://pandas.pydata.org/pandas-docs/stable/user_guide/indexing.html#returning-a-view-versus-a-copy\n",
            "\n"
          ]
        },
        {
          "output_type": "execute_result",
          "data": {
            "text/plain": [
              "                      title   duration no_of_seasons\n",
              "0                        3%  4 Seasons            4s\n",
              "5                        46   1 Season             1\n",
              "11                     1983   1 Season             1\n",
              "12                     1994   1 Season             1\n",
              "16                   Feb-09   1 Season             1\n",
              "...                     ...        ...           ...\n",
              "7767     Zindagi Gulzar Hai   1 Season             1\n",
              "7775             Zoids Wild   1 Season             1\n",
              "7777            Zombie Dumb  2 Seasons            2s\n",
              "7779              Zona Rosa   1 Season             1\n",
              "7785  Zumbo's Just Desserts   1 Season             1\n",
              "\n",
              "[2410 rows x 3 columns]"
            ],
            "text/html": [
              "\n",
              "  <div id=\"df-e160c2e3-9bba-432e-90e0-b30d3d1216db\">\n",
              "    <div class=\"colab-df-container\">\n",
              "      <div>\n",
              "<style scoped>\n",
              "    .dataframe tbody tr th:only-of-type {\n",
              "        vertical-align: middle;\n",
              "    }\n",
              "\n",
              "    .dataframe tbody tr th {\n",
              "        vertical-align: top;\n",
              "    }\n",
              "\n",
              "    .dataframe thead th {\n",
              "        text-align: right;\n",
              "    }\n",
              "</style>\n",
              "<table border=\"1\" class=\"dataframe\">\n",
              "  <thead>\n",
              "    <tr style=\"text-align: right;\">\n",
              "      <th></th>\n",
              "      <th>title</th>\n",
              "      <th>duration</th>\n",
              "      <th>no_of_seasons</th>\n",
              "    </tr>\n",
              "  </thead>\n",
              "  <tbody>\n",
              "    <tr>\n",
              "      <th>0</th>\n",
              "      <td>3%</td>\n",
              "      <td>4 Seasons</td>\n",
              "      <td>4s</td>\n",
              "    </tr>\n",
              "    <tr>\n",
              "      <th>5</th>\n",
              "      <td>46</td>\n",
              "      <td>1 Season</td>\n",
              "      <td>1</td>\n",
              "    </tr>\n",
              "    <tr>\n",
              "      <th>11</th>\n",
              "      <td>1983</td>\n",
              "      <td>1 Season</td>\n",
              "      <td>1</td>\n",
              "    </tr>\n",
              "    <tr>\n",
              "      <th>12</th>\n",
              "      <td>1994</td>\n",
              "      <td>1 Season</td>\n",
              "      <td>1</td>\n",
              "    </tr>\n",
              "    <tr>\n",
              "      <th>16</th>\n",
              "      <td>Feb-09</td>\n",
              "      <td>1 Season</td>\n",
              "      <td>1</td>\n",
              "    </tr>\n",
              "    <tr>\n",
              "      <th>...</th>\n",
              "      <td>...</td>\n",
              "      <td>...</td>\n",
              "      <td>...</td>\n",
              "    </tr>\n",
              "    <tr>\n",
              "      <th>7767</th>\n",
              "      <td>Zindagi Gulzar Hai</td>\n",
              "      <td>1 Season</td>\n",
              "      <td>1</td>\n",
              "    </tr>\n",
              "    <tr>\n",
              "      <th>7775</th>\n",
              "      <td>Zoids Wild</td>\n",
              "      <td>1 Season</td>\n",
              "      <td>1</td>\n",
              "    </tr>\n",
              "    <tr>\n",
              "      <th>7777</th>\n",
              "      <td>Zombie Dumb</td>\n",
              "      <td>2 Seasons</td>\n",
              "      <td>2s</td>\n",
              "    </tr>\n",
              "    <tr>\n",
              "      <th>7779</th>\n",
              "      <td>Zona Rosa</td>\n",
              "      <td>1 Season</td>\n",
              "      <td>1</td>\n",
              "    </tr>\n",
              "    <tr>\n",
              "      <th>7785</th>\n",
              "      <td>Zumbo's Just Desserts</td>\n",
              "      <td>1 Season</td>\n",
              "      <td>1</td>\n",
              "    </tr>\n",
              "  </tbody>\n",
              "</table>\n",
              "<p>2410 rows × 3 columns</p>\n",
              "</div>\n",
              "      <button class=\"colab-df-convert\" onclick=\"convertToInteractive('df-e160c2e3-9bba-432e-90e0-b30d3d1216db')\"\n",
              "              title=\"Convert this dataframe to an interactive table.\"\n",
              "              style=\"display:none;\">\n",
              "        \n",
              "  <svg xmlns=\"http://www.w3.org/2000/svg\" height=\"24px\"viewBox=\"0 0 24 24\"\n",
              "       width=\"24px\">\n",
              "    <path d=\"M0 0h24v24H0V0z\" fill=\"none\"/>\n",
              "    <path d=\"M18.56 5.44l.94 2.06.94-2.06 2.06-.94-2.06-.94-.94-2.06-.94 2.06-2.06.94zm-11 1L8.5 8.5l.94-2.06 2.06-.94-2.06-.94L8.5 2.5l-.94 2.06-2.06.94zm10 10l.94 2.06.94-2.06 2.06-.94-2.06-.94-.94-2.06-.94 2.06-2.06.94z\"/><path d=\"M17.41 7.96l-1.37-1.37c-.4-.4-.92-.59-1.43-.59-.52 0-1.04.2-1.43.59L10.3 9.45l-7.72 7.72c-.78.78-.78 2.05 0 2.83L4 21.41c.39.39.9.59 1.41.59.51 0 1.02-.2 1.41-.59l7.78-7.78 2.81-2.81c.8-.78.8-2.07 0-2.86zM5.41 20L4 18.59l7.72-7.72 1.47 1.35L5.41 20z\"/>\n",
              "  </svg>\n",
              "      </button>\n",
              "      \n",
              "  <style>\n",
              "    .colab-df-container {\n",
              "      display:flex;\n",
              "      flex-wrap:wrap;\n",
              "      gap: 12px;\n",
              "    }\n",
              "\n",
              "    .colab-df-convert {\n",
              "      background-color: #E8F0FE;\n",
              "      border: none;\n",
              "      border-radius: 50%;\n",
              "      cursor: pointer;\n",
              "      display: none;\n",
              "      fill: #1967D2;\n",
              "      height: 32px;\n",
              "      padding: 0 0 0 0;\n",
              "      width: 32px;\n",
              "    }\n",
              "\n",
              "    .colab-df-convert:hover {\n",
              "      background-color: #E2EBFA;\n",
              "      box-shadow: 0px 1px 2px rgba(60, 64, 67, 0.3), 0px 1px 3px 1px rgba(60, 64, 67, 0.15);\n",
              "      fill: #174EA6;\n",
              "    }\n",
              "\n",
              "    [theme=dark] .colab-df-convert {\n",
              "      background-color: #3B4455;\n",
              "      fill: #D2E3FC;\n",
              "    }\n",
              "\n",
              "    [theme=dark] .colab-df-convert:hover {\n",
              "      background-color: #434B5C;\n",
              "      box-shadow: 0px 1px 3px 1px rgba(0, 0, 0, 0.15);\n",
              "      filter: drop-shadow(0px 1px 2px rgba(0, 0, 0, 0.3));\n",
              "      fill: #FFFFFF;\n",
              "    }\n",
              "  </style>\n",
              "\n",
              "      <script>\n",
              "        const buttonEl =\n",
              "          document.querySelector('#df-e160c2e3-9bba-432e-90e0-b30d3d1216db button.colab-df-convert');\n",
              "        buttonEl.style.display =\n",
              "          google.colab.kernel.accessAllowed ? 'block' : 'none';\n",
              "\n",
              "        async function convertToInteractive(key) {\n",
              "          const element = document.querySelector('#df-e160c2e3-9bba-432e-90e0-b30d3d1216db');\n",
              "          const dataTable =\n",
              "            await google.colab.kernel.invokeFunction('convertToInteractive',\n",
              "                                                     [key], {});\n",
              "          if (!dataTable) return;\n",
              "\n",
              "          const docLinkHtml = 'Like what you see? Visit the ' +\n",
              "            '<a target=\"_blank\" href=https://colab.research.google.com/notebooks/data_table.ipynb>data table notebook</a>'\n",
              "            + ' to learn more about interactive tables.';\n",
              "          element.innerHTML = '';\n",
              "          dataTable['output_type'] = 'display_data';\n",
              "          await google.colab.output.renderOutput(dataTable, element);\n",
              "          const docLink = document.createElement('div');\n",
              "          docLink.innerHTML = docLinkHtml;\n",
              "          element.appendChild(docLink);\n",
              "        }\n",
              "      </script>\n",
              "    </div>\n",
              "  </div>\n",
              "  "
            ]
          },
          "metadata": {},
          "execution_count": 56
        }
      ]
    },
    {
      "cell_type": "code",
      "source": [
        "durations['no_of_seasons'] = durations['no_of_seasons'].str.replace('s', '')\n",
        "durations"
      ],
      "metadata": {
        "id": "ihzWDnBiX4yb",
        "colab": {
          "base_uri": "https://localhost:8080/",
          "height": 563
        },
        "outputId": "9f44f859-5da6-430c-cbae-04dee7f769c6"
      },
      "execution_count": null,
      "outputs": [
        {
          "output_type": "stream",
          "name": "stderr",
          "text": [
            "/usr/local/lib/python3.7/dist-packages/ipykernel_launcher.py:1: SettingWithCopyWarning:\n",
            "\n",
            "\n",
            "A value is trying to be set on a copy of a slice from a DataFrame.\n",
            "Try using .loc[row_indexer,col_indexer] = value instead\n",
            "\n",
            "See the caveats in the documentation: https://pandas.pydata.org/pandas-docs/stable/user_guide/indexing.html#returning-a-view-versus-a-copy\n",
            "\n"
          ]
        },
        {
          "output_type": "execute_result",
          "data": {
            "text/plain": [
              "                      title   duration no_of_seasons\n",
              "0                        3%  4 Seasons             4\n",
              "5                        46   1 Season             1\n",
              "11                     1983   1 Season             1\n",
              "12                     1994   1 Season             1\n",
              "16                   Feb-09   1 Season             1\n",
              "...                     ...        ...           ...\n",
              "7767     Zindagi Gulzar Hai   1 Season             1\n",
              "7775             Zoids Wild   1 Season             1\n",
              "7777            Zombie Dumb  2 Seasons             2\n",
              "7779              Zona Rosa   1 Season             1\n",
              "7785  Zumbo's Just Desserts   1 Season             1\n",
              "\n",
              "[2410 rows x 3 columns]"
            ],
            "text/html": [
              "\n",
              "  <div id=\"df-e29b7537-c895-40b3-b29f-d5743d61e009\">\n",
              "    <div class=\"colab-df-container\">\n",
              "      <div>\n",
              "<style scoped>\n",
              "    .dataframe tbody tr th:only-of-type {\n",
              "        vertical-align: middle;\n",
              "    }\n",
              "\n",
              "    .dataframe tbody tr th {\n",
              "        vertical-align: top;\n",
              "    }\n",
              "\n",
              "    .dataframe thead th {\n",
              "        text-align: right;\n",
              "    }\n",
              "</style>\n",
              "<table border=\"1\" class=\"dataframe\">\n",
              "  <thead>\n",
              "    <tr style=\"text-align: right;\">\n",
              "      <th></th>\n",
              "      <th>title</th>\n",
              "      <th>duration</th>\n",
              "      <th>no_of_seasons</th>\n",
              "    </tr>\n",
              "  </thead>\n",
              "  <tbody>\n",
              "    <tr>\n",
              "      <th>0</th>\n",
              "      <td>3%</td>\n",
              "      <td>4 Seasons</td>\n",
              "      <td>4</td>\n",
              "    </tr>\n",
              "    <tr>\n",
              "      <th>5</th>\n",
              "      <td>46</td>\n",
              "      <td>1 Season</td>\n",
              "      <td>1</td>\n",
              "    </tr>\n",
              "    <tr>\n",
              "      <th>11</th>\n",
              "      <td>1983</td>\n",
              "      <td>1 Season</td>\n",
              "      <td>1</td>\n",
              "    </tr>\n",
              "    <tr>\n",
              "      <th>12</th>\n",
              "      <td>1994</td>\n",
              "      <td>1 Season</td>\n",
              "      <td>1</td>\n",
              "    </tr>\n",
              "    <tr>\n",
              "      <th>16</th>\n",
              "      <td>Feb-09</td>\n",
              "      <td>1 Season</td>\n",
              "      <td>1</td>\n",
              "    </tr>\n",
              "    <tr>\n",
              "      <th>...</th>\n",
              "      <td>...</td>\n",
              "      <td>...</td>\n",
              "      <td>...</td>\n",
              "    </tr>\n",
              "    <tr>\n",
              "      <th>7767</th>\n",
              "      <td>Zindagi Gulzar Hai</td>\n",
              "      <td>1 Season</td>\n",
              "      <td>1</td>\n",
              "    </tr>\n",
              "    <tr>\n",
              "      <th>7775</th>\n",
              "      <td>Zoids Wild</td>\n",
              "      <td>1 Season</td>\n",
              "      <td>1</td>\n",
              "    </tr>\n",
              "    <tr>\n",
              "      <th>7777</th>\n",
              "      <td>Zombie Dumb</td>\n",
              "      <td>2 Seasons</td>\n",
              "      <td>2</td>\n",
              "    </tr>\n",
              "    <tr>\n",
              "      <th>7779</th>\n",
              "      <td>Zona Rosa</td>\n",
              "      <td>1 Season</td>\n",
              "      <td>1</td>\n",
              "    </tr>\n",
              "    <tr>\n",
              "      <th>7785</th>\n",
              "      <td>Zumbo's Just Desserts</td>\n",
              "      <td>1 Season</td>\n",
              "      <td>1</td>\n",
              "    </tr>\n",
              "  </tbody>\n",
              "</table>\n",
              "<p>2410 rows × 3 columns</p>\n",
              "</div>\n",
              "      <button class=\"colab-df-convert\" onclick=\"convertToInteractive('df-e29b7537-c895-40b3-b29f-d5743d61e009')\"\n",
              "              title=\"Convert this dataframe to an interactive table.\"\n",
              "              style=\"display:none;\">\n",
              "        \n",
              "  <svg xmlns=\"http://www.w3.org/2000/svg\" height=\"24px\"viewBox=\"0 0 24 24\"\n",
              "       width=\"24px\">\n",
              "    <path d=\"M0 0h24v24H0V0z\" fill=\"none\"/>\n",
              "    <path d=\"M18.56 5.44l.94 2.06.94-2.06 2.06-.94-2.06-.94-.94-2.06-.94 2.06-2.06.94zm-11 1L8.5 8.5l.94-2.06 2.06-.94-2.06-.94L8.5 2.5l-.94 2.06-2.06.94zm10 10l.94 2.06.94-2.06 2.06-.94-2.06-.94-.94-2.06-.94 2.06-2.06.94z\"/><path d=\"M17.41 7.96l-1.37-1.37c-.4-.4-.92-.59-1.43-.59-.52 0-1.04.2-1.43.59L10.3 9.45l-7.72 7.72c-.78.78-.78 2.05 0 2.83L4 21.41c.39.39.9.59 1.41.59.51 0 1.02-.2 1.41-.59l7.78-7.78 2.81-2.81c.8-.78.8-2.07 0-2.86zM5.41 20L4 18.59l7.72-7.72 1.47 1.35L5.41 20z\"/>\n",
              "  </svg>\n",
              "      </button>\n",
              "      \n",
              "  <style>\n",
              "    .colab-df-container {\n",
              "      display:flex;\n",
              "      flex-wrap:wrap;\n",
              "      gap: 12px;\n",
              "    }\n",
              "\n",
              "    .colab-df-convert {\n",
              "      background-color: #E8F0FE;\n",
              "      border: none;\n",
              "      border-radius: 50%;\n",
              "      cursor: pointer;\n",
              "      display: none;\n",
              "      fill: #1967D2;\n",
              "      height: 32px;\n",
              "      padding: 0 0 0 0;\n",
              "      width: 32px;\n",
              "    }\n",
              "\n",
              "    .colab-df-convert:hover {\n",
              "      background-color: #E2EBFA;\n",
              "      box-shadow: 0px 1px 2px rgba(60, 64, 67, 0.3), 0px 1px 3px 1px rgba(60, 64, 67, 0.15);\n",
              "      fill: #174EA6;\n",
              "    }\n",
              "\n",
              "    [theme=dark] .colab-df-convert {\n",
              "      background-color: #3B4455;\n",
              "      fill: #D2E3FC;\n",
              "    }\n",
              "\n",
              "    [theme=dark] .colab-df-convert:hover {\n",
              "      background-color: #434B5C;\n",
              "      box-shadow: 0px 1px 3px 1px rgba(0, 0, 0, 0.15);\n",
              "      filter: drop-shadow(0px 1px 2px rgba(0, 0, 0, 0.3));\n",
              "      fill: #FFFFFF;\n",
              "    }\n",
              "  </style>\n",
              "\n",
              "      <script>\n",
              "        const buttonEl =\n",
              "          document.querySelector('#df-e29b7537-c895-40b3-b29f-d5743d61e009 button.colab-df-convert');\n",
              "        buttonEl.style.display =\n",
              "          google.colab.kernel.accessAllowed ? 'block' : 'none';\n",
              "\n",
              "        async function convertToInteractive(key) {\n",
              "          const element = document.querySelector('#df-e29b7537-c895-40b3-b29f-d5743d61e009');\n",
              "          const dataTable =\n",
              "            await google.colab.kernel.invokeFunction('convertToInteractive',\n",
              "                                                     [key], {});\n",
              "          if (!dataTable) return;\n",
              "\n",
              "          const docLinkHtml = 'Like what you see? Visit the ' +\n",
              "            '<a target=\"_blank\" href=https://colab.research.google.com/notebooks/data_table.ipynb>data table notebook</a>'\n",
              "            + ' to learn more about interactive tables.';\n",
              "          element.innerHTML = '';\n",
              "          dataTable['output_type'] = 'display_data';\n",
              "          await google.colab.output.renderOutput(dataTable, element);\n",
              "          const docLink = document.createElement('div');\n",
              "          docLink.innerHTML = docLinkHtml;\n",
              "          element.appendChild(docLink);\n",
              "        }\n",
              "      </script>\n",
              "    </div>\n",
              "  </div>\n",
              "  "
            ]
          },
          "metadata": {},
          "execution_count": 57
        }
      ]
    },
    {
      "cell_type": "code",
      "execution_count": null,
      "metadata": {
        "_kg_hide-input": true,
        "_kg_hide-output": true,
        "papermill": {
          "duration": 0.10696,
          "end_time": "2021-02-25T06:30:14.073856",
          "exception": false,
          "start_time": "2021-02-25T06:30:13.966896",
          "status": "completed"
        },
        "tags": [],
        "id": "2JvVIh4hihzT",
        "colab": {
          "base_uri": "https://localhost:8080/",
          "height": 563
        },
        "outputId": "74dd4605-62cb-4a1e-b6ed-19f74f0de1cd"
      },
      "outputs": [
        {
          "output_type": "stream",
          "name": "stderr",
          "text": [
            "/usr/local/lib/python3.7/dist-packages/ipykernel_launcher.py:1: SettingWithCopyWarning:\n",
            "\n",
            "\n",
            "A value is trying to be set on a copy of a slice from a DataFrame.\n",
            "Try using .loc[row_indexer,col_indexer] = value instead\n",
            "\n",
            "See the caveats in the documentation: https://pandas.pydata.org/pandas-docs/stable/user_guide/indexing.html#returning-a-view-versus-a-copy\n",
            "\n"
          ]
        },
        {
          "output_type": "execute_result",
          "data": {
            "text/plain": [
              "                      title   duration  no_of_seasons\n",
              "0                        3%  4 Seasons              4\n",
              "5                        46   1 Season              1\n",
              "11                     1983   1 Season              1\n",
              "12                     1994   1 Season              1\n",
              "16                   Feb-09   1 Season              1\n",
              "...                     ...        ...            ...\n",
              "7767     Zindagi Gulzar Hai   1 Season              1\n",
              "7775             Zoids Wild   1 Season              1\n",
              "7777            Zombie Dumb  2 Seasons              2\n",
              "7779              Zona Rosa   1 Season              1\n",
              "7785  Zumbo's Just Desserts   1 Season              1\n",
              "\n",
              "[2410 rows x 3 columns]"
            ],
            "text/html": [
              "\n",
              "  <div id=\"df-02f2376b-7bb7-46c9-9385-0ed5756f5eac\">\n",
              "    <div class=\"colab-df-container\">\n",
              "      <div>\n",
              "<style scoped>\n",
              "    .dataframe tbody tr th:only-of-type {\n",
              "        vertical-align: middle;\n",
              "    }\n",
              "\n",
              "    .dataframe tbody tr th {\n",
              "        vertical-align: top;\n",
              "    }\n",
              "\n",
              "    .dataframe thead th {\n",
              "        text-align: right;\n",
              "    }\n",
              "</style>\n",
              "<table border=\"1\" class=\"dataframe\">\n",
              "  <thead>\n",
              "    <tr style=\"text-align: right;\">\n",
              "      <th></th>\n",
              "      <th>title</th>\n",
              "      <th>duration</th>\n",
              "      <th>no_of_seasons</th>\n",
              "    </tr>\n",
              "  </thead>\n",
              "  <tbody>\n",
              "    <tr>\n",
              "      <th>0</th>\n",
              "      <td>3%</td>\n",
              "      <td>4 Seasons</td>\n",
              "      <td>4</td>\n",
              "    </tr>\n",
              "    <tr>\n",
              "      <th>5</th>\n",
              "      <td>46</td>\n",
              "      <td>1 Season</td>\n",
              "      <td>1</td>\n",
              "    </tr>\n",
              "    <tr>\n",
              "      <th>11</th>\n",
              "      <td>1983</td>\n",
              "      <td>1 Season</td>\n",
              "      <td>1</td>\n",
              "    </tr>\n",
              "    <tr>\n",
              "      <th>12</th>\n",
              "      <td>1994</td>\n",
              "      <td>1 Season</td>\n",
              "      <td>1</td>\n",
              "    </tr>\n",
              "    <tr>\n",
              "      <th>16</th>\n",
              "      <td>Feb-09</td>\n",
              "      <td>1 Season</td>\n",
              "      <td>1</td>\n",
              "    </tr>\n",
              "    <tr>\n",
              "      <th>...</th>\n",
              "      <td>...</td>\n",
              "      <td>...</td>\n",
              "      <td>...</td>\n",
              "    </tr>\n",
              "    <tr>\n",
              "      <th>7767</th>\n",
              "      <td>Zindagi Gulzar Hai</td>\n",
              "      <td>1 Season</td>\n",
              "      <td>1</td>\n",
              "    </tr>\n",
              "    <tr>\n",
              "      <th>7775</th>\n",
              "      <td>Zoids Wild</td>\n",
              "      <td>1 Season</td>\n",
              "      <td>1</td>\n",
              "    </tr>\n",
              "    <tr>\n",
              "      <th>7777</th>\n",
              "      <td>Zombie Dumb</td>\n",
              "      <td>2 Seasons</td>\n",
              "      <td>2</td>\n",
              "    </tr>\n",
              "    <tr>\n",
              "      <th>7779</th>\n",
              "      <td>Zona Rosa</td>\n",
              "      <td>1 Season</td>\n",
              "      <td>1</td>\n",
              "    </tr>\n",
              "    <tr>\n",
              "      <th>7785</th>\n",
              "      <td>Zumbo's Just Desserts</td>\n",
              "      <td>1 Season</td>\n",
              "      <td>1</td>\n",
              "    </tr>\n",
              "  </tbody>\n",
              "</table>\n",
              "<p>2410 rows × 3 columns</p>\n",
              "</div>\n",
              "      <button class=\"colab-df-convert\" onclick=\"convertToInteractive('df-02f2376b-7bb7-46c9-9385-0ed5756f5eac')\"\n",
              "              title=\"Convert this dataframe to an interactive table.\"\n",
              "              style=\"display:none;\">\n",
              "        \n",
              "  <svg xmlns=\"http://www.w3.org/2000/svg\" height=\"24px\"viewBox=\"0 0 24 24\"\n",
              "       width=\"24px\">\n",
              "    <path d=\"M0 0h24v24H0V0z\" fill=\"none\"/>\n",
              "    <path d=\"M18.56 5.44l.94 2.06.94-2.06 2.06-.94-2.06-.94-.94-2.06-.94 2.06-2.06.94zm-11 1L8.5 8.5l.94-2.06 2.06-.94-2.06-.94L8.5 2.5l-.94 2.06-2.06.94zm10 10l.94 2.06.94-2.06 2.06-.94-2.06-.94-.94-2.06-.94 2.06-2.06.94z\"/><path d=\"M17.41 7.96l-1.37-1.37c-.4-.4-.92-.59-1.43-.59-.52 0-1.04.2-1.43.59L10.3 9.45l-7.72 7.72c-.78.78-.78 2.05 0 2.83L4 21.41c.39.39.9.59 1.41.59.51 0 1.02-.2 1.41-.59l7.78-7.78 2.81-2.81c.8-.78.8-2.07 0-2.86zM5.41 20L4 18.59l7.72-7.72 1.47 1.35L5.41 20z\"/>\n",
              "  </svg>\n",
              "      </button>\n",
              "      \n",
              "  <style>\n",
              "    .colab-df-container {\n",
              "      display:flex;\n",
              "      flex-wrap:wrap;\n",
              "      gap: 12px;\n",
              "    }\n",
              "\n",
              "    .colab-df-convert {\n",
              "      background-color: #E8F0FE;\n",
              "      border: none;\n",
              "      border-radius: 50%;\n",
              "      cursor: pointer;\n",
              "      display: none;\n",
              "      fill: #1967D2;\n",
              "      height: 32px;\n",
              "      padding: 0 0 0 0;\n",
              "      width: 32px;\n",
              "    }\n",
              "\n",
              "    .colab-df-convert:hover {\n",
              "      background-color: #E2EBFA;\n",
              "      box-shadow: 0px 1px 2px rgba(60, 64, 67, 0.3), 0px 1px 3px 1px rgba(60, 64, 67, 0.15);\n",
              "      fill: #174EA6;\n",
              "    }\n",
              "\n",
              "    [theme=dark] .colab-df-convert {\n",
              "      background-color: #3B4455;\n",
              "      fill: #D2E3FC;\n",
              "    }\n",
              "\n",
              "    [theme=dark] .colab-df-convert:hover {\n",
              "      background-color: #434B5C;\n",
              "      box-shadow: 0px 1px 3px 1px rgba(0, 0, 0, 0.15);\n",
              "      filter: drop-shadow(0px 1px 2px rgba(0, 0, 0, 0.3));\n",
              "      fill: #FFFFFF;\n",
              "    }\n",
              "  </style>\n",
              "\n",
              "      <script>\n",
              "        const buttonEl =\n",
              "          document.querySelector('#df-02f2376b-7bb7-46c9-9385-0ed5756f5eac button.colab-df-convert');\n",
              "        buttonEl.style.display =\n",
              "          google.colab.kernel.accessAllowed ? 'block' : 'none';\n",
              "\n",
              "        async function convertToInteractive(key) {\n",
              "          const element = document.querySelector('#df-02f2376b-7bb7-46c9-9385-0ed5756f5eac');\n",
              "          const dataTable =\n",
              "            await google.colab.kernel.invokeFunction('convertToInteractive',\n",
              "                                                     [key], {});\n",
              "          if (!dataTable) return;\n",
              "\n",
              "          const docLinkHtml = 'Like what you see? Visit the ' +\n",
              "            '<a target=\"_blank\" href=https://colab.research.google.com/notebooks/data_table.ipynb>data table notebook</a>'\n",
              "            + ' to learn more about interactive tables.';\n",
              "          element.innerHTML = '';\n",
              "          dataTable['output_type'] = 'display_data';\n",
              "          await google.colab.output.renderOutput(dataTable, element);\n",
              "          const docLink = document.createElement('div');\n",
              "          docLink.innerHTML = docLinkHtml;\n",
              "          element.appendChild(docLink);\n",
              "        }\n",
              "      </script>\n",
              "    </div>\n",
              "  </div>\n",
              "  "
            ]
          },
          "metadata": {},
          "execution_count": 58
        }
      ],
      "source": [
        "durations['no_of_seasons'] = durations['no_of_seasons'].astype(int)\n",
        "durations"
      ]
    },
    {
      "cell_type": "code",
      "execution_count": null,
      "metadata": {
        "_kg_hide-input": true,
        "_kg_hide-output": true,
        "papermill": {
          "duration": 0.10144,
          "end_time": "2021-02-25T06:30:14.444293",
          "exception": false,
          "start_time": "2021-02-25T06:30:14.342853",
          "status": "completed"
        },
        "tags": [],
        "id": "EAlHblXOihzU"
      },
      "outputs": [],
      "source": [
        "t = ['title', 'no_of_seasons']\n",
        "top = durations[t]\n",
        "\n",
        "top = top.sort_values(by='no_of_seasons', ascending=False)"
      ]
    },
    {
      "cell_type": "code",
      "execution_count": null,
      "metadata": {
        "papermill": {
          "duration": 0.589975,
          "end_time": "2021-02-25T06:30:15.124975",
          "exception": false,
          "start_time": "2021-02-25T06:30:14.535000",
          "status": "completed"
        },
        "tags": [],
        "id": "Yg9oPvFvihzU",
        "colab": {
          "base_uri": "https://localhost:8080/",
          "height": 604
        },
        "outputId": "9a378650-4c43-4b23-8f61-8aca0ac87c03"
      },
      "outputs": [
        {
          "output_type": "display_data",
          "data": {
            "text/plain": [
              "<Figure size 864x504 with 1 Axes>"
            ],
            "image/png": "[encoded data removed]"
          },
          "metadata": {}
        }
      ],
      "source": [
        "top20 = top[0:20]\n",
        "plt.figure(figsize=(12, 7))\n",
        "\n",
        "plt.bar(top20['title'], top20['no_of_seasons'])\n",
        "plt.xticks(top20['title'], rotation=70);"
      ]
    },
    {
      "cell_type": "markdown",
      "metadata": {
        "papermill": {
          "duration": 0.093978,
          "end_time": "2021-02-25T06:30:15.493707",
          "exception": false,
          "start_time": "2021-02-25T06:30:15.399729",
          "status": "completed"
        },
        "tags": [],
        "id": "wBkVkWBMihzV"
      },
      "source": [
        "## Наименьшее количество сезонов"
      ]
    },
    {
      "cell_type": "code",
      "execution_count": null,
      "metadata": {
        "papermill": {
          "duration": 0.257679,
          "end_time": "2021-02-25T06:30:15.843434",
          "exception": false,
          "start_time": "2021-02-25T06:30:15.585755",
          "status": "completed"
        },
        "tags": [],
        "id": "koC6PtrdihzV",
        "colab": {
          "base_uri": "https://localhost:8080/",
          "height": 542
        },
        "outputId": "4c2b4add-3f07-4774-8fbd-8b2ca52c1c22"
      },
      "outputs": [
        {
          "output_type": "display_data",
          "data": {
            "text/html": [
              "<html>\n",
              "<head><meta charset=\"utf-8\" /></head>\n",
              "<body>\n",
              "    <div>            <script src=\"https://cdnjs.cloudflare.com/ajax/libs/mathjax/2.7.5/MathJax.js?config=TeX-AMS-MML_SVG\"></script><script type=\"text/javascript\">if (window.MathJax) {MathJax.Hub.Config({SVG: {font: \"STIX-Web\"}});}</script>                <script type=\"text/javascript\">window.PlotlyConfig = {MathJaxConfig: 'local'};</script>\n",
              "        <script src=\"https://cdn.plot.ly/plotly-2.8.3.min.js\"></script>                <div id=\"3aa82395-7894-41b8-a374-89131f209023\" class=\"plotly-graph-div\" style=\"height:525px; width:100%;\"></div>            <script type=\"text/javascript\">                                    window.PLOTLYENV=window.PLOTLYENV || {};                                    if (document.getElementById(\"3aa82395-7894-41b8-a374-89131f209023\")) {                    Plotly.newPlot(                        \"3aa82395-7894-41b8-a374-89131f209023\",                        [{\"cells\":{\"values\":[[\"Rapture\",\"Revolting Rhymes\",\"Kevin Hart: Don\\u2019t F**k This Up\",\"Killer Inside: The Mind of Aaron Hernandez\",\"Kill la Kill\",\"Drug Squad: Costa del Sol\",\"Kid-E-Cats\",\"Kicko & Super Speedo\",\"Drugs, Inc.\",\"Khotey Sikkey\",\"Khelti Hai Zindagi Aankh Micholi\",\"Khan: No. 1 Crime Hunter\",\"Khaani\",\"Due\\u00f1os del para\\u00edso\",\"Kuroko's Basketball\",\"Kulipari: Dream Walker\",\"Kulipari: An Army of Frogs\",\"Krishna Balram\",\"Japanese Style Originator\",\"Japan Sinks: 2020\",\"El Cartel 2\",\"Jamtara - Sabka Number Ayega\",\"James Acaster: Repertoire\",\"Jailbirds\",\"El Chavo\",\"Jack Taylor\",\"J-Style Trip\",\"Izzy's Koala World\",\"Itaewon Class\",\"Jenni Rivera: Mariposa de Barrio\"],[1,1,1,1,1,1,1,1,1,1,1,1,1,1,1,1,1,1,1,1,1,1,1,1,1,1,1,1,1,1]]},\"header\":{\"values\":[\"Title\",\"No of seasons\"]},\"type\":\"table\"}],                        {\"template\":{\"data\":{\"bar\":[{\"error_x\":{\"color\":\"#2a3f5f\"},\"error_y\":{\"color\":\"#2a3f5f\"},\"marker\":{\"line\":{\"color\":\"#E5ECF6\",\"width\":0.5},\"pattern\":{\"fillmode\":\"overlay\",\"size\":10,\"solidity\":0.2}},\"type\":\"bar\"}],\"barpolar\":[{\"marker\":{\"line\":{\"color\":\"#E5ECF6\",\"width\":0.5},\"pattern\":{\"fillmode\":\"overlay\",\"size\":10,\"solidity\":0.2}},\"type\":\"barpolar\"}],\"carpet\":[{\"aaxis\":{\"endlinecolor\":\"#2a3f5f\",\"gridcolor\":\"white\",\"linecolor\":\"white\",\"minorgridcolor\":\"white\",\"startlinecolor\":\"#2a3f5f\"},\"baxis\":{\"endlinecolor\":\"#2a3f5f\",\"gridcolor\":\"white\",\"linecolor\":\"white\",\"minorgridcolor\":\"white\",\"startlinecolor\":\"#2a3f5f\"},\"type\":\"carpet\"}],\"choropleth\":[{\"colorbar\":{\"outlinewidth\":0,\"ticks\":\"\"},\"type\":\"choropleth\"}],\"contour\":[{\"colorbar\":{\"outlinewidth\":0,\"ticks\":\"\"},\"colorscale\":[[0.0,\"#0d0887\"],[0.1111111111111111,\"#46039f\"],[0.2222222222222222,\"#7201a8\"],[0.3333333333333333,\"#9c179e\"],[0.4444444444444444,\"#bd3786\"],[0.5555555555555556,\"#d8576b\"],[0.6666666666666666,\"#ed7953\"],[0.7777777777777778,\"#fb9f3a\"],[0.8888888888888888,\"#fdca26\"],[1.0,\"#f0f921\"]],\"type\":\"contour\"}],\"contourcarpet\":[{\"colorbar\":{\"outlinewidth\":0,\"ticks\":\"\"},\"type\":\"contourcarpet\"}],\"heatmap\":[{\"colorbar\":{\"outlinewidth\":0,\"ticks\":\"\"},\"colorscale\":[[0.0,\"#0d0887\"],[0.1111111111111111,\"#46039f\"],[0.2222222222222222,\"#7201a8\"],[0.3333333333333333,\"#9c179e\"],[0.4444444444444444,\"#bd3786\"],[0.5555555555555556,\"#d8576b\"],[0.6666666666666666,\"#ed7953\"],[0.7777777777777778,\"#fb9f3a\"],[0.8888888888888888,\"#fdca26\"],[1.0,\"#f0f921\"]],\"type\":\"heatmap\"}],\"heatmapgl\":[{\"colorbar\":{\"outlinewidth\":0,\"ticks\":\"\"},\"colorscale\":[[0.0,\"#0d0887\"],[0.1111111111111111,\"#46039f\"],[0.2222222222222222,\"#7201a8\"],[0.3333333333333333,\"#9c179e\"],[0.4444444444444444,\"#bd3786\"],[0.5555555555555556,\"#d8576b\"],[0.6666666666666666,\"#ed7953\"],[0.7777777777777778,\"#fb9f3a\"],[0.8888888888888888,\"#fdca26\"],[1.0,\"#f0f921\"]],\"type\":\"heatmapgl\"}],\"histogram\":[{\"marker\":{\"pattern\":{\"fillmode\":\"overlay\",\"size\":10,\"solidity\":0.2}},\"type\":\"histogram\"}],\"histogram2d\":[{\"colorbar\":{\"outlinewidth\":0,\"ticks\":\"\"},\"colorscale\":[[0.0,\"#0d0887\"],[0.1111111111111111,\"#46039f\"],[0.2222222222222222,\"#7201a8\"],[0.3333333333333333,\"#9c179e\"],[0.4444444444444444,\"#bd3786\"],[0.5555555555555556,\"#d8576b\"],[0.6666666666666666,\"#ed7953\"],[0.7777777777777778,\"#fb9f3a\"],[0.8888888888888888,\"#fdca26\"],[1.0,\"#f0f921\"]],\"type\":\"histogram2d\"}],\"histogram2dcontour\":[{\"colorbar\":{\"outlinewidth\":0,\"ticks\":\"\"},\"colorscale\":[[0.0,\"#0d0887\"],[0.1111111111111111,\"#46039f\"],[0.2222222222222222,\"#7201a8\"],[0.3333333333333333,\"#9c179e\"],[0.4444444444444444,\"#bd3786\"],[0.5555555555555556,\"#d8576b\"],[0.6666666666666666,\"#ed7953\"],[0.7777777777777778,\"#fb9f3a\"],[0.8888888888888888,\"#fdca26\"],[1.0,\"#f0f921\"]],\"type\":\"histogram2dcontour\"}],\"mesh3d\":[{\"colorbar\":{\"outlinewidth\":0,\"ticks\":\"\"},\"type\":\"mesh3d\"}],\"parcoords\":[{\"line\":{\"colorbar\":{\"outlinewidth\":0,\"ticks\":\"\"}},\"type\":\"parcoords\"}],\"pie\":[{\"automargin\":true,\"type\":\"pie\"}],\"scatter\":[{\"marker\":{\"colorbar\":{\"outlinewidth\":0,\"ticks\":\"\"}},\"type\":\"scatter\"}],\"scatter3d\":[{\"line\":{\"colorbar\":{\"outlinewidth\":0,\"ticks\":\"\"}},\"marker\":{\"colorbar\":{\"outlinewidth\":0,\"ticks\":\"\"}},\"type\":\"scatter3d\"}],\"scattercarpet\":[{\"marker\":{\"colorbar\":{\"outlinewidth\":0,\"ticks\":\"\"}},\"type\":\"scattercarpet\"}],\"scattergeo\":[{\"marker\":{\"colorbar\":{\"outlinewidth\":0,\"ticks\":\"\"}},\"type\":\"scattergeo\"}],\"scattergl\":[{\"marker\":{\"colorbar\":{\"outlinewidth\":0,\"ticks\":\"\"}},\"type\":\"scattergl\"}],\"scattermapbox\":[{\"marker\":{\"colorbar\":{\"outlinewidth\":0,\"ticks\":\"\"}},\"type\":\"scattermapbox\"}],\"scatterpolar\":[{\"marker\":{\"colorbar\":{\"outlinewidth\":0,\"ticks\":\"\"}},\"type\":\"scatterpolar\"}],\"scatterpolargl\":[{\"marker\":{\"colorbar\":{\"outlinewidth\":0,\"ticks\":\"\"}},\"type\":\"scatterpolargl\"}],\"scatterternary\":[{\"marker\":{\"colorbar\":{\"outlinewidth\":0,\"ticks\":\"\"}},\"type\":\"scatterternary\"}],\"surface\":[{\"colorbar\":{\"outlinewidth\":0,\"ticks\":\"\"},\"colorscale\":[[0.0,\"#0d0887\"],[0.1111111111111111,\"#46039f\"],[0.2222222222222222,\"#7201a8\"],[0.3333333333333333,\"#9c179e\"],[0.4444444444444444,\"#bd3786\"],[0.5555555555555556,\"#d8576b\"],[0.6666666666666666,\"#ed7953\"],[0.7777777777777778,\"#fb9f3a\"],[0.8888888888888888,\"#fdca26\"],[1.0,\"#f0f921\"]],\"type\":\"surface\"}],\"table\":[{\"cells\":{\"fill\":{\"color\":\"#EBF0F8\"},\"line\":{\"color\":\"white\"}},\"header\":{\"fill\":{\"color\":\"#C8D4E3\"},\"line\":{\"color\":\"white\"}},\"type\":\"table\"}]},\"layout\":{\"annotationdefaults\":{\"arrowcolor\":\"#2a3f5f\",\"arrowhead\":0,\"arrowwidth\":1},\"autotypenumbers\":\"strict\",\"coloraxis\":{\"colorbar\":{\"outlinewidth\":0,\"ticks\":\"\"}},\"colorscale\":{\"diverging\":[[0,\"#8e0152\"],[0.1,\"#c51b7d\"],[0.2,\"#de77ae\"],[0.3,\"#f1b6da\"],[0.4,\"#fde0ef\"],[0.5,\"#f7f7f7\"],[0.6,\"#e6f5d0\"],[0.7,\"#b8e186\"],[0.8,\"#7fbc41\"],[0.9,\"#4d9221\"],[1,\"#276419\"]],\"sequential\":[[0.0,\"#0d0887\"],[0.1111111111111111,\"#46039f\"],[0.2222222222222222,\"#7201a8\"],[0.3333333333333333,\"#9c179e\"],[0.4444444444444444,\"#bd3786\"],[0.5555555555555556,\"#d8576b\"],[0.6666666666666666,\"#ed7953\"],[0.7777777777777778,\"#fb9f3a\"],[0.8888888888888888,\"#fdca26\"],[1.0,\"#f0f921\"]],\"sequentialminus\":[[0.0,\"#0d0887\"],[0.1111111111111111,\"#46039f\"],[0.2222222222222222,\"#7201a8\"],[0.3333333333333333,\"#9c179e\"],[0.4444444444444444,\"#bd3786\"],[0.5555555555555556,\"#d8576b\"],[0.6666666666666666,\"#ed7953\"],[0.7777777777777778,\"#fb9f3a\"],[0.8888888888888888,\"#fdca26\"],[1.0,\"#f0f921\"]]},\"colorway\":[\"#636efa\",\"#EF553B\",\"#00cc96\",\"#ab63fa\",\"#FFA15A\",\"#19d3f3\",\"#FF6692\",\"#B6E880\",\"#FF97FF\",\"#FECB52\"],\"font\":{\"color\":\"#2a3f5f\"},\"geo\":{\"bgcolor\":\"white\",\"lakecolor\":\"white\",\"landcolor\":\"#E5ECF6\",\"showlakes\":true,\"showland\":true,\"subunitcolor\":\"white\"},\"hoverlabel\":{\"align\":\"left\"},\"hovermode\":\"closest\",\"mapbox\":{\"style\":\"light\"},\"paper_bgcolor\":\"white\",\"plot_bgcolor\":\"#E5ECF6\",\"polar\":{\"angularaxis\":{\"gridcolor\":\"white\",\"linecolor\":\"white\",\"ticks\":\"\"},\"bgcolor\":\"#E5ECF6\",\"radialaxis\":{\"gridcolor\":\"white\",\"linecolor\":\"white\",\"ticks\":\"\"}},\"scene\":{\"xaxis\":{\"backgroundcolor\":\"#E5ECF6\",\"gridcolor\":\"white\",\"gridwidth\":2,\"linecolor\":\"white\",\"showbackground\":true,\"ticks\":\"\",\"zerolinecolor\":\"white\"},\"yaxis\":{\"backgroundcolor\":\"#E5ECF6\",\"gridcolor\":\"white\",\"gridwidth\":2,\"linecolor\":\"white\",\"showbackground\":true,\"ticks\":\"\",\"zerolinecolor\":\"white\"},\"zaxis\":{\"backgroundcolor\":\"#E5ECF6\",\"gridcolor\":\"white\",\"gridwidth\":2,\"linecolor\":\"white\",\"showbackground\":true,\"ticks\":\"\",\"zerolinecolor\":\"white\"}},\"shapedefaults\":{\"line\":{\"color\":\"#2a3f5f\"}},\"ternary\":{\"aaxis\":{\"gridcolor\":\"white\",\"linecolor\":\"white\",\"ticks\":\"\"},\"baxis\":{\"gridcolor\":\"white\",\"linecolor\":\"white\",\"ticks\":\"\"},\"bgcolor\":\"#E5ECF6\",\"caxis\":{\"gridcolor\":\"white\",\"linecolor\":\"white\",\"ticks\":\"\"}},\"title\":{\"x\":0.05},\"xaxis\":{\"automargin\":true,\"gridcolor\":\"white\",\"linecolor\":\"white\",\"ticks\":\"\",\"title\":{\"standoff\":15},\"zerolinecolor\":\"white\",\"zerolinewidth\":2},\"yaxis\":{\"automargin\":true,\"gridcolor\":\"white\",\"linecolor\":\"white\",\"ticks\":\"\",\"title\":{\"standoff\":15},\"zerolinecolor\":\"white\",\"zerolinewidth\":2}}}},                        {\"responsive\": true}                    ).then(function(){\n",
              "                            \n",
              "var gd = document.getElementById('3aa82395-7894-41b8-a374-89131f209023');\n",
              "var x = new MutationObserver(function (mutations, observer) {{\n",
              "        var display = window.getComputedStyle(gd).display;\n",
              "        if (!display || display === 'none') {{\n",
              "            console.log([gd, 'removed!']);\n",
              "            Plotly.purge(gd);\n",
              "            observer.disconnect();\n",
              "        }}\n",
              "}});\n",
              "\n",
              "// Listen for the removal of the full notebook cells\n",
              "var notebookContainer = gd.closest('#notebook-container');\n",
              "if (notebookContainer) {{\n",
              "    x.observe(notebookContainer, {childList: true});\n",
              "}}\n",
              "\n",
              "// Listen for the clearing of the current output cell\n",
              "var outputEl = gd.closest('.output');\n",
              "if (outputEl) {{\n",
              "    x.observe(outputEl, {childList: true});\n",
              "}}\n",
              "\n",
              "                        })                };                            </script>        </div>\n",
              "</body>\n",
              "</html>"
            ]
          },
          "metadata": {}
        }
      ],
      "source": [
        "bottom = top.sort_values(by='no_of_seasons')\n",
        "bottom = bottom[20:50]\n",
        "\n",
        "import plotly.graph_objects as go\n",
        "\n",
        "fig = go.Figure(\n",
        "    data=[\n",
        "          go.Table(header=dict(values=['Title', 'No of seasons']),\n",
        "                   cells=dict(values=[bottom['title'], bottom['no_of_seasons']]))\n",
        "          ]\n",
        ")\n",
        "fig.show()"
      ]
    },
    {
      "cell_type": "markdown",
      "metadata": {
        "papermill": {
          "duration": 0.082708,
          "end_time": "2021-02-25T06:30:10.451358",
          "exception": false,
          "start_time": "2021-02-25T06:30:10.368650",
          "status": "completed"
        },
        "tags": [],
        "id": "KbKm5R02ZSLu"
      },
      "source": [
        "## Анализ жанров"
      ]
    },
    {
      "cell_type": "code",
      "source": [
        "netflix_shows['listed_in']"
      ],
      "metadata": {
        "id": "4ZykrQ05ZSLx",
        "colab": {
          "base_uri": "https://localhost:8080/"
        },
        "outputId": "92fff83e-4e3c-484a-ce9d-e6752aaf1fe7"
      },
      "execution_count": null,
      "outputs": [
        {
          "output_type": "execute_result",
          "data": {
            "text/plain": [
              "0       International TV Shows, TV Dramas, TV Sci-Fi &...\n",
              "5         International TV Shows, TV Dramas, TV Mysteries\n",
              "11      Crime TV Shows, International TV Shows, TV Dramas\n",
              "12      Crime TV Shows, Docuseries, International TV S...\n",
              "16                      International TV Shows, TV Dramas\n",
              "                              ...                        \n",
              "7767    International TV Shows, Romantic TV Shows, TV ...\n",
              "7775                               Anime Series, Kids' TV\n",
              "7777               Kids' TV, Korean TV Shows, TV Comedies\n",
              "7779    International TV Shows, Spanish-Language TV Sh...\n",
              "7785                   International TV Shows, Reality TV\n",
              "Name: listed_in, Length: 2410, dtype: object"
            ]
          },
          "metadata": {},
          "execution_count": 62
        }
      ]
    },
    {
      "cell_type": "code",
      "execution_count": null,
      "metadata": {
        "_kg_hide-input": true,
        "papermill": {
          "duration": 0.103304,
          "end_time": "2021-02-25T06:30:08.688301",
          "exception": false,
          "start_time": "2021-02-25T06:30:08.584997",
          "status": "completed"
        },
        "tags": [],
        "id": "MD6rqkIiZSLz"
      },
      "outputs": [],
      "source": [
        "from collections import Counter\n",
        "\n",
        "genres = list(netflix_shows['listed_in'])\n",
        "gen = []\n",
        "\n",
        "for i in genres:\n",
        "    i = list(i.split(','))\n",
        "    for j in i:\n",
        "        gen.append(j.replace(' ', ''))\n",
        "        \n",
        "g = Counter(gen)"
      ]
    },
    {
      "cell_type": "code",
      "source": [
        "g = sorted(g.items(), key=lambda item: g[item[0]], reverse=True)\n",
        "g"
      ],
      "metadata": {
        "id": "vgw8GkXUZSL1",
        "colab": {
          "base_uri": "https://localhost:8080/"
        },
        "outputId": "af9fc4cb-1cd0-4a3b-9cc5-d362ef11c473"
      },
      "execution_count": null,
      "outputs": [
        {
          "output_type": "execute_result",
          "data": {
            "text/plain": [
              "[('InternationalTVShows', 1199),\n",
              " ('TVDramas', 704),\n",
              " ('TVComedies', 525),\n",
              " ('CrimeTVShows', 427),\n",
              " (\"Kids'TV\", 414),\n",
              " ('Docuseries', 353),\n",
              " ('RomanticTVShows', 333),\n",
              " ('BritishTVShows', 232),\n",
              " ('RealityTV', 222),\n",
              " ('KoreanTVShows', 150),\n",
              " ('TVAction&Adventure', 150),\n",
              " ('AnimeSeries', 148),\n",
              " ('Spanish-LanguageTVShows', 147),\n",
              " ('TVMysteries', 90),\n",
              " ('Science&NatureTV', 85),\n",
              " ('TVSci-Fi&Fantasy', 76),\n",
              " ('TVHorror', 69),\n",
              " ('TeenTVShows', 60),\n",
              " ('Stand-UpComedy&TalkShows', 52),\n",
              " ('TVThrillers', 50),\n",
              " ('Classic&CultTV', 27),\n",
              " ('TVShows', 12)]"
            ]
          },
          "metadata": {},
          "execution_count": 64
        }
      ]
    },
    {
      "cell_type": "code",
      "source": [
        "genre_names = [name for name, value in g]\n",
        "genre_names"
      ],
      "metadata": {
        "id": "tqwTrwpCZSL3",
        "colab": {
          "base_uri": "https://localhost:8080/"
        },
        "outputId": "41c6ca61-681b-4969-b7ee-b19fd8347463"
      },
      "execution_count": null,
      "outputs": [
        {
          "output_type": "execute_result",
          "data": {
            "text/plain": [
              "['InternationalTVShows',\n",
              " 'TVDramas',\n",
              " 'TVComedies',\n",
              " 'CrimeTVShows',\n",
              " \"Kids'TV\",\n",
              " 'Docuseries',\n",
              " 'RomanticTVShows',\n",
              " 'BritishTVShows',\n",
              " 'RealityTV',\n",
              " 'KoreanTVShows',\n",
              " 'TVAction&Adventure',\n",
              " 'AnimeSeries',\n",
              " 'Spanish-LanguageTVShows',\n",
              " 'TVMysteries',\n",
              " 'Science&NatureTV',\n",
              " 'TVSci-Fi&Fantasy',\n",
              " 'TVHorror',\n",
              " 'TeenTVShows',\n",
              " 'Stand-UpComedy&TalkShows',\n",
              " 'TVThrillers',\n",
              " 'Classic&CultTV',\n",
              " 'TVShows']"
            ]
          },
          "metadata": {},
          "execution_count": 65
        }
      ]
    },
    {
      "cell_type": "code",
      "source": [
        "genre_values = [value for name, value in g]\n",
        "genre_values"
      ],
      "metadata": {
        "id": "JFTvrsCQZSL4",
        "colab": {
          "base_uri": "https://localhost:8080/"
        },
        "outputId": "8d88efd0-e5a2-42c2-dda1-fb4aab9f15da"
      },
      "execution_count": null,
      "outputs": [
        {
          "output_type": "execute_result",
          "data": {
            "text/plain": [
              "[1199,\n",
              " 704,\n",
              " 525,\n",
              " 427,\n",
              " 414,\n",
              " 353,\n",
              " 333,\n",
              " 232,\n",
              " 222,\n",
              " 150,\n",
              " 150,\n",
              " 148,\n",
              " 147,\n",
              " 90,\n",
              " 85,\n",
              " 76,\n",
              " 69,\n",
              " 60,\n",
              " 52,\n",
              " 50,\n",
              " 27,\n",
              " 12]"
            ]
          },
          "metadata": {},
          "execution_count": 66
        }
      ]
    },
    {
      "cell_type": "code",
      "execution_count": null,
      "metadata": {
        "papermill": {
          "duration": 0.656359,
          "end_time": "2021-02-25T06:30:11.191421",
          "exception": false,
          "start_time": "2021-02-25T06:30:10.535062",
          "status": "completed"
        },
        "tags": [],
        "id": "SmYYOKsuZSL6",
        "colab": {
          "base_uri": "https://localhost:8080/",
          "height": 756
        },
        "outputId": "ddd987de-7455-45f3-c8d6-666ca8ff7dbd"
      },
      "outputs": [
        {
          "output_type": "display_data",
          "data": {
            "text/plain": [
              "<Figure size 720x720 with 1 Axes>"
            ],
            "image/png": "[encoded data removed]"
          },
          "metadata": {}
        }
      ],
      "source": [
        "fig = plt.figure(figsize = (10, 10))\n",
        "ax = sns.barplot(x=genre_names, y=genre_values)\n",
        "\n",
        "ax.set_xticklabels(genre_names, rotation=70)\n",
        "ax.set_ylabel(\"Count of TV Shows\")\n",
        "ax.set_title(\"Genres\");"
      ]
    },
    {
      "cell_type": "markdown",
      "metadata": {
        "papermill": {
          "duration": 0.084998,
          "end_time": "2021-02-25T06:30:11.361515",
          "exception": false,
          "start_time": "2021-02-25T06:30:11.276517",
          "status": "completed"
        },
        "tags": [],
        "id": "2-HzHMIeZSL7"
      },
      "source": [
        "Интернациональные сериалы, драмы и комедии - топовые жанры."
      ]
    },
    {
      "cell_type": "markdown",
      "metadata": {
        "papermill": {
          "duration": 0.077104,
          "end_time": "2021-02-25T06:30:07.691900",
          "exception": false,
          "start_time": "2021-02-25T06:30:07.614796",
          "status": "completed"
        },
        "tags": [],
        "id": "0erZtNFDZ_DQ"
      },
      "source": [
        "## Анализ продолжительности сериала"
      ]
    },
    {
      "cell_type": "code",
      "source": [
        "durations[t]"
      ],
      "metadata": {
        "id": "nwLilwiHZ_DS",
        "colab": {
          "base_uri": "https://localhost:8080/",
          "height": 424
        },
        "outputId": "cb52ab59-312e-463c-895e-09ef3753c5b7"
      },
      "execution_count": null,
      "outputs": [
        {
          "output_type": "execute_result",
          "data": {
            "text/plain": [
              "                      title  no_of_seasons\n",
              "0                        3%              4\n",
              "5                        46              1\n",
              "11                     1983              1\n",
              "12                     1994              1\n",
              "16                   Feb-09              1\n",
              "...                     ...            ...\n",
              "7767     Zindagi Gulzar Hai              1\n",
              "7775             Zoids Wild              1\n",
              "7777            Zombie Dumb              2\n",
              "7779              Zona Rosa              1\n",
              "7785  Zumbo's Just Desserts              1\n",
              "\n",
              "[2410 rows x 2 columns]"
            ],
            "text/html": [
              "\n",
              "  <div id=\"df-200caca8-47b5-4564-9b3f-c9435394bc93\">\n",
              "    <div class=\"colab-df-container\">\n",
              "      <div>\n",
              "<style scoped>\n",
              "    .dataframe tbody tr th:only-of-type {\n",
              "        vertical-align: middle;\n",
              "    }\n",
              "\n",
              "    .dataframe tbody tr th {\n",
              "        vertical-align: top;\n",
              "    }\n",
              "\n",
              "    .dataframe thead th {\n",
              "        text-align: right;\n",
              "    }\n",
              "</style>\n",
              "<table border=\"1\" class=\"dataframe\">\n",
              "  <thead>\n",
              "    <tr style=\"text-align: right;\">\n",
              "      <th></th>\n",
              "      <th>title</th>\n",
              "      <th>no_of_seasons</th>\n",
              "    </tr>\n",
              "  </thead>\n",
              "  <tbody>\n",
              "    <tr>\n",
              "      <th>0</th>\n",
              "      <td>3%</td>\n",
              "      <td>4</td>\n",
              "    </tr>\n",
              "    <tr>\n",
              "      <th>5</th>\n",
              "      <td>46</td>\n",
              "      <td>1</td>\n",
              "    </tr>\n",
              "    <tr>\n",
              "      <th>11</th>\n",
              "      <td>1983</td>\n",
              "      <td>1</td>\n",
              "    </tr>\n",
              "    <tr>\n",
              "      <th>12</th>\n",
              "      <td>1994</td>\n",
              "      <td>1</td>\n",
              "    </tr>\n",
              "    <tr>\n",
              "      <th>16</th>\n",
              "      <td>Feb-09</td>\n",
              "      <td>1</td>\n",
              "    </tr>\n",
              "    <tr>\n",
              "      <th>...</th>\n",
              "      <td>...</td>\n",
              "      <td>...</td>\n",
              "    </tr>\n",
              "    <tr>\n",
              "      <th>7767</th>\n",
              "      <td>Zindagi Gulzar Hai</td>\n",
              "      <td>1</td>\n",
              "    </tr>\n",
              "    <tr>\n",
              "      <th>7775</th>\n",
              "      <td>Zoids Wild</td>\n",
              "      <td>1</td>\n",
              "    </tr>\n",
              "    <tr>\n",
              "      <th>7777</th>\n",
              "      <td>Zombie Dumb</td>\n",
              "      <td>2</td>\n",
              "    </tr>\n",
              "    <tr>\n",
              "      <th>7779</th>\n",
              "      <td>Zona Rosa</td>\n",
              "      <td>1</td>\n",
              "    </tr>\n",
              "    <tr>\n",
              "      <th>7785</th>\n",
              "      <td>Zumbo's Just Desserts</td>\n",
              "      <td>1</td>\n",
              "    </tr>\n",
              "  </tbody>\n",
              "</table>\n",
              "<p>2410 rows × 2 columns</p>\n",
              "</div>\n",
              "      <button class=\"colab-df-convert\" onclick=\"convertToInteractive('df-200caca8-47b5-4564-9b3f-c9435394bc93')\"\n",
              "              title=\"Convert this dataframe to an interactive table.\"\n",
              "              style=\"display:none;\">\n",
              "        \n",
              "  <svg xmlns=\"http://www.w3.org/2000/svg\" height=\"24px\"viewBox=\"0 0 24 24\"\n",
              "       width=\"24px\">\n",
              "    <path d=\"M0 0h24v24H0V0z\" fill=\"none\"/>\n",
              "    <path d=\"M18.56 5.44l.94 2.06.94-2.06 2.06-.94-2.06-.94-.94-2.06-.94 2.06-2.06.94zm-11 1L8.5 8.5l.94-2.06 2.06-.94-2.06-.94L8.5 2.5l-.94 2.06-2.06.94zm10 10l.94 2.06.94-2.06 2.06-.94-2.06-.94-.94-2.06-.94 2.06-2.06.94z\"/><path d=\"M17.41 7.96l-1.37-1.37c-.4-.4-.92-.59-1.43-.59-.52 0-1.04.2-1.43.59L10.3 9.45l-7.72 7.72c-.78.78-.78 2.05 0 2.83L4 21.41c.39.39.9.59 1.41.59.51 0 1.02-.2 1.41-.59l7.78-7.78 2.81-2.81c.8-.78.8-2.07 0-2.86zM5.41 20L4 18.59l7.72-7.72 1.47 1.35L5.41 20z\"/>\n",
              "  </svg>\n",
              "      </button>\n",
              "      \n",
              "  <style>\n",
              "    .colab-df-container {\n",
              "      display:flex;\n",
              "      flex-wrap:wrap;\n",
              "      gap: 12px;\n",
              "    }\n",
              "\n",
              "    .colab-df-convert {\n",
              "      background-color: #E8F0FE;\n",
              "      border: none;\n",
              "      border-radius: 50%;\n",
              "      cursor: pointer;\n",
              "      display: none;\n",
              "      fill: #1967D2;\n",
              "      height: 32px;\n",
              "      padding: 0 0 0 0;\n",
              "      width: 32px;\n",
              "    }\n",
              "\n",
              "    .colab-df-convert:hover {\n",
              "      background-color: #E2EBFA;\n",
              "      box-shadow: 0px 1px 2px rgba(60, 64, 67, 0.3), 0px 1px 3px 1px rgba(60, 64, 67, 0.15);\n",
              "      fill: #174EA6;\n",
              "    }\n",
              "\n",
              "    [theme=dark] .colab-df-convert {\n",
              "      background-color: #3B4455;\n",
              "      fill: #D2E3FC;\n",
              "    }\n",
              "\n",
              "    [theme=dark] .colab-df-convert:hover {\n",
              "      background-color: #434B5C;\n",
              "      box-shadow: 0px 1px 3px 1px rgba(0, 0, 0, 0.15);\n",
              "      filter: drop-shadow(0px 1px 2px rgba(0, 0, 0, 0.3));\n",
              "      fill: #FFFFFF;\n",
              "    }\n",
              "  </style>\n",
              "\n",
              "      <script>\n",
              "        const buttonEl =\n",
              "          document.querySelector('#df-200caca8-47b5-4564-9b3f-c9435394bc93 button.colab-df-convert');\n",
              "        buttonEl.style.display =\n",
              "          google.colab.kernel.accessAllowed ? 'block' : 'none';\n",
              "\n",
              "        async function convertToInteractive(key) {\n",
              "          const element = document.querySelector('#df-200caca8-47b5-4564-9b3f-c9435394bc93');\n",
              "          const dataTable =\n",
              "            await google.colab.kernel.invokeFunction('convertToInteractive',\n",
              "                                                     [key], {});\n",
              "          if (!dataTable) return;\n",
              "\n",
              "          const docLinkHtml = 'Like what you see? Visit the ' +\n",
              "            '<a target=\"_blank\" href=https://colab.research.google.com/notebooks/data_table.ipynb>data table notebook</a>'\n",
              "            + ' to learn more about interactive tables.';\n",
              "          element.innerHTML = '';\n",
              "          dataTable['output_type'] = 'display_data';\n",
              "          await google.colab.output.renderOutput(dataTable, element);\n",
              "          const docLink = document.createElement('div');\n",
              "          docLink.innerHTML = docLinkHtml;\n",
              "          element.appendChild(docLink);\n",
              "        }\n",
              "      </script>\n",
              "    </div>\n",
              "  </div>\n",
              "  "
            ]
          },
          "metadata": {},
          "execution_count": 68
        }
      ]
    },
    {
      "cell_type": "code",
      "execution_count": null,
      "metadata": {
        "papermill": {
          "duration": 0.391059,
          "end_time": "2021-02-25T06:30:08.344543",
          "exception": false,
          "start_time": "2021-02-25T06:30:07.953484",
          "status": "completed"
        },
        "tags": [],
        "id": "Gwzjsp-jZ_DW",
        "colab": {
          "base_uri": "https://localhost:8080/",
          "height": 502
        },
        "outputId": "930aeac7-bfb5-404f-f361-31559b53bf6d"
      },
      "outputs": [
        {
          "output_type": "display_data",
          "data": {
            "text/plain": [
              "<Figure size 720x576 with 1 Axes>"
            ],
            "image/png": "[encoded data removed]"
          },
          "metadata": {}
        }
      ],
      "source": [
        "sns.set(style=\"darkgrid\")\n",
        "plt.figure(figsize=(10, 8))\n",
        "sns.kdeplot(data=durations['no_of_seasons'], shade=True)\n",
        "plt.xticks(sorted(durations['no_of_seasons'].unique()));"
      ]
    },
    {
      "cell_type": "markdown",
      "metadata": {
        "papermill": {
          "duration": 0.1012,
          "end_time": "2021-02-25T06:30:30.036397",
          "exception": false,
          "start_time": "2021-02-25T06:30:29.935197",
          "status": "completed"
        },
        "tags": [],
        "id": "fQxwY61Sihze"
      },
      "source": [
        "# Система рекомендаций (content based)"
      ]
    },
    {
      "cell_type": "markdown",
      "metadata": {
        "papermill": {
          "duration": 0.104707,
          "end_time": "2021-02-25T06:30:30.244474",
          "exception": false,
          "start_time": "2021-02-25T06:30:30.139767",
          "status": "completed"
        },
        "tags": [],
        "id": "5-w8QUjjihzf"
      },
      "source": [
        "<img src='https://drive.google.com/uc?id=1H8rUnZV3RMbOO4HnNpZrjpYIOzy0ArrV' width=300>"
      ]
    },
    {
      "cell_type": "code",
      "source": [
        "netflix_movies['description']"
      ],
      "metadata": {
        "colab": {
          "base_uri": "https://localhost:8080/"
        },
        "id": "TVU0YwmpPQNM",
        "outputId": "386cdabd-cc59-4833-fdc7-d5ac6b327c92"
      },
      "execution_count": null,
      "outputs": [
        {
          "output_type": "execute_result",
          "data": {
            "text/plain": [
              "1       After a devastating earthquake hits Mexico Cit...\n",
              "2       When an army recruit is found dead, his fellow...\n",
              "3       In a postapocalyptic world, rag-doll robots hi...\n",
              "4       A brilliant group of students become card-coun...\n",
              "6       After an awful accident, a couple admitted to ...\n",
              "                              ...                        \n",
              "7781    Dragged from civilian life, a former superhero...\n",
              "7782    When Lebanon's Civil War deprives Zozo of his ...\n",
              "7783    A scrappy but poor boy worms his way into a ty...\n",
              "7784    In this documentary, South African rapper Nast...\n",
              "7786    This documentary delves into the mystique behi...\n",
              "Name: description, Length: 5377, dtype: object"
            ]
          },
          "metadata": {},
          "execution_count": 76
        }
      ]
    },
    {
      "cell_type": "markdown",
      "metadata": {
        "id": "XUxrqvQRUWvk"
      },
      "source": [
        "https://ru.wikipedia.org/wiki/TF-IDF"
      ]
    },
    {
      "cell_type": "markdown",
      "metadata": {
        "id": "1KCVuVQeUWvl"
      },
      "source": [
        "<img src='https://drive.google.com/uc?export=view&id=14nvoZ71VqMfYBY6ff_7_Btx-tVwL_4lB'>"
      ]
    },
    {
      "cell_type": "markdown",
      "source": [
        "Wifi access required<br>\n",
        "My computer does not connect to wifi<br>\n",
        "My Computer freezes<br>\n",
        "What is a computer virus?\n",
        "\n",
        "<table>\n",
        "<tr>\n",
        "<td>#</td><td><b>wifi</b></td><td><b>access</b></td><td><b>require</b></td><td><b>computer</b></td><td><b>freeze</b></td><td><b>virus</b></td>\n",
        "</tr>\n",
        "\n",
        "<tr>\n",
        "<td><b>1</b></td><td>1</td><td>1</td><td>1</td><td>0</td><td>0</td><td>0</td>\n",
        "</tr>\n",
        "\n",
        "<tr>\n",
        "<td><b>2</b></td><td>1</td><td>0</td><td>0</td><td>1</td><td>0</td><td>0</td>\n",
        "</tr>\n",
        "\n",
        "<tr>\n",
        "<td><b>3</b></td><td>0</td><td>0</td><td>0</td><td>1</td><td>1</td><td>0</td>\n",
        "</tr>\n",
        "\n",
        "<tr>\n",
        "<td><b>4</b></td><td>0</td><td>0</td><td>0</td><td>1</td><td>0</td><td>1</td>\n",
        "</tr>\n",
        "\n",
        "</table>"
      ],
      "metadata": {
        "id": "xSzBZdxXj0Al"
      }
    },
    {
      "cell_type": "code",
      "execution_count": null,
      "metadata": {
        "papermill": {
          "duration": 0.191776,
          "end_time": "2021-02-25T06:30:30.742003",
          "exception": false,
          "start_time": "2021-02-25T06:30:30.550227",
          "status": "completed"
        },
        "tags": [],
        "id": "lDXNSf3Wihzf"
      },
      "outputs": [],
      "source": [
        "from sklearn.feature_extraction.text import TfidfVectorizer, CountVectorizer"
      ]
    },
    {
      "cell_type": "code",
      "source": [
        "netflix_movies['description'].isna().sum()"
      ],
      "metadata": {
        "colab": {
          "base_uri": "https://localhost:8080/"
        },
        "id": "rl5BUx8DRSXh",
        "outputId": "68532846-59b6-4065-ba20-d6b7d3a8436f"
      },
      "execution_count": null,
      "outputs": [
        {
          "output_type": "execute_result",
          "data": {
            "text/plain": [
              "0"
            ]
          },
          "metadata": {},
          "execution_count": 79
        }
      ]
    },
    {
      "cell_type": "code",
      "source": [
        "# netflix_movies['description'] = netflix_movies['description'].fillna('')\n",
        "# netflix_movies['description'].isna().sum()"
      ],
      "metadata": {
        "id": "qxMw-_JxdMlq"
      },
      "execution_count": null,
      "outputs": []
    },
    {
      "cell_type": "code",
      "source": [
        "netflix_movies['description'].head()"
      ],
      "metadata": {
        "id": "I22sY5bMfbdE",
        "colab": {
          "base_uri": "https://localhost:8080/"
        },
        "outputId": "181995c9-1d57-4954-e642-9c487d97cd56"
      },
      "execution_count": null,
      "outputs": [
        {
          "output_type": "execute_result",
          "data": {
            "text/plain": [
              "1    After a devastating earthquake hits Mexico Cit...\n",
              "2    When an army recruit is found dead, his fellow...\n",
              "3    In a postapocalyptic world, rag-doll robots hi...\n",
              "4    A brilliant group of students become card-coun...\n",
              "6    After an awful accident, a couple admitted to ...\n",
              "Name: description, dtype: object"
            ]
          },
          "metadata": {},
          "execution_count": 81
        }
      ]
    },
    {
      "cell_type": "code",
      "execution_count": null,
      "metadata": {
        "papermill": {
          "duration": 0.463718,
          "end_time": "2021-02-25T06:30:31.308644",
          "exception": false,
          "start_time": "2021-02-25T06:30:30.844926",
          "status": "completed"
        },
        "tags": [],
        "id": "kRWmAxE_ihzf",
        "colab": {
          "base_uri": "https://localhost:8080/"
        },
        "outputId": "dad0d795-649f-4acc-b43b-d809b8972ceb"
      },
      "outputs": [
        {
          "output_type": "execute_result",
          "data": {
            "text/plain": [
              "(5377, 14601)"
            ]
          },
          "metadata": {},
          "execution_count": 91
        }
      ],
      "source": [
        "tfidf = TfidfVectorizer(stop_words='english')\n",
        "tfidf_matrix = tfidf.fit_transform(netflix_movies['description'])\n",
        "\n",
        "tfidf_matrix.shape"
      ]
    },
    {
      "cell_type": "code",
      "source": [
        "tfidf_matrix"
      ],
      "metadata": {
        "colab": {
          "base_uri": "https://localhost:8080/"
        },
        "id": "tBNzdHkaRqhU",
        "outputId": "94894892-bafc-41c5-ff02-b5557ca5cb8a"
      },
      "execution_count": null,
      "outputs": [
        {
          "output_type": "execute_result",
          "data": {
            "text/plain": [
              "<5377x14601 sparse matrix of type '<class 'numpy.float64'>'\n",
              "\twith 73930 stored elements in Compressed Sparse Row format>"
            ]
          },
          "metadata": {},
          "execution_count": 92
        }
      ]
    },
    {
      "cell_type": "markdown",
      "metadata": {
        "papermill": {
          "duration": 0.101494,
          "end_time": "2021-02-25T06:30:31.512331",
          "exception": false,
          "start_time": "2021-02-25T06:30:31.410837",
          "status": "completed"
        },
        "tags": [],
        "id": "y5w-IyrTihzg"
      },
      "source": [
        "Здесь 14601 слов, которые описывают 5377 фильмов."
      ]
    },
    {
      "cell_type": "code",
      "source": [
        "pd.DataFrame.sparse.from_spmatrix(tfidf_matrix, columns=tfidf.get_feature_names_out())"
      ],
      "metadata": {
        "id": "4X0t8iV_iVrk",
        "colab": {
          "base_uri": "https://localhost:8080/",
          "height": 424
        },
        "outputId": "f54136b0-60d9-48e5-e792-eb623e611cf7"
      },
      "execution_count": null,
      "outputs": [
        {
          "output_type": "execute_result",
          "data": {
            "text/plain": [
              "      000  007   10  100  1000  10th   11  112  11th   12  ...  zuhu  zurich  \\\n",
              "0     0.0  0.0  0.0  0.0   0.0   0.0  0.0  0.0   0.0  0.0  ...   0.0     0.0   \n",
              "1     0.0  0.0  0.0  0.0   0.0   0.0  0.0  0.0   0.0  0.0  ...   0.0     0.0   \n",
              "2     0.0  0.0  0.0  0.0   0.0   0.0  0.0  0.0   0.0  0.0  ...   0.0     0.0   \n",
              "3     0.0  0.0  0.0  0.0   0.0   0.0  0.0  0.0   0.0  0.0  ...   0.0     0.0   \n",
              "4     0.0  0.0  0.0  0.0   0.0   0.0  0.0  0.0   0.0  0.0  ...   0.0     0.0   \n",
              "...   ...  ...  ...  ...   ...   ...  ...  ...   ...  ...  ...   ...     ...   \n",
              "5372  0.0  0.0  0.0  0.0   0.0   0.0  0.0  0.0   0.0  0.0  ...   0.0     0.0   \n",
              "5373  0.0  0.0  0.0  0.0   0.0   0.0  0.0  0.0   0.0  0.0  ...   0.0     0.0   \n",
              "5374  0.0  0.0  0.0  0.0   0.0   0.0  0.0  0.0   0.0  0.0  ...   0.0     0.0   \n",
              "5375  0.0  0.0  0.0  0.0   0.0   0.0  0.0  0.0   0.0  0.0  ...   0.0     0.0   \n",
              "5376  0.0  0.0  0.0  0.0   0.0   0.0  0.0  0.0   0.0  0.0  ...   0.0     0.0   \n",
              "\n",
              "      álex  álvaro  ángel  émile  über  łukasz  ōarai  şeref  \n",
              "0      0.0     0.0    0.0    0.0   0.0     0.0    0.0    0.0  \n",
              "1      0.0     0.0    0.0    0.0   0.0     0.0    0.0    0.0  \n",
              "2      0.0     0.0    0.0    0.0   0.0     0.0    0.0    0.0  \n",
              "3      0.0     0.0    0.0    0.0   0.0     0.0    0.0    0.0  \n",
              "4      0.0     0.0    0.0    0.0   0.0     0.0    0.0    0.0  \n",
              "...    ...     ...    ...    ...   ...     ...    ...    ...  \n",
              "5372   0.0     0.0    0.0    0.0   0.0     0.0    0.0    0.0  \n",
              "5373   0.0     0.0    0.0    0.0   0.0     0.0    0.0    0.0  \n",
              "5374   0.0     0.0    0.0    0.0   0.0     0.0    0.0    0.0  \n",
              "5375   0.0     0.0    0.0    0.0   0.0     0.0    0.0    0.0  \n",
              "5376   0.0     0.0    0.0    0.0   0.0     0.0    0.0    0.0  \n",
              "\n",
              "[5377 rows x 14601 columns]"
            ],
            "text/html": [
              "\n",
              "  <div id=\"df-f29e3ac1-9efc-4c56-879f-9a08e103c831\">\n",
              "    <div class=\"colab-df-container\">\n",
              "      <div>\n",
              "<style scoped>\n",
              "    .dataframe tbody tr th:only-of-type {\n",
              "        vertical-align: middle;\n",
              "    }\n",
              "\n",
              "    .dataframe tbody tr th {\n",
              "        vertical-align: top;\n",
              "    }\n",
              "\n",
              "    .dataframe thead th {\n",
              "        text-align: right;\n",
              "    }\n",
              "</style>\n",
              "<table border=\"1\" class=\"dataframe\">\n",
              "  <thead>\n",
              "    <tr style=\"text-align: right;\">\n",
              "      <th></th>\n",
              "      <th>000</th>\n",
              "      <th>007</th>\n",
              "      <th>10</th>\n",
              "      <th>100</th>\n",
              "      <th>1000</th>\n",
              "      <th>10th</th>\n",
              "      <th>11</th>\n",
              "      <th>112</th>\n",
              "      <th>11th</th>\n",
              "      <th>12</th>\n",
              "      <th>...</th>\n",
              "      <th>zuhu</th>\n",
              "      <th>zurich</th>\n",
              "      <th>álex</th>\n",
              "      <th>álvaro</th>\n",
              "      <th>ángel</th>\n",
              "      <th>émile</th>\n",
              "      <th>über</th>\n",
              "      <th>łukasz</th>\n",
              "      <th>ōarai</th>\n",
              "      <th>şeref</th>\n",
              "    </tr>\n",
              "  </thead>\n",
              "  <tbody>\n",
              "    <tr>\n",
              "      <th>0</th>\n",
              "      <td>0.0</td>\n",
              "      <td>0.0</td>\n",
              "      <td>0.0</td>\n",
              "      <td>0.0</td>\n",
              "      <td>0.0</td>\n",
              "      <td>0.0</td>\n",
              "      <td>0.0</td>\n",
              "      <td>0.0</td>\n",
              "      <td>0.0</td>\n",
              "      <td>0.0</td>\n",
              "      <td>...</td>\n",
              "      <td>0.0</td>\n",
              "      <td>0.0</td>\n",
              "      <td>0.0</td>\n",
              "      <td>0.0</td>\n",
              "      <td>0.0</td>\n",
              "      <td>0.0</td>\n",
              "      <td>0.0</td>\n",
              "      <td>0.0</td>\n",
              "      <td>0.0</td>\n",
              "      <td>0.0</td>\n",
              "    </tr>\n",
              "    <tr>\n",
              "      <th>1</th>\n",
              "      <td>0.0</td>\n",
              "      <td>0.0</td>\n",
              "      <td>0.0</td>\n",
              "      <td>0.0</td>\n",
              "      <td>0.0</td>\n",
              "      <td>0.0</td>\n",
              "      <td>0.0</td>\n",
              "      <td>0.0</td>\n",
              "      <td>0.0</td>\n",
              "      <td>0.0</td>\n",
              "      <td>...</td>\n",
              "      <td>0.0</td>\n",
              "      <td>0.0</td>\n",
              "      <td>0.0</td>\n",
              "      <td>0.0</td>\n",
              "      <td>0.0</td>\n",
              "      <td>0.0</td>\n",
              "      <td>0.0</td>\n",
              "      <td>0.0</td>\n",
              "      <td>0.0</td>\n",
              "      <td>0.0</td>\n",
              "    </tr>\n",
              "    <tr>\n",
              "      <th>2</th>\n",
              "      <td>0.0</td>\n",
              "      <td>0.0</td>\n",
              "      <td>0.0</td>\n",
              "      <td>0.0</td>\n",
              "      <td>0.0</td>\n",
              "      <td>0.0</td>\n",
              "      <td>0.0</td>\n",
              "      <td>0.0</td>\n",
              "      <td>0.0</td>\n",
              "      <td>0.0</td>\n",
              "      <td>...</td>\n",
              "      <td>0.0</td>\n",
              "      <td>0.0</td>\n",
              "      <td>0.0</td>\n",
              "      <td>0.0</td>\n",
              "      <td>0.0</td>\n",
              "      <td>0.0</td>\n",
              "      <td>0.0</td>\n",
              "      <td>0.0</td>\n",
              "      <td>0.0</td>\n",
              "      <td>0.0</td>\n",
              "    </tr>\n",
              "    <tr>\n",
              "      <th>3</th>\n",
              "      <td>0.0</td>\n",
              "      <td>0.0</td>\n",
              "      <td>0.0</td>\n",
              "      <td>0.0</td>\n",
              "      <td>0.0</td>\n",
              "      <td>0.0</td>\n",
              "      <td>0.0</td>\n",
              "      <td>0.0</td>\n",
              "      <td>0.0</td>\n",
              "      <td>0.0</td>\n",
              "      <td>...</td>\n",
              "      <td>0.0</td>\n",
              "      <td>0.0</td>\n",
              "      <td>0.0</td>\n",
              "      <td>0.0</td>\n",
              "      <td>0.0</td>\n",
              "      <td>0.0</td>\n",
              "      <td>0.0</td>\n",
              "      <td>0.0</td>\n",
              "      <td>0.0</td>\n",
              "      <td>0.0</td>\n",
              "    </tr>\n",
              "    <tr>\n",
              "      <th>4</th>\n",
              "      <td>0.0</td>\n",
              "      <td>0.0</td>\n",
              "      <td>0.0</td>\n",
              "      <td>0.0</td>\n",
              "      <td>0.0</td>\n",
              "      <td>0.0</td>\n",
              "      <td>0.0</td>\n",
              "      <td>0.0</td>\n",
              "      <td>0.0</td>\n",
              "      <td>0.0</td>\n",
              "      <td>...</td>\n",
              "      <td>0.0</td>\n",
              "      <td>0.0</td>\n",
              "      <td>0.0</td>\n",
              "      <td>0.0</td>\n",
              "      <td>0.0</td>\n",
              "      <td>0.0</td>\n",
              "      <td>0.0</td>\n",
              "      <td>0.0</td>\n",
              "      <td>0.0</td>\n",
              "      <td>0.0</td>\n",
              "    </tr>\n",
              "    <tr>\n",
              "      <th>...</th>\n",
              "      <td>...</td>\n",
              "      <td>...</td>\n",
              "      <td>...</td>\n",
              "      <td>...</td>\n",
              "      <td>...</td>\n",
              "      <td>...</td>\n",
              "      <td>...</td>\n",
              "      <td>...</td>\n",
              "      <td>...</td>\n",
              "      <td>...</td>\n",
              "      <td>...</td>\n",
              "      <td>...</td>\n",
              "      <td>...</td>\n",
              "      <td>...</td>\n",
              "      <td>...</td>\n",
              "      <td>...</td>\n",
              "      <td>...</td>\n",
              "      <td>...</td>\n",
              "      <td>...</td>\n",
              "      <td>...</td>\n",
              "      <td>...</td>\n",
              "    </tr>\n",
              "    <tr>\n",
              "      <th>5372</th>\n",
              "      <td>0.0</td>\n",
              "      <td>0.0</td>\n",
              "      <td>0.0</td>\n",
              "      <td>0.0</td>\n",
              "      <td>0.0</td>\n",
              "      <td>0.0</td>\n",
              "      <td>0.0</td>\n",
              "      <td>0.0</td>\n",
              "      <td>0.0</td>\n",
              "      <td>0.0</td>\n",
              "      <td>...</td>\n",
              "      <td>0.0</td>\n",
              "      <td>0.0</td>\n",
              "      <td>0.0</td>\n",
              "      <td>0.0</td>\n",
              "      <td>0.0</td>\n",
              "      <td>0.0</td>\n",
              "      <td>0.0</td>\n",
              "      <td>0.0</td>\n",
              "      <td>0.0</td>\n",
              "      <td>0.0</td>\n",
              "    </tr>\n",
              "    <tr>\n",
              "      <th>5373</th>\n",
              "      <td>0.0</td>\n",
              "      <td>0.0</td>\n",
              "      <td>0.0</td>\n",
              "      <td>0.0</td>\n",
              "      <td>0.0</td>\n",
              "      <td>0.0</td>\n",
              "      <td>0.0</td>\n",
              "      <td>0.0</td>\n",
              "      <td>0.0</td>\n",
              "      <td>0.0</td>\n",
              "      <td>...</td>\n",
              "      <td>0.0</td>\n",
              "      <td>0.0</td>\n",
              "      <td>0.0</td>\n",
              "      <td>0.0</td>\n",
              "      <td>0.0</td>\n",
              "      <td>0.0</td>\n",
              "      <td>0.0</td>\n",
              "      <td>0.0</td>\n",
              "      <td>0.0</td>\n",
              "      <td>0.0</td>\n",
              "    </tr>\n",
              "    <tr>\n",
              "      <th>5374</th>\n",
              "      <td>0.0</td>\n",
              "      <td>0.0</td>\n",
              "      <td>0.0</td>\n",
              "      <td>0.0</td>\n",
              "      <td>0.0</td>\n",
              "      <td>0.0</td>\n",
              "      <td>0.0</td>\n",
              "      <td>0.0</td>\n",
              "      <td>0.0</td>\n",
              "      <td>0.0</td>\n",
              "      <td>...</td>\n",
              "      <td>0.0</td>\n",
              "      <td>0.0</td>\n",
              "      <td>0.0</td>\n",
              "      <td>0.0</td>\n",
              "      <td>0.0</td>\n",
              "      <td>0.0</td>\n",
              "      <td>0.0</td>\n",
              "      <td>0.0</td>\n",
              "      <td>0.0</td>\n",
              "      <td>0.0</td>\n",
              "    </tr>\n",
              "    <tr>\n",
              "      <th>5375</th>\n",
              "      <td>0.0</td>\n",
              "      <td>0.0</td>\n",
              "      <td>0.0</td>\n",
              "      <td>0.0</td>\n",
              "      <td>0.0</td>\n",
              "      <td>0.0</td>\n",
              "      <td>0.0</td>\n",
              "      <td>0.0</td>\n",
              "      <td>0.0</td>\n",
              "      <td>0.0</td>\n",
              "      <td>...</td>\n",
              "      <td>0.0</td>\n",
              "      <td>0.0</td>\n",
              "      <td>0.0</td>\n",
              "      <td>0.0</td>\n",
              "      <td>0.0</td>\n",
              "      <td>0.0</td>\n",
              "      <td>0.0</td>\n",
              "      <td>0.0</td>\n",
              "      <td>0.0</td>\n",
              "      <td>0.0</td>\n",
              "    </tr>\n",
              "    <tr>\n",
              "      <th>5376</th>\n",
              "      <td>0.0</td>\n",
              "      <td>0.0</td>\n",
              "      <td>0.0</td>\n",
              "      <td>0.0</td>\n",
              "      <td>0.0</td>\n",
              "      <td>0.0</td>\n",
              "      <td>0.0</td>\n",
              "      <td>0.0</td>\n",
              "      <td>0.0</td>\n",
              "      <td>0.0</td>\n",
              "      <td>...</td>\n",
              "      <td>0.0</td>\n",
              "      <td>0.0</td>\n",
              "      <td>0.0</td>\n",
              "      <td>0.0</td>\n",
              "      <td>0.0</td>\n",
              "      <td>0.0</td>\n",
              "      <td>0.0</td>\n",
              "      <td>0.0</td>\n",
              "      <td>0.0</td>\n",
              "      <td>0.0</td>\n",
              "    </tr>\n",
              "  </tbody>\n",
              "</table>\n",
              "<p>5377 rows × 14601 columns</p>\n",
              "</div>\n",
              "      <button class=\"colab-df-convert\" onclick=\"convertToInteractive('df-f29e3ac1-9efc-4c56-879f-9a08e103c831')\"\n",
              "              title=\"Convert this dataframe to an interactive table.\"\n",
              "              style=\"display:none;\">\n",
              "        \n",
              "  <svg xmlns=\"http://www.w3.org/2000/svg\" height=\"24px\"viewBox=\"0 0 24 24\"\n",
              "       width=\"24px\">\n",
              "    <path d=\"M0 0h24v24H0V0z\" fill=\"none\"/>\n",
              "    <path d=\"M18.56 5.44l.94 2.06.94-2.06 2.06-.94-2.06-.94-.94-2.06-.94 2.06-2.06.94zm-11 1L8.5 8.5l.94-2.06 2.06-.94-2.06-.94L8.5 2.5l-.94 2.06-2.06.94zm10 10l.94 2.06.94-2.06 2.06-.94-2.06-.94-.94-2.06-.94 2.06-2.06.94z\"/><path d=\"M17.41 7.96l-1.37-1.37c-.4-.4-.92-.59-1.43-.59-.52 0-1.04.2-1.43.59L10.3 9.45l-7.72 7.72c-.78.78-.78 2.05 0 2.83L4 21.41c.39.39.9.59 1.41.59.51 0 1.02-.2 1.41-.59l7.78-7.78 2.81-2.81c.8-.78.8-2.07 0-2.86zM5.41 20L4 18.59l7.72-7.72 1.47 1.35L5.41 20z\"/>\n",
              "  </svg>\n",
              "      </button>\n",
              "      \n",
              "  <style>\n",
              "    .colab-df-container {\n",
              "      display:flex;\n",
              "      flex-wrap:wrap;\n",
              "      gap: 12px;\n",
              "    }\n",
              "\n",
              "    .colab-df-convert {\n",
              "      background-color: #E8F0FE;\n",
              "      border: none;\n",
              "      border-radius: 50%;\n",
              "      cursor: pointer;\n",
              "      display: none;\n",
              "      fill: #1967D2;\n",
              "      height: 32px;\n",
              "      padding: 0 0 0 0;\n",
              "      width: 32px;\n",
              "    }\n",
              "\n",
              "    .colab-df-convert:hover {\n",
              "      background-color: #E2EBFA;\n",
              "      box-shadow: 0px 1px 2px rgba(60, 64, 67, 0.3), 0px 1px 3px 1px rgba(60, 64, 67, 0.15);\n",
              "      fill: #174EA6;\n",
              "    }\n",
              "\n",
              "    [theme=dark] .colab-df-convert {\n",
              "      background-color: #3B4455;\n",
              "      fill: #D2E3FC;\n",
              "    }\n",
              "\n",
              "    [theme=dark] .colab-df-convert:hover {\n",
              "      background-color: #434B5C;\n",
              "      box-shadow: 0px 1px 3px 1px rgba(0, 0, 0, 0.15);\n",
              "      filter: drop-shadow(0px 1px 2px rgba(0, 0, 0, 0.3));\n",
              "      fill: #FFFFFF;\n",
              "    }\n",
              "  </style>\n",
              "\n",
              "      <script>\n",
              "        const buttonEl =\n",
              "          document.querySelector('#df-f29e3ac1-9efc-4c56-879f-9a08e103c831 button.colab-df-convert');\n",
              "        buttonEl.style.display =\n",
              "          google.colab.kernel.accessAllowed ? 'block' : 'none';\n",
              "\n",
              "        async function convertToInteractive(key) {\n",
              "          const element = document.querySelector('#df-f29e3ac1-9efc-4c56-879f-9a08e103c831');\n",
              "          const dataTable =\n",
              "            await google.colab.kernel.invokeFunction('convertToInteractive',\n",
              "                                                     [key], {});\n",
              "          if (!dataTable) return;\n",
              "\n",
              "          const docLinkHtml = 'Like what you see? Visit the ' +\n",
              "            '<a target=\"_blank\" href=https://colab.research.google.com/notebooks/data_table.ipynb>data table notebook</a>'\n",
              "            + ' to learn more about interactive tables.';\n",
              "          element.innerHTML = '';\n",
              "          dataTable['output_type'] = 'display_data';\n",
              "          await google.colab.output.renderOutput(dataTable, element);\n",
              "          const docLink = document.createElement('div');\n",
              "          docLink.innerHTML = docLinkHtml;\n",
              "          element.appendChild(docLink);\n",
              "        }\n",
              "      </script>\n",
              "    </div>\n",
              "  </div>\n",
              "  "
            ]
          },
          "metadata": {},
          "execution_count": 93
        }
      ]
    },
    {
      "cell_type": "markdown",
      "metadata": {
        "papermill": {
          "duration": 0.102594,
          "end_time": "2021-02-25T06:30:31.717186",
          "exception": false,
          "start_time": "2021-02-25T06:30:31.614592",
          "status": "completed"
        },
        "tags": [],
        "id": "GICl7OCRihzg"
      },
      "source": [
        "Косинусная похожесть\n",
        "\n",
        "<img src='https://drive.google.com/uc?id=1sp8Hfr1H8YKdo6KQHhvK42VPtzzJJczk'>\n",
        "\n",
        "<img src='https://i.stack.imgur.com/36r1U.png'>"
      ]
    },
    {
      "cell_type": "code",
      "execution_count": null,
      "metadata": {
        "papermill": {
          "duration": 0.867555,
          "end_time": "2021-02-25T06:30:32.688388",
          "exception": false,
          "start_time": "2021-02-25T06:30:31.820833",
          "status": "completed"
        },
        "tags": [],
        "id": "KkU4WpKkihzh",
        "colab": {
          "base_uri": "https://localhost:8080/"
        },
        "outputId": "e001fd68-d40a-4768-f7f6-6963a5032be7"
      },
      "outputs": [
        {
          "output_type": "execute_result",
          "data": {
            "text/plain": [
              "array([[1.        , 0.        , 0.        , ..., 0.        , 0.09305242,\n",
              "        0.        ],\n",
              "       [0.        , 1.        , 0.        , ..., 0.        , 0.        ,\n",
              "        0.        ],\n",
              "       [0.        , 0.        , 1.        , ..., 0.07593931, 0.        ,\n",
              "        0.        ],\n",
              "       ...,\n",
              "       [0.        , 0.        , 0.07593931, ..., 1.        , 0.        ,\n",
              "        0.        ],\n",
              "       [0.09305242, 0.        , 0.        , ..., 0.        , 1.        ,\n",
              "        0.02580113],\n",
              "       [0.        , 0.        , 0.        , ..., 0.        , 0.02580113,\n",
              "        1.        ]])"
            ]
          },
          "metadata": {},
          "execution_count": 94
        }
      ],
      "source": [
        "from sklearn.metrics.pairwise import cosine_similarity\n",
        "\n",
        "cosine_sim = cosine_similarity(tfidf_matrix, tfidf_matrix)\n",
        "cosine_sim"
      ]
    },
    {
      "cell_type": "code",
      "source": [
        "cosine_sim.shape"
      ],
      "metadata": {
        "id": "wMcDzrF6dtA8",
        "colab": {
          "base_uri": "https://localhost:8080/"
        },
        "outputId": "c01976d5-ac18-41c7-e5d0-290ffab695d3"
      },
      "execution_count": null,
      "outputs": [
        {
          "output_type": "execute_result",
          "data": {
            "text/plain": [
              "(5377, 5377)"
            ]
          },
          "metadata": {},
          "execution_count": 95
        }
      ]
    },
    {
      "cell_type": "code",
      "source": [
        "indices = pd.Series(netflix_movies.index, index=netflix_movies['title']).drop_duplicates()\n",
        "indices"
      ],
      "metadata": {
        "id": "Pf1qjVMneAdy",
        "colab": {
          "base_uri": "https://localhost:8080/"
        },
        "outputId": "d8fb71ac-4678-4fe1-fedd-909f1c62d580"
      },
      "execution_count": null,
      "outputs": [
        {
          "output_type": "execute_result",
          "data": {
            "text/plain": [
              "title\n",
              "7:19                                          1\n",
              "23:59                                         2\n",
              "9                                             3\n",
              "21                                            4\n",
              "122                                           6\n",
              "                                           ... \n",
              "Zoom                                       7781\n",
              "Zozo                                       7782\n",
              "Zubaan                                     7783\n",
              "Zulu Man in Japan                          7784\n",
              "ZZ TOP: THAT LITTLE OL' BAND FROM TEXAS    7786\n",
              "Length: 5377, dtype: int64"
            ]
          },
          "metadata": {},
          "execution_count": 96
        }
      ]
    },
    {
      "cell_type": "code",
      "source": [
        "cosine_sim_df = pd.DataFrame(cosine_sim)\n",
        "\n",
        "cosine_sim_df.columns = indices.index\n",
        "\n",
        "cosine_sim_df['title'] = indices.index\n",
        "cosine_sim_df = cosine_sim_df.set_index('title')\n",
        "\n",
        "cosine_sim_df.head()"
      ],
      "metadata": {
        "id": "743uKHyBd7e_",
        "colab": {
          "base_uri": "https://localhost:8080/",
          "height": 363
        },
        "outputId": "71b1f812-2647-4878-b280-2de49a297107"
      },
      "execution_count": null,
      "outputs": [
        {
          "output_type": "execute_result",
          "data": {
            "text/plain": [
              "title  7:19  23:59         9        21  122       187  706  1920      1922  \\\n",
              "title                                                                        \n",
              "7:19    1.0    0.0  0.000000  0.000000  0.0  0.027618  0.0   0.0  0.000000   \n",
              "23:59   0.0    1.0  0.000000  0.000000  0.0  0.000000  0.0   0.0  0.000000   \n",
              "9       0.0    0.0  1.000000  0.029333  0.0  0.000000  0.0   0.0  0.000000   \n",
              "21      0.0    0.0  0.029333  1.000000  0.0  0.037268  0.0   0.0  0.000000   \n",
              "122     0.0    0.0  0.000000  0.000000  1.0  0.000000  0.0   0.0  0.041665   \n",
              "\n",
              "title  2,215  ...  Zoé: Panoramas  Zodiac  Zokkomon  Zombieland       Zoo  \\\n",
              "title         ...                                                           \n",
              "7:19     0.0  ...             0.0     0.0       0.0    0.000000  0.000000   \n",
              "23:59    0.0  ...             0.0     0.0       0.0    0.000000  0.042022   \n",
              "9        0.0  ...             0.0     0.0       0.0    0.023371  0.000000   \n",
              "21       0.0  ...             0.0     0.0       0.0    0.000000  0.000000   \n",
              "122      0.0  ...             0.0     0.0       0.0    0.000000  0.000000   \n",
              "\n",
              "title      Zoom  Zozo    Zubaan  Zulu Man in Japan  \\\n",
              "title                                                \n",
              "7:19   0.016381   0.0  0.000000           0.093052   \n",
              "23:59  0.000000   0.0  0.000000           0.000000   \n",
              "9      0.000000   0.0  0.075939           0.000000   \n",
              "21     0.000000   0.0  0.000000           0.000000   \n",
              "122    0.000000   0.0  0.000000           0.000000   \n",
              "\n",
              "title  ZZ TOP: THAT LITTLE OL' BAND FROM TEXAS  \n",
              "title                                           \n",
              "7:19                                       0.0  \n",
              "23:59                                      0.0  \n",
              "9                                          0.0  \n",
              "21                                         0.0  \n",
              "122                                        0.0  \n",
              "\n",
              "[5 rows x 5377 columns]"
            ],
            "text/html": [
              "\n",
              "  <div id=\"df-f6689824-9fa3-4421-9ba0-904a83c446d2\">\n",
              "    <div class=\"colab-df-container\">\n",
              "      <div>\n",
              "<style scoped>\n",
              "    .dataframe tbody tr th:only-of-type {\n",
              "        vertical-align: middle;\n",
              "    }\n",
              "\n",
              "    .dataframe tbody tr th {\n",
              "        vertical-align: top;\n",
              "    }\n",
              "\n",
              "    .dataframe thead th {\n",
              "        text-align: right;\n",
              "    }\n",
              "</style>\n",
              "<table border=\"1\" class=\"dataframe\">\n",
              "  <thead>\n",
              "    <tr style=\"text-align: right;\">\n",
              "      <th>title</th>\n",
              "      <th>7:19</th>\n",
              "      <th>23:59</th>\n",
              "      <th>9</th>\n",
              "      <th>21</th>\n",
              "      <th>122</th>\n",
              "      <th>187</th>\n",
              "      <th>706</th>\n",
              "      <th>1920</th>\n",
              "      <th>1922</th>\n",
              "      <th>2,215</th>\n",
              "      <th>...</th>\n",
              "      <th>Zoé: Panoramas</th>\n",
              "      <th>Zodiac</th>\n",
              "      <th>Zokkomon</th>\n",
              "      <th>Zombieland</th>\n",
              "      <th>Zoo</th>\n",
              "      <th>Zoom</th>\n",
              "      <th>Zozo</th>\n",
              "      <th>Zubaan</th>\n",
              "      <th>Zulu Man in Japan</th>\n",
              "      <th>ZZ TOP: THAT LITTLE OL' BAND FROM TEXAS</th>\n",
              "    </tr>\n",
              "    <tr>\n",
              "      <th>title</th>\n",
              "      <th></th>\n",
              "      <th></th>\n",
              "      <th></th>\n",
              "      <th></th>\n",
              "      <th></th>\n",
              "      <th></th>\n",
              "      <th></th>\n",
              "      <th></th>\n",
              "      <th></th>\n",
              "      <th></th>\n",
              "      <th></th>\n",
              "      <th></th>\n",
              "      <th></th>\n",
              "      <th></th>\n",
              "      <th></th>\n",
              "      <th></th>\n",
              "      <th></th>\n",
              "      <th></th>\n",
              "      <th></th>\n",
              "      <th></th>\n",
              "      <th></th>\n",
              "    </tr>\n",
              "  </thead>\n",
              "  <tbody>\n",
              "    <tr>\n",
              "      <th>7:19</th>\n",
              "      <td>1.0</td>\n",
              "      <td>0.0</td>\n",
              "      <td>0.000000</td>\n",
              "      <td>0.000000</td>\n",
              "      <td>0.0</td>\n",
              "      <td>0.027618</td>\n",
              "      <td>0.0</td>\n",
              "      <td>0.0</td>\n",
              "      <td>0.000000</td>\n",
              "      <td>0.0</td>\n",
              "      <td>...</td>\n",
              "      <td>0.0</td>\n",
              "      <td>0.0</td>\n",
              "      <td>0.0</td>\n",
              "      <td>0.000000</td>\n",
              "      <td>0.000000</td>\n",
              "      <td>0.016381</td>\n",
              "      <td>0.0</td>\n",
              "      <td>0.000000</td>\n",
              "      <td>0.093052</td>\n",
              "      <td>0.0</td>\n",
              "    </tr>\n",
              "    <tr>\n",
              "      <th>23:59</th>\n",
              "      <td>0.0</td>\n",
              "      <td>1.0</td>\n",
              "      <td>0.000000</td>\n",
              "      <td>0.000000</td>\n",
              "      <td>0.0</td>\n",
              "      <td>0.000000</td>\n",
              "      <td>0.0</td>\n",
              "      <td>0.0</td>\n",
              "      <td>0.000000</td>\n",
              "      <td>0.0</td>\n",
              "      <td>...</td>\n",
              "      <td>0.0</td>\n",
              "      <td>0.0</td>\n",
              "      <td>0.0</td>\n",
              "      <td>0.000000</td>\n",
              "      <td>0.042022</td>\n",
              "      <td>0.000000</td>\n",
              "      <td>0.0</td>\n",
              "      <td>0.000000</td>\n",
              "      <td>0.000000</td>\n",
              "      <td>0.0</td>\n",
              "    </tr>\n",
              "    <tr>\n",
              "      <th>9</th>\n",
              "      <td>0.0</td>\n",
              "      <td>0.0</td>\n",
              "      <td>1.000000</td>\n",
              "      <td>0.029333</td>\n",
              "      <td>0.0</td>\n",
              "      <td>0.000000</td>\n",
              "      <td>0.0</td>\n",
              "      <td>0.0</td>\n",
              "      <td>0.000000</td>\n",
              "      <td>0.0</td>\n",
              "      <td>...</td>\n",
              "      <td>0.0</td>\n",
              "      <td>0.0</td>\n",
              "      <td>0.0</td>\n",
              "      <td>0.023371</td>\n",
              "      <td>0.000000</td>\n",
              "      <td>0.000000</td>\n",
              "      <td>0.0</td>\n",
              "      <td>0.075939</td>\n",
              "      <td>0.000000</td>\n",
              "      <td>0.0</td>\n",
              "    </tr>\n",
              "    <tr>\n",
              "      <th>21</th>\n",
              "      <td>0.0</td>\n",
              "      <td>0.0</td>\n",
              "      <td>0.029333</td>\n",
              "      <td>1.000000</td>\n",
              "      <td>0.0</td>\n",
              "      <td>0.037268</td>\n",
              "      <td>0.0</td>\n",
              "      <td>0.0</td>\n",
              "      <td>0.000000</td>\n",
              "      <td>0.0</td>\n",
              "      <td>...</td>\n",
              "      <td>0.0</td>\n",
              "      <td>0.0</td>\n",
              "      <td>0.0</td>\n",
              "      <td>0.000000</td>\n",
              "      <td>0.000000</td>\n",
              "      <td>0.000000</td>\n",
              "      <td>0.0</td>\n",
              "      <td>0.000000</td>\n",
              "      <td>0.000000</td>\n",
              "      <td>0.0</td>\n",
              "    </tr>\n",
              "    <tr>\n",
              "      <th>122</th>\n",
              "      <td>0.0</td>\n",
              "      <td>0.0</td>\n",
              "      <td>0.000000</td>\n",
              "      <td>0.000000</td>\n",
              "      <td>1.0</td>\n",
              "      <td>0.000000</td>\n",
              "      <td>0.0</td>\n",
              "      <td>0.0</td>\n",
              "      <td>0.041665</td>\n",
              "      <td>0.0</td>\n",
              "      <td>...</td>\n",
              "      <td>0.0</td>\n",
              "      <td>0.0</td>\n",
              "      <td>0.0</td>\n",
              "      <td>0.000000</td>\n",
              "      <td>0.000000</td>\n",
              "      <td>0.000000</td>\n",
              "      <td>0.0</td>\n",
              "      <td>0.000000</td>\n",
              "      <td>0.000000</td>\n",
              "      <td>0.0</td>\n",
              "    </tr>\n",
              "  </tbody>\n",
              "</table>\n",
              "<p>5 rows × 5377 columns</p>\n",
              "</div>\n",
              "      <button class=\"colab-df-convert\" onclick=\"convertToInteractive('df-f6689824-9fa3-4421-9ba0-904a83c446d2')\"\n",
              "              title=\"Convert this dataframe to an interactive table.\"\n",
              "              style=\"display:none;\">\n",
              "        \n",
              "  <svg xmlns=\"http://www.w3.org/2000/svg\" height=\"24px\"viewBox=\"0 0 24 24\"\n",
              "       width=\"24px\">\n",
              "    <path d=\"M0 0h24v24H0V0z\" fill=\"none\"/>\n",
              "    <path d=\"M18.56 5.44l.94 2.06.94-2.06 2.06-.94-2.06-.94-.94-2.06-.94 2.06-2.06.94zm-11 1L8.5 8.5l.94-2.06 2.06-.94-2.06-.94L8.5 2.5l-.94 2.06-2.06.94zm10 10l.94 2.06.94-2.06 2.06-.94-2.06-.94-.94-2.06-.94 2.06-2.06.94z\"/><path d=\"M17.41 7.96l-1.37-1.37c-.4-.4-.92-.59-1.43-.59-.52 0-1.04.2-1.43.59L10.3 9.45l-7.72 7.72c-.78.78-.78 2.05 0 2.83L4 21.41c.39.39.9.59 1.41.59.51 0 1.02-.2 1.41-.59l7.78-7.78 2.81-2.81c.8-.78.8-2.07 0-2.86zM5.41 20L4 18.59l7.72-7.72 1.47 1.35L5.41 20z\"/>\n",
              "  </svg>\n",
              "      </button>\n",
              "      \n",
              "  <style>\n",
              "    .colab-df-container {\n",
              "      display:flex;\n",
              "      flex-wrap:wrap;\n",
              "      gap: 12px;\n",
              "    }\n",
              "\n",
              "    .colab-df-convert {\n",
              "      background-color: #E8F0FE;\n",
              "      border: none;\n",
              "      border-radius: 50%;\n",
              "      cursor: pointer;\n",
              "      display: none;\n",
              "      fill: #1967D2;\n",
              "      height: 32px;\n",
              "      padding: 0 0 0 0;\n",
              "      width: 32px;\n",
              "    }\n",
              "\n",
              "    .colab-df-convert:hover {\n",
              "      background-color: #E2EBFA;\n",
              "      box-shadow: 0px 1px 2px rgba(60, 64, 67, 0.3), 0px 1px 3px 1px rgba(60, 64, 67, 0.15);\n",
              "      fill: #174EA6;\n",
              "    }\n",
              "\n",
              "    [theme=dark] .colab-df-convert {\n",
              "      background-color: #3B4455;\n",
              "      fill: #D2E3FC;\n",
              "    }\n",
              "\n",
              "    [theme=dark] .colab-df-convert:hover {\n",
              "      background-color: #434B5C;\n",
              "      box-shadow: 0px 1px 3px 1px rgba(0, 0, 0, 0.15);\n",
              "      filter: drop-shadow(0px 1px 2px rgba(0, 0, 0, 0.3));\n",
              "      fill: #FFFFFF;\n",
              "    }\n",
              "  </style>\n",
              "\n",
              "      <script>\n",
              "        const buttonEl =\n",
              "          document.querySelector('#df-f6689824-9fa3-4421-9ba0-904a83c446d2 button.colab-df-convert');\n",
              "        buttonEl.style.display =\n",
              "          google.colab.kernel.accessAllowed ? 'block' : 'none';\n",
              "\n",
              "        async function convertToInteractive(key) {\n",
              "          const element = document.querySelector('#df-f6689824-9fa3-4421-9ba0-904a83c446d2');\n",
              "          const dataTable =\n",
              "            await google.colab.kernel.invokeFunction('convertToInteractive',\n",
              "                                                     [key], {});\n",
              "          if (!dataTable) return;\n",
              "\n",
              "          const docLinkHtml = 'Like what you see? Visit the ' +\n",
              "            '<a target=\"_blank\" href=https://colab.research.google.com/notebooks/data_table.ipynb>data table notebook</a>'\n",
              "            + ' to learn more about interactive tables.';\n",
              "          element.innerHTML = '';\n",
              "          dataTable['output_type'] = 'display_data';\n",
              "          await google.colab.output.renderOutput(dataTable, element);\n",
              "          const docLink = document.createElement('div');\n",
              "          docLink.innerHTML = docLinkHtml;\n",
              "          element.appendChild(docLink);\n",
              "        }\n",
              "      </script>\n",
              "    </div>\n",
              "  </div>\n",
              "  "
            ]
          },
          "metadata": {},
          "execution_count": 97
        }
      ]
    },
    {
      "cell_type": "code",
      "execution_count": null,
      "metadata": {
        "papermill": {
          "duration": 0.114792,
          "end_time": "2021-02-25T06:30:33.125146",
          "exception": false,
          "start_time": "2021-02-25T06:30:33.010354",
          "status": "completed"
        },
        "tags": [],
        "id": "kzcT-Aodihzh"
      },
      "outputs": [],
      "source": [
        "def get_recommendations(title, cosine_sim=cosine_sim_df):\n",
        "    idx = indices[title]\n",
        "    # Получаем похожести для этого фильма\n",
        "    sim_scores = list(enumerate(cosine_sim_df.loc[title]))\n",
        "\n",
        "    # Сортируем фильмы, основываясь на похожести\n",
        "    sim_scores = sorted(sim_scores, key=lambda x: x[1], reverse=True)\n",
        "    sim_scores = sim_scores[1:11]\n",
        "    # Получаем индексы фильма\n",
        "    movie_indices = [i[0] for i in sim_scores]\n",
        "\n",
        "    return netflix_movies['title'].iloc[movie_indices]"
      ]
    },
    {
      "cell_type": "markdown",
      "metadata": {
        "papermill": {
          "duration": 0.101017,
          "end_time": "2021-02-25T06:30:33.327763",
          "exception": false,
          "start_time": "2021-02-25T06:30:33.226746",
          "status": "completed"
        },
        "tags": [],
        "id": "zJMkVNrLihzi"
      },
      "source": [
        "Рекомендации, основанные на сюжете."
      ]
    },
    {
      "cell_type": "code",
      "source": [
        "netflix_movies[netflix_movies['title'] == 'Last Breath'].description.iloc[0]"
      ],
      "metadata": {
        "id": "ZeiK8zqrfJcg",
        "colab": {
          "base_uri": "https://localhost:8080/",
          "height": 36
        },
        "outputId": "3ab4ffc6-c8b7-4a18-a631-a239d2c2a9d8"
      },
      "execution_count": null,
      "outputs": [
        {
          "output_type": "execute_result",
          "data": {
            "text/plain": [
              "'A commercial diver becomes trapped on the ocean floor with dwindling oxygen and little hope of a timely rescue, so he tries to save himself.'"
            ],
            "application/vnd.google.colaboratory.intrinsic+json": {
              "type": "string"
            }
          },
          "metadata": {},
          "execution_count": 99
        }
      ]
    },
    {
      "cell_type": "code",
      "execution_count": null,
      "metadata": {
        "papermill": {
          "duration": 0.122499,
          "end_time": "2021-02-25T06:30:33.552162",
          "exception": false,
          "start_time": "2021-02-25T06:30:33.429663",
          "status": "completed"
        },
        "tags": [],
        "id": "y6QrKhlvihzi",
        "colab": {
          "base_uri": "https://localhost:8080/"
        },
        "outputId": "e2fbb677-6fad-44c4-d467-57485c76290c"
      },
      "outputs": [
        {
          "output_type": "execute_result",
          "data": {
            "text/plain": [
              "2972                                          In The Deep\n",
              "4111                                               Mine 9\n",
              "1325                                       Chicken Little\n",
              "4537                               NOVA: Thai Cave Rescue\n",
              "4332    My Little Pony Equestria Girls: Legend of Ever...\n",
              "905                                           Big Miracle\n",
              "4916                                              Posesif\n",
              "5411                                        Savage Raghda\n",
              "1846                              Dragon Quest Your Story\n",
              "5289                                        Rowdy Rathore\n",
              "Name: title, dtype: object"
            ]
          },
          "metadata": {},
          "execution_count": 100
        }
      ],
      "source": [
        "get_recommendations('Last Breath')"
      ]
    },
    {
      "cell_type": "code",
      "source": [
        "netflix_movies[netflix_movies['title'] == 'Chicken Little'].description.iloc[0]"
      ],
      "metadata": {
        "id": "7GjTpGVjfUNs",
        "colab": {
          "base_uri": "https://localhost:8080/",
          "height": 36
        },
        "outputId": "d7fd6724-dd9b-4129-d5a1-e9d38f319643"
      },
      "execution_count": null,
      "outputs": [
        {
          "output_type": "execute_result",
          "data": {
            "text/plain": [
              "\"No one believes Chicken Little when he tries to warn of an alien invasion – so it's up to him and his misfit friends to save the world!\""
            ],
            "application/vnd.google.colaboratory.intrinsic+json": {
              "type": "string"
            }
          },
          "metadata": {},
          "execution_count": 105
        }
      ]
    },
    {
      "cell_type": "code",
      "source": [
        "cosine_sim_df['Last Breath'].sort_values(ascending=False)"
      ],
      "metadata": {
        "id": "8HHl5TtbebVL",
        "colab": {
          "base_uri": "https://localhost:8080/"
        },
        "outputId": "ade142e8-6d47-4d9c-9356-1b85bb36ed41"
      },
      "execution_count": null,
      "outputs": [
        {
          "output_type": "execute_result",
          "data": {
            "text/plain": [
              "title\n",
              "Last Breath                                1.000000\n",
              "In The Deep                                0.268544\n",
              "Mine 9                                     0.154068\n",
              "Chicken Little                             0.144467\n",
              "NOVA: Thai Cave Rescue                     0.142818\n",
              "                                             ...   \n",
              "Hellboy                                    0.000000\n",
              "Helios                                     0.000000\n",
              "Heaven Without People                      0.000000\n",
              "Heartthrob                                 0.000000\n",
              "ZZ TOP: THAT LITTLE OL' BAND FROM TEXAS    0.000000\n",
              "Name: Last Breath, Length: 5377, dtype: float64"
            ]
          },
          "metadata": {},
          "execution_count": 103
        }
      ]
    }
  ],
  "metadata": {
    "kernelspec": {
      "display_name": "Python 3",
      "language": "python",
      "name": "python3"
    },
    "language_info": {
      "codemirror_mode": {
        "name": "ipython",
        "version": 3
      },
      "file_extension": ".py",
      "mimetype": "text/x-python",
      "name": "python",
      "nbconvert_exporter": "python",
      "pygments_lexer": "ipython3",
      "version": "3.7.6"
    },
    "papermill": {
      "duration": 54.537311,
      "end_time": "2021-02-25T06:30:43.290253",
      "environment_variables": {},
      "exception": null,
      "input_path": "__notebook__.ipynb",
      "output_path": "__notebook__.ipynb",
      "parameters": {},
      "start_time": "2021-02-25T06:29:48.752942",
      "version": "1.2.1"
    },
    "colab": {
      "name": "[GB] bootcamp.analytics.day1. netflix recommendation eda.ipynb",
      "provenance": [],
      "collapsed_sections": [],
      "toc_visible": true,
      "include_colab_link": true
    }
  },
  "nbformat": 4,
  "nbformat_minor": 0
}